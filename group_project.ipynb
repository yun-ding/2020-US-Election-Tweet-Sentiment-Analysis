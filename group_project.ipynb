{
  "nbformat": 4,
  "nbformat_minor": 0,
  "metadata": {
    "colab": {
      "name": "group_project.ipynb",
      "provenance": [],
      "collapsed_sections": []
    },
    "kernelspec": {
      "display_name": "Python 3",
      "name": "python3"
    }
  },
  "cells": [
    {
      "cell_type": "code",
      "metadata": {
        "colab": {
          "base_uri": "https://localhost:8080/"
        },
        "id": "cwAkne5J2F0N",
        "outputId": "3d4ce272-37c5-47da-ed1f-a1bd3e545870"
      },
      "source": [
        "from google.colab import drive\n",
        "drive.mount('/content/drive')"
      ],
      "execution_count": null,
      "outputs": [
        {
          "output_type": "stream",
          "text": [
            "Drive already mounted at /content/drive; to attempt to forcibly remount, call drive.mount(\"/content/drive\", force_remount=True).\n"
          ],
          "name": "stdout"
        }
      ]
    },
    {
      "cell_type": "code",
      "metadata": {
        "colab": {
          "base_uri": "https://localhost:8080/"
        },
        "id": "kETv0_UJ18hX",
        "outputId": "f20a1929-348e-441a-9e7e-6f59476b663c"
      },
      "source": [
        "%cd '/content/drive/dataset'\n",
      ],
      "execution_count": null,
      "outputs": [
        {
          "output_type": "stream",
          "text": [
            "/content/drive/dataset\n"
          ],
          "name": "stdout"
        }
      ]
    },
    {
      "cell_type": "code",
      "metadata": {
        "id": "ydeQleF33KCA"
      },
      "source": [
        "import numpy as np \n",
        "import pandas as pd \n",
        "import os\n",
        "import matplotlib.pyplot as plt\n",
        "import plotly.graph_objects as go\n",
        "from textblob import TextBlob\n",
        "import seaborn as sns\n",
        "import itertools\n",
        "import collections\n",
        "import datetime\n",
        "\n",
        "import nltk\n",
        "from nltk.corpus import stopwords\n",
        "import re\n",
        "import networkx\n",
        "from textblob import TextBlob"
      ],
      "execution_count": null,
      "outputs": []
    },
    {
      "cell_type": "markdown",
      "metadata": {
        "id": "VWbjCiGr320a"
      },
      "source": [
        "## Data Preprocessing\n",
        "* Combine the two csv files together to a new dataframe to analyze\n",
        "\n",
        "* Extract the useful column for processing and plotting\n",
        "\n",
        "* We only care about the data from (two weeks before election) to (two weeks after election)\n",
        "\n",
        "\n",
        "\n"
      ]
    },
    {
      "cell_type": "code",
      "metadata": {
        "colab": {
          "base_uri": "https://localhost:8080/",
          "height": 462
        },
        "id": "_ZXBrTHY2g9Y",
        "outputId": "bfa6ebe2-b40e-4bac-c84c-8304c3c947e8"
      },
      "source": [
        "df_trump = pd.read_csv('hashtag_donaldtrump.csv', lineterminator='\\n')\n",
        "df_biden = pd.read_csv('hashtag_joebiden.csv', lineterminator='\\n')\n",
        "df_trump['Candidate'] = 'Biden'\n",
        "df_biden['Candidate'] = 'Trump'\n",
        "\n",
        "df_both = pd.concat([df_trump,df_biden]).reset_index()\n",
        "del df_both['index']\n",
        "df_both.head(5)"
      ],
      "execution_count": null,
      "outputs": [
        {
          "output_type": "execute_result",
          "data": {
            "text/html": [
              "<div>\n",
              "<style scoped>\n",
              "    .dataframe tbody tr th:only-of-type {\n",
              "        vertical-align: middle;\n",
              "    }\n",
              "\n",
              "    .dataframe tbody tr th {\n",
              "        vertical-align: top;\n",
              "    }\n",
              "\n",
              "    .dataframe thead th {\n",
              "        text-align: right;\n",
              "    }\n",
              "</style>\n",
              "<table border=\"1\" class=\"dataframe\">\n",
              "  <thead>\n",
              "    <tr style=\"text-align: right;\">\n",
              "      <th></th>\n",
              "      <th>created_at</th>\n",
              "      <th>tweet_id</th>\n",
              "      <th>tweet</th>\n",
              "      <th>likes</th>\n",
              "      <th>retweet_count</th>\n",
              "      <th>source</th>\n",
              "      <th>user_id</th>\n",
              "      <th>user_name</th>\n",
              "      <th>user_screen_name</th>\n",
              "      <th>user_description</th>\n",
              "      <th>user_join_date</th>\n",
              "      <th>user_followers_count</th>\n",
              "      <th>user_location</th>\n",
              "      <th>lat</th>\n",
              "      <th>long</th>\n",
              "      <th>city</th>\n",
              "      <th>country</th>\n",
              "      <th>continent</th>\n",
              "      <th>state</th>\n",
              "      <th>state_code</th>\n",
              "      <th>collected_at</th>\n",
              "      <th>Candidate</th>\n",
              "    </tr>\n",
              "  </thead>\n",
              "  <tbody>\n",
              "    <tr>\n",
              "      <th>0</th>\n",
              "      <td>2020-10-15 00:00:01</td>\n",
              "      <td>1.316529e+18</td>\n",
              "      <td>#Elecciones2020 | En #Florida: #JoeBiden dice ...</td>\n",
              "      <td>0.0</td>\n",
              "      <td>0.0</td>\n",
              "      <td>TweetDeck</td>\n",
              "      <td>3.606665e+08</td>\n",
              "      <td>El Sol Latino News</td>\n",
              "      <td>elsollatinonews</td>\n",
              "      <td>🌐 Noticias de interés para latinos de la costa...</td>\n",
              "      <td>2011-08-23 15:33:45</td>\n",
              "      <td>1860.0</td>\n",
              "      <td>Philadelphia, PA / Miami, FL</td>\n",
              "      <td>25.774270</td>\n",
              "      <td>-80.193660</td>\n",
              "      <td>NaN</td>\n",
              "      <td>United States of America</td>\n",
              "      <td>North America</td>\n",
              "      <td>Florida</td>\n",
              "      <td>FL</td>\n",
              "      <td>2020-10-21 00:00:00</td>\n",
              "      <td>Biden</td>\n",
              "    </tr>\n",
              "    <tr>\n",
              "      <th>1</th>\n",
              "      <td>2020-10-15 00:00:01</td>\n",
              "      <td>1.316529e+18</td>\n",
              "      <td>Usa 2020, Trump contro Facebook e Twitter: cop...</td>\n",
              "      <td>26.0</td>\n",
              "      <td>9.0</td>\n",
              "      <td>Social Mediaset</td>\n",
              "      <td>3.316176e+08</td>\n",
              "      <td>Tgcom24</td>\n",
              "      <td>MediasetTgcom24</td>\n",
              "      <td>Profilo ufficiale di Tgcom24: tutte le notizie...</td>\n",
              "      <td>2011-07-08 13:12:20</td>\n",
              "      <td>1067661.0</td>\n",
              "      <td>NaN</td>\n",
              "      <td>NaN</td>\n",
              "      <td>NaN</td>\n",
              "      <td>NaN</td>\n",
              "      <td>NaN</td>\n",
              "      <td>NaN</td>\n",
              "      <td>NaN</td>\n",
              "      <td>NaN</td>\n",
              "      <td>2020-10-21 00:00:00.373216530</td>\n",
              "      <td>Biden</td>\n",
              "    </tr>\n",
              "    <tr>\n",
              "      <th>2</th>\n",
              "      <td>2020-10-15 00:00:02</td>\n",
              "      <td>1.316529e+18</td>\n",
              "      <td>#Trump: As a student I used to hear for years,...</td>\n",
              "      <td>2.0</td>\n",
              "      <td>1.0</td>\n",
              "      <td>Twitter Web App</td>\n",
              "      <td>8.436472e+06</td>\n",
              "      <td>snarke</td>\n",
              "      <td>snarke</td>\n",
              "      <td>Will mock for food! Freelance writer, blogger,...</td>\n",
              "      <td>2007-08-26 05:56:11</td>\n",
              "      <td>1185.0</td>\n",
              "      <td>Portland</td>\n",
              "      <td>45.520247</td>\n",
              "      <td>-122.674195</td>\n",
              "      <td>Portland</td>\n",
              "      <td>United States of America</td>\n",
              "      <td>North America</td>\n",
              "      <td>Oregon</td>\n",
              "      <td>OR</td>\n",
              "      <td>2020-10-21 00:00:00.746433060</td>\n",
              "      <td>Biden</td>\n",
              "    </tr>\n",
              "    <tr>\n",
              "      <th>3</th>\n",
              "      <td>2020-10-15 00:00:02</td>\n",
              "      <td>1.316529e+18</td>\n",
              "      <td>2 hours since last tweet from #Trump! Maybe he...</td>\n",
              "      <td>0.0</td>\n",
              "      <td>0.0</td>\n",
              "      <td>Trumpytweeter</td>\n",
              "      <td>8.283556e+17</td>\n",
              "      <td>Trumpytweeter</td>\n",
              "      <td>trumpytweeter</td>\n",
              "      <td>If he doesn't tweet for some time, should we b...</td>\n",
              "      <td>2017-02-05 21:32:17</td>\n",
              "      <td>32.0</td>\n",
              "      <td>NaN</td>\n",
              "      <td>NaN</td>\n",
              "      <td>NaN</td>\n",
              "      <td>NaN</td>\n",
              "      <td>NaN</td>\n",
              "      <td>NaN</td>\n",
              "      <td>NaN</td>\n",
              "      <td>NaN</td>\n",
              "      <td>2020-10-21 00:00:01.119649591</td>\n",
              "      <td>Biden</td>\n",
              "    </tr>\n",
              "    <tr>\n",
              "      <th>4</th>\n",
              "      <td>2020-10-15 00:00:08</td>\n",
              "      <td>1.316529e+18</td>\n",
              "      <td>You get a tie! And you get a tie! #Trump ‘s ra...</td>\n",
              "      <td>4.0</td>\n",
              "      <td>3.0</td>\n",
              "      <td>Twitter for iPhone</td>\n",
              "      <td>4.741380e+07</td>\n",
              "      <td>Rana Abtar - رنا أبتر</td>\n",
              "      <td>Ranaabtar</td>\n",
              "      <td>Washington Correspondent, Lebanese-American ,c...</td>\n",
              "      <td>2009-06-15 19:05:35</td>\n",
              "      <td>5393.0</td>\n",
              "      <td>Washington DC</td>\n",
              "      <td>38.894992</td>\n",
              "      <td>-77.036558</td>\n",
              "      <td>Washington</td>\n",
              "      <td>United States of America</td>\n",
              "      <td>North America</td>\n",
              "      <td>District of Columbia</td>\n",
              "      <td>DC</td>\n",
              "      <td>2020-10-21 00:00:01.492866121</td>\n",
              "      <td>Biden</td>\n",
              "    </tr>\n",
              "  </tbody>\n",
              "</table>\n",
              "</div>"
            ],
            "text/plain": [
              "            created_at      tweet_id  ...                   collected_at  Candidate\n",
              "0  2020-10-15 00:00:01  1.316529e+18  ...            2020-10-21 00:00:00      Biden\n",
              "1  2020-10-15 00:00:01  1.316529e+18  ...  2020-10-21 00:00:00.373216530      Biden\n",
              "2  2020-10-15 00:00:02  1.316529e+18  ...  2020-10-21 00:00:00.746433060      Biden\n",
              "3  2020-10-15 00:00:02  1.316529e+18  ...  2020-10-21 00:00:01.119649591      Biden\n",
              "4  2020-10-15 00:00:08  1.316529e+18  ...  2020-10-21 00:00:01.492866121      Biden\n",
              "\n",
              "[5 rows x 22 columns]"
            ]
          },
          "metadata": {
            "tags": []
          },
          "execution_count": 34
        }
      ]
    },
    {
      "cell_type": "code",
      "metadata": {
        "id": "eIn5td8D4GZ2"
      },
      "source": [
        "# set the timestamp variables to analyze\n",
        "df_both_copy = df_both.copy()\n",
        "df_both_copy['time_timestamp'] = pd.to_datetime(df_both_copy['created_at'], infer_datetime_format=True, format='%Y/%m/%d', utc=False)\n",
        "df_both_copy['date'] = df_both_copy['time_timestamp'].dt.date.astype('datetime64[ns]')\n",
        "\n",
        "before_s = \"2020-10-20\"\n",
        "before_e = \"2020-11-2\"\n",
        "election_day = \"2020-11-3\"\n",
        "after_s = \"2020-11-4\"\n",
        "after_e = \"2020-11-17\""
      ],
      "execution_count": null,
      "outputs": []
    },
    {
      "cell_type": "code",
      "metadata": {
        "colab": {
          "base_uri": "https://localhost:8080/"
        },
        "id": "EDuBOjVNVACl",
        "outputId": "8e80ed73-7e01-4d09-c650-fc4c4ec845fa"
      },
      "source": [
        "# data with timestamp whithin two weeks before the election day\n",
        "df_both_copy_before_election_1 = df_both_copy['date'] >= before_s\n",
        "df_both_copy_before_election_2 = df_both_copy['date'] <= before_e\n",
        "df_both_copy_before_election_between = df_both_copy_before_election_1 & df_both_copy_before_election_2\n",
        "# df_both_copy_before_election_between['time_wrt_election'] = 'before'\n",
        "# df_both_copy_before_election_between.type\n",
        "df_both_copy_before_election = df_both_copy.loc[df_both_copy_before_election_between].reset_index()\n",
        "df_both_copy_before_election['time_wrt_election'] = \"before_election\"\n",
        "print(df_both_copy_before_election.head())\n",
        "# print(len(df_both_copy_before_election.index))"
      ],
      "execution_count": null,
      "outputs": [
        {
          "output_type": "stream",
          "text": [
            "   index           created_at  ...       date time_wrt_election\n",
            "0  97476  2020-10-20 00:00:00  ... 2020-10-20   before_election\n",
            "1  97477  2020-10-20 00:00:00  ... 2020-10-20   before_election\n",
            "2  97478  2020-10-20 00:00:01  ... 2020-10-20   before_election\n",
            "3  97479  2020-10-20 00:00:01  ... 2020-10-20   before_election\n",
            "4  97480  2020-10-20 00:00:01  ... 2020-10-20   before_election\n",
            "\n",
            "[5 rows x 26 columns]\n"
          ],
          "name": "stdout"
        }
      ]
    },
    {
      "cell_type": "code",
      "metadata": {
        "colab": {
          "base_uri": "https://localhost:8080/"
        },
        "id": "fP8IDJCaLHSE",
        "outputId": "d3a24c8d-8721-4202-c7b2-1c8cdcf83573"
      },
      "source": [
        "# data on the election day\n",
        "df_both_copy_election_tmp = df_both_copy['date'] == election_day\n",
        "df_both_copy_election = df_both_copy.loc[df_both_copy_election_tmp].reset_index()\n",
        "df_both_copy_election['time_wrt_election'] = \"election_day\"\n",
        "print(df_both_copy_election.head())\n",
        "print(len(df_both_copy_election.index))"
      ],
      "execution_count": null,
      "outputs": [
        {
          "output_type": "stream",
          "text": [
            "    index           created_at  ...       date time_wrt_election\n",
            "0  458185  2020-11-03 00:00:00  ... 2020-11-03      election_day\n",
            "1  458186  2020-11-03 00:00:00  ... 2020-11-03      election_day\n",
            "2  458187  2020-11-03 00:00:00  ... 2020-11-03      election_day\n",
            "3  458188  2020-11-03 00:00:00  ... 2020-11-03      election_day\n",
            "4  458189  2020-11-03 00:00:00  ... 2020-11-03      election_day\n",
            "\n",
            "[5 rows x 26 columns]\n",
            "108787\n"
          ],
          "name": "stdout"
        }
      ]
    },
    {
      "cell_type": "code",
      "metadata": {
        "colab": {
          "base_uri": "https://localhost:8080/"
        },
        "id": "ziVdNMwkVGG2",
        "outputId": "d13680c8-6dae-485b-f92a-daf926cd4059"
      },
      "source": [
        "# data with timestamp whithin two weeks after the election day\n",
        "df_both_copy_after_election_1 = df_both_copy['date'] >= after_s\n",
        "df_both_copy_after_election_2 = df_both_copy['date'] <= after_e\n",
        "df_both_copy_after_election_between = df_both_copy_after_election_1 & df_both_copy_after_election_2\n",
        "df_both_copy_after_election = df_both_copy.loc[df_both_copy_after_election_between].reset_index()\n",
        "df_both_copy_after_election['time_wrt_election'] = \"after_election\"\n",
        "print(df_both_copy_after_election.head())\n",
        "print(len(df_both_copy_after_election.index))"
      ],
      "execution_count": null,
      "outputs": [
        {
          "output_type": "stream",
          "text": [
            "    index           created_at  ...       date time_wrt_election\n",
            "0  525472  2020-11-04 00:00:00  ... 2020-11-04    after_election\n",
            "1  525473  2020-11-04 00:00:00  ... 2020-11-04    after_election\n",
            "2  525474  2020-11-04 00:00:00  ... 2020-11-04    after_election\n",
            "3  525475  2020-11-04 00:00:00  ... 2020-11-04    after_election\n",
            "4  525476  2020-11-04 00:00:00  ... 2020-11-04    after_election\n",
            "\n",
            "[5 rows x 26 columns]\n",
            "869658\n"
          ],
          "name": "stdout"
        }
      ]
    },
    {
      "cell_type": "code",
      "metadata": {
        "colab": {
          "base_uri": "https://localhost:8080/"
        },
        "id": "oEa08Bl-VJAg",
        "outputId": "d0463670-bd0f-470a-e4f7-2a613fddaee1"
      },
      "source": [
        "# data during the two weeks before and after the election day(except the election day)\n",
        "df_total_election_month_tmp = pd.concat([df_both_copy_before_election, df_both_copy_after_election]).reset_index()\n",
        "del df_total_election_month_tmp['level_0']\n",
        "del df_total_election_month_tmp['index']\n",
        "print(df_total_election_month_tmp.head())"
      ],
      "execution_count": null,
      "outputs": [
        {
          "output_type": "stream",
          "text": [
            "            created_at      tweet_id  ...       date  time_wrt_election\n",
            "0  2020-10-20 00:00:00  1.318341e+18  ... 2020-10-20    before_election\n",
            "1  2020-10-20 00:00:00  1.318341e+18  ... 2020-10-20    before_election\n",
            "2  2020-10-20 00:00:01  1.318341e+18  ... 2020-10-20    before_election\n",
            "3  2020-10-20 00:00:01  1.318341e+18  ... 2020-10-20    before_election\n",
            "4  2020-10-20 00:00:01  1.318341e+18  ... 2020-10-20    before_election\n",
            "\n",
            "[5 rows x 25 columns]\n"
          ],
          "name": "stdout"
        }
      ]
    },
    {
      "cell_type": "code",
      "metadata": {
        "colab": {
          "base_uri": "https://localhost:8080/"
        },
        "id": "4PMYEbiFdae7",
        "outputId": "a241b0a6-a87c-4960-cd00-f8b7b32a8f28"
      },
      "source": [
        "# overall data during the two weeks before and after the election day\n",
        "df_total_election_month = pd.concat([df_total_election_month_tmp, df_both_copy_election])\n",
        "del df_total_election_month['index']\n",
        "print(df_total_election_month.head())"
      ],
      "execution_count": null,
      "outputs": [
        {
          "output_type": "stream",
          "text": [
            "            created_at      tweet_id  ...       date  time_wrt_election\n",
            "0  2020-10-20 00:00:00  1.318341e+18  ... 2020-10-20    before_election\n",
            "1  2020-10-20 00:00:00  1.318341e+18  ... 2020-10-20    before_election\n",
            "2  2020-10-20 00:00:01  1.318341e+18  ... 2020-10-20    before_election\n",
            "3  2020-10-20 00:00:01  1.318341e+18  ... 2020-10-20    before_election\n",
            "4  2020-10-20 00:00:01  1.318341e+18  ... 2020-10-20    before_election\n",
            "\n",
            "[5 rows x 25 columns]\n"
          ],
          "name": "stdout"
        }
      ]
    },
    {
      "cell_type": "markdown",
      "metadata": {
        "id": "Fzs2YiEklSqe"
      },
      "source": [
        "## Visualize the comparizon between two candidates"
      ]
    },
    {
      "cell_type": "markdown",
      "metadata": {
        "id": "3IgHf1kRlFVa"
      },
      "source": [
        "Comparizon about the tweet likes between two candidates"
      ]
    },
    {
      "cell_type": "code",
      "metadata": {
        "colab": {
          "base_uri": "https://localhost:8080/",
          "height": 281
        },
        "id": "bIhaaVvzmauv",
        "outputId": "32c9d26e-7880-4714-9659-fbdf1f17b5ac"
      },
      "source": [
        "result = df_total_election_month.groupby('Candidate').likes.count()\n",
        "result.plot(kind='pie')\n",
        "plt.title(\"Tweet Likes\")"
      ],
      "execution_count": null,
      "outputs": [
        {
          "output_type": "execute_result",
          "data": {
            "text/plain": [
              "Text(0.5, 1.0, 'Tweet Likes')"
            ]
          },
          "metadata": {
            "tags": []
          },
          "execution_count": 11
        },
        {
          "output_type": "display_data",
          "data": {
            "image/png": "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\n",
            "text/plain": [
              "<Figure size 432x288 with 1 Axes>"
            ]
          },
          "metadata": {
            "tags": []
          }
        }
      ]
    },
    {
      "cell_type": "markdown",
      "metadata": {
        "id": "U1WOemAgkef_"
      },
      "source": [
        "Comparizon about number of tweets within specific period"
      ]
    },
    {
      "cell_type": "code",
      "metadata": {
        "colab": {
          "base_uri": "https://localhost:8080/",
          "height": 542
        },
        "id": "vSSVn2mSVb5V",
        "outputId": "40c20f05-84f2-40b1-ca51-cd1169afe636"
      },
      "source": [
        "# a_Biden = df_both_copy_before_election[df_both_copy_before_election['Candidate']=='Biden'].groupby(by='date')['tweet'].count().sort_values(ascending=False).index\n",
        "# a_Biden = df_total_election_month[df_total_election_month['Candidate']=='Biden'].groupby(by='time_wrt_election').size()\n",
        "# display(a_Biden)\n",
        "a_Biden = df_total_election_month[df_total_election_month['Candidate']=='Biden'].groupby(by='time_wrt_election')['tweet'].count().sort_values().index\n",
        "b_Biden = df_total_election_month[df_total_election_month['Candidate']=='Biden'].groupby(by='time_wrt_election')['tweet'].count().sort_values()\n",
        "\n",
        "a_Trump = df_total_election_month[df_total_election_month['Candidate']=='Trump'].groupby(by='time_wrt_election')['tweet'].count().sort_values().index\n",
        "b_Trump = df_total_election_month[df_total_election_month['Candidate']=='Trump'].groupby(by='time_wrt_election')['tweet'].count().sort_values()\n",
        "\n",
        "fig = go.Figure([go.Bar(x = a_Biden, y = b_Biden, name='Joe Biden'), go.Bar(x = a_Trump, y = b_Trump, name='Donald Trump')])\n",
        "\n",
        "fig.update_layout(title_text='Total number of tweets for specific time period')\n",
        "fig.update_xaxes(title='Time Period')\n",
        "fig.update_yaxes(title='Number of Tweets')\n",
        "fig.show()"
      ],
      "execution_count": null,
      "outputs": [
        {
          "output_type": "display_data",
          "data": {
            "text/html": [
              "<html>\n",
              "<head><meta charset=\"utf-8\" /></head>\n",
              "<body>\n",
              "    <div>\n",
              "            <script src=\"https://cdnjs.cloudflare.com/ajax/libs/mathjax/2.7.5/MathJax.js?config=TeX-AMS-MML_SVG\"></script><script type=\"text/javascript\">if (window.MathJax) {MathJax.Hub.Config({SVG: {font: \"STIX-Web\"}});}</script>\n",
              "                <script type=\"text/javascript\">window.PlotlyConfig = {MathJaxConfig: 'local'};</script>\n",
              "        <script src=\"https://cdn.plot.ly/plotly-latest.min.js\"></script>    \n",
              "            <div id=\"ceccb1b4-f0e1-4911-98f1-bc8821784214\" class=\"plotly-graph-div\" style=\"height:525px; width:100%;\"></div>\n",
              "            <script type=\"text/javascript\">\n",
              "                \n",
              "                    window.PLOTLYENV=window.PLOTLYENV || {};\n",
              "                    \n",
              "                if (document.getElementById(\"ceccb1b4-f0e1-4911-98f1-bc8821784214\")) {\n",
              "                    Plotly.newPlot(\n",
              "                        'ceccb1b4-f0e1-4911-98f1-bc8821784214',\n",
              "                        [{\"name\": \"Joe Biden\", \"type\": \"bar\", \"x\": [\"election_day\", \"before_election\", \"after_election\"], \"y\": [67287, 360709, 445447]}, {\"name\": \"Donald Trump\", \"type\": \"bar\", \"x\": [\"election_day\", \"before_election\", \"after_election\"], \"y\": [41500, 245652, 424211]}],\n",
              "                        {\"template\": {\"data\": {\"bar\": [{\"error_x\": {\"color\": \"#2a3f5f\"}, \"error_y\": {\"color\": \"#2a3f5f\"}, \"marker\": {\"line\": {\"color\": \"#E5ECF6\", \"width\": 0.5}}, \"type\": \"bar\"}], \"barpolar\": [{\"marker\": {\"line\": {\"color\": \"#E5ECF6\", \"width\": 0.5}}, \"type\": \"barpolar\"}], \"carpet\": [{\"aaxis\": {\"endlinecolor\": \"#2a3f5f\", \"gridcolor\": \"white\", \"linecolor\": \"white\", \"minorgridcolor\": \"white\", \"startlinecolor\": \"#2a3f5f\"}, \"baxis\": {\"endlinecolor\": \"#2a3f5f\", \"gridcolor\": \"white\", \"linecolor\": \"white\", \"minorgridcolor\": \"white\", \"startlinecolor\": \"#2a3f5f\"}, \"type\": \"carpet\"}], \"choropleth\": [{\"colorbar\": {\"outlinewidth\": 0, \"ticks\": \"\"}, \"type\": \"choropleth\"}], \"contour\": [{\"colorbar\": {\"outlinewidth\": 0, \"ticks\": \"\"}, \"colorscale\": [[0.0, \"#0d0887\"], [0.1111111111111111, \"#46039f\"], [0.2222222222222222, \"#7201a8\"], [0.3333333333333333, \"#9c179e\"], [0.4444444444444444, \"#bd3786\"], [0.5555555555555556, \"#d8576b\"], [0.6666666666666666, \"#ed7953\"], [0.7777777777777778, \"#fb9f3a\"], [0.8888888888888888, \"#fdca26\"], [1.0, \"#f0f921\"]], \"type\": \"contour\"}], \"contourcarpet\": [{\"colorbar\": {\"outlinewidth\": 0, \"ticks\": \"\"}, \"type\": \"contourcarpet\"}], \"heatmap\": [{\"colorbar\": {\"outlinewidth\": 0, \"ticks\": \"\"}, \"colorscale\": [[0.0, \"#0d0887\"], [0.1111111111111111, \"#46039f\"], [0.2222222222222222, \"#7201a8\"], [0.3333333333333333, \"#9c179e\"], [0.4444444444444444, \"#bd3786\"], [0.5555555555555556, \"#d8576b\"], [0.6666666666666666, \"#ed7953\"], [0.7777777777777778, \"#fb9f3a\"], [0.8888888888888888, \"#fdca26\"], [1.0, \"#f0f921\"]], \"type\": \"heatmap\"}], \"heatmapgl\": [{\"colorbar\": {\"outlinewidth\": 0, \"ticks\": \"\"}, \"colorscale\": [[0.0, \"#0d0887\"], [0.1111111111111111, \"#46039f\"], [0.2222222222222222, \"#7201a8\"], [0.3333333333333333, \"#9c179e\"], [0.4444444444444444, \"#bd3786\"], [0.5555555555555556, \"#d8576b\"], [0.6666666666666666, \"#ed7953\"], [0.7777777777777778, \"#fb9f3a\"], [0.8888888888888888, \"#fdca26\"], [1.0, \"#f0f921\"]], \"type\": \"heatmapgl\"}], \"histogram\": [{\"marker\": {\"colorbar\": {\"outlinewidth\": 0, \"ticks\": \"\"}}, \"type\": \"histogram\"}], \"histogram2d\": [{\"colorbar\": {\"outlinewidth\": 0, \"ticks\": \"\"}, \"colorscale\": [[0.0, \"#0d0887\"], [0.1111111111111111, \"#46039f\"], [0.2222222222222222, \"#7201a8\"], [0.3333333333333333, \"#9c179e\"], [0.4444444444444444, \"#bd3786\"], [0.5555555555555556, \"#d8576b\"], [0.6666666666666666, \"#ed7953\"], [0.7777777777777778, \"#fb9f3a\"], [0.8888888888888888, \"#fdca26\"], [1.0, \"#f0f921\"]], \"type\": \"histogram2d\"}], \"histogram2dcontour\": [{\"colorbar\": {\"outlinewidth\": 0, \"ticks\": \"\"}, \"colorscale\": [[0.0, \"#0d0887\"], [0.1111111111111111, \"#46039f\"], [0.2222222222222222, \"#7201a8\"], [0.3333333333333333, \"#9c179e\"], [0.4444444444444444, \"#bd3786\"], [0.5555555555555556, \"#d8576b\"], [0.6666666666666666, \"#ed7953\"], [0.7777777777777778, \"#fb9f3a\"], [0.8888888888888888, \"#fdca26\"], [1.0, \"#f0f921\"]], \"type\": \"histogram2dcontour\"}], \"mesh3d\": [{\"colorbar\": {\"outlinewidth\": 0, \"ticks\": \"\"}, \"type\": \"mesh3d\"}], \"parcoords\": [{\"line\": {\"colorbar\": {\"outlinewidth\": 0, \"ticks\": \"\"}}, \"type\": \"parcoords\"}], \"pie\": [{\"automargin\": true, \"type\": \"pie\"}], \"scatter\": [{\"marker\": {\"colorbar\": {\"outlinewidth\": 0, \"ticks\": \"\"}}, \"type\": \"scatter\"}], \"scatter3d\": [{\"line\": {\"colorbar\": {\"outlinewidth\": 0, \"ticks\": \"\"}}, \"marker\": {\"colorbar\": {\"outlinewidth\": 0, \"ticks\": \"\"}}, \"type\": \"scatter3d\"}], \"scattercarpet\": [{\"marker\": {\"colorbar\": {\"outlinewidth\": 0, \"ticks\": \"\"}}, \"type\": \"scattercarpet\"}], \"scattergeo\": [{\"marker\": {\"colorbar\": {\"outlinewidth\": 0, \"ticks\": \"\"}}, \"type\": \"scattergeo\"}], \"scattergl\": [{\"marker\": {\"colorbar\": {\"outlinewidth\": 0, \"ticks\": \"\"}}, \"type\": \"scattergl\"}], \"scattermapbox\": [{\"marker\": {\"colorbar\": {\"outlinewidth\": 0, \"ticks\": \"\"}}, \"type\": \"scattermapbox\"}], \"scatterpolar\": [{\"marker\": {\"colorbar\": {\"outlinewidth\": 0, \"ticks\": \"\"}}, \"type\": \"scatterpolar\"}], \"scatterpolargl\": [{\"marker\": {\"colorbar\": {\"outlinewidth\": 0, \"ticks\": \"\"}}, \"type\": \"scatterpolargl\"}], \"scatterternary\": [{\"marker\": {\"colorbar\": {\"outlinewidth\": 0, \"ticks\": \"\"}}, \"type\": \"scatterternary\"}], \"surface\": [{\"colorbar\": {\"outlinewidth\": 0, \"ticks\": \"\"}, \"colorscale\": [[0.0, \"#0d0887\"], [0.1111111111111111, \"#46039f\"], [0.2222222222222222, \"#7201a8\"], [0.3333333333333333, \"#9c179e\"], [0.4444444444444444, \"#bd3786\"], [0.5555555555555556, \"#d8576b\"], [0.6666666666666666, \"#ed7953\"], [0.7777777777777778, \"#fb9f3a\"], [0.8888888888888888, \"#fdca26\"], [1.0, \"#f0f921\"]], \"type\": \"surface\"}], \"table\": [{\"cells\": {\"fill\": {\"color\": \"#EBF0F8\"}, \"line\": {\"color\": \"white\"}}, \"header\": {\"fill\": {\"color\": \"#C8D4E3\"}, \"line\": {\"color\": \"white\"}}, \"type\": \"table\"}]}, \"layout\": {\"annotationdefaults\": {\"arrowcolor\": \"#2a3f5f\", \"arrowhead\": 0, \"arrowwidth\": 1}, \"coloraxis\": {\"colorbar\": {\"outlinewidth\": 0, \"ticks\": \"\"}}, \"colorscale\": {\"diverging\": [[0, \"#8e0152\"], [0.1, \"#c51b7d\"], [0.2, \"#de77ae\"], [0.3, \"#f1b6da\"], [0.4, \"#fde0ef\"], [0.5, \"#f7f7f7\"], [0.6, \"#e6f5d0\"], [0.7, \"#b8e186\"], [0.8, \"#7fbc41\"], [0.9, \"#4d9221\"], [1, \"#276419\"]], \"sequential\": [[0.0, \"#0d0887\"], [0.1111111111111111, \"#46039f\"], [0.2222222222222222, \"#7201a8\"], [0.3333333333333333, \"#9c179e\"], [0.4444444444444444, \"#bd3786\"], [0.5555555555555556, \"#d8576b\"], [0.6666666666666666, \"#ed7953\"], [0.7777777777777778, \"#fb9f3a\"], [0.8888888888888888, \"#fdca26\"], [1.0, \"#f0f921\"]], \"sequentialminus\": [[0.0, \"#0d0887\"], [0.1111111111111111, \"#46039f\"], [0.2222222222222222, \"#7201a8\"], [0.3333333333333333, \"#9c179e\"], [0.4444444444444444, \"#bd3786\"], [0.5555555555555556, \"#d8576b\"], [0.6666666666666666, \"#ed7953\"], [0.7777777777777778, \"#fb9f3a\"], [0.8888888888888888, \"#fdca26\"], [1.0, \"#f0f921\"]]}, \"colorway\": [\"#636efa\", \"#EF553B\", \"#00cc96\", \"#ab63fa\", \"#FFA15A\", \"#19d3f3\", \"#FF6692\", \"#B6E880\", \"#FF97FF\", \"#FECB52\"], \"font\": {\"color\": \"#2a3f5f\"}, \"geo\": {\"bgcolor\": \"white\", \"lakecolor\": \"white\", \"landcolor\": \"#E5ECF6\", \"showlakes\": true, \"showland\": true, \"subunitcolor\": \"white\"}, \"hoverlabel\": {\"align\": \"left\"}, \"hovermode\": \"closest\", \"mapbox\": {\"style\": \"light\"}, \"paper_bgcolor\": \"white\", \"plot_bgcolor\": \"#E5ECF6\", \"polar\": {\"angularaxis\": {\"gridcolor\": \"white\", \"linecolor\": \"white\", \"ticks\": \"\"}, \"bgcolor\": \"#E5ECF6\", \"radialaxis\": {\"gridcolor\": \"white\", \"linecolor\": \"white\", \"ticks\": \"\"}}, \"scene\": {\"xaxis\": {\"backgroundcolor\": \"#E5ECF6\", \"gridcolor\": \"white\", \"gridwidth\": 2, \"linecolor\": \"white\", \"showbackground\": true, \"ticks\": \"\", \"zerolinecolor\": \"white\"}, \"yaxis\": {\"backgroundcolor\": \"#E5ECF6\", \"gridcolor\": \"white\", \"gridwidth\": 2, \"linecolor\": \"white\", \"showbackground\": true, \"ticks\": \"\", \"zerolinecolor\": \"white\"}, \"zaxis\": {\"backgroundcolor\": \"#E5ECF6\", \"gridcolor\": \"white\", \"gridwidth\": 2, \"linecolor\": \"white\", \"showbackground\": true, \"ticks\": \"\", \"zerolinecolor\": \"white\"}}, \"shapedefaults\": {\"line\": {\"color\": \"#2a3f5f\"}}, \"ternary\": {\"aaxis\": {\"gridcolor\": \"white\", \"linecolor\": \"white\", \"ticks\": \"\"}, \"baxis\": {\"gridcolor\": \"white\", \"linecolor\": \"white\", \"ticks\": \"\"}, \"bgcolor\": \"#E5ECF6\", \"caxis\": {\"gridcolor\": \"white\", \"linecolor\": \"white\", \"ticks\": \"\"}}, \"title\": {\"x\": 0.05}, \"xaxis\": {\"automargin\": true, \"gridcolor\": \"white\", \"linecolor\": \"white\", \"ticks\": \"\", \"title\": {\"standoff\": 15}, \"zerolinecolor\": \"white\", \"zerolinewidth\": 2}, \"yaxis\": {\"automargin\": true, \"gridcolor\": \"white\", \"linecolor\": \"white\", \"ticks\": \"\", \"title\": {\"standoff\": 15}, \"zerolinecolor\": \"white\", \"zerolinewidth\": 2}}}, \"title\": {\"text\": \"Total number of tweets for specific time period\"}, \"xaxis\": {\"title\": {\"text\": \"Time Period\"}}, \"yaxis\": {\"title\": {\"text\": \"Number of Tweets\"}}},\n",
              "                        {\"responsive\": true}\n",
              "                    ).then(function(){\n",
              "                            \n",
              "var gd = document.getElementById('ceccb1b4-f0e1-4911-98f1-bc8821784214');\n",
              "var x = new MutationObserver(function (mutations, observer) {{\n",
              "        var display = window.getComputedStyle(gd).display;\n",
              "        if (!display || display === 'none') {{\n",
              "            console.log([gd, 'removed!']);\n",
              "            Plotly.purge(gd);\n",
              "            observer.disconnect();\n",
              "        }}\n",
              "}});\n",
              "\n",
              "// Listen for the removal of the full notebook cells\n",
              "var notebookContainer = gd.closest('#notebook-container');\n",
              "if (notebookContainer) {{\n",
              "    x.observe(notebookContainer, {childList: true});\n",
              "}}\n",
              "\n",
              "// Listen for the clearing of the current output cell\n",
              "var outputEl = gd.closest('.output');\n",
              "if (outputEl) {{\n",
              "    x.observe(outputEl, {childList: true});\n",
              "}}\n",
              "\n",
              "                        })\n",
              "                };\n",
              "                \n",
              "            </script>\n",
              "        </div>\n",
              "</body>\n",
              "</html>"
            ]
          },
          "metadata": {
            "tags": []
          }
        }
      ]
    },
    {
      "cell_type": "markdown",
      "metadata": {
        "id": "cthfqfxKhWEE"
      },
      "source": [
        "**We can see that for each specific time period, the number of tweets that have hashtag \"Joe Biden\" are always greater than hashtag \"Donald Trump\". Maybe it has some correlation with respect to the result of the election.**"
      ]
    },
    {
      "cell_type": "markdown",
      "metadata": {
        "id": "JnZ9GINGkoO5"
      },
      "source": [
        "Comparizon about number of tweets for each states"
      ]
    },
    {
      "cell_type": "code",
      "metadata": {
        "colab": {
          "base_uri": "https://localhost:8080/",
          "height": 542
        },
        "id": "CIdUmGNxdZsi",
        "outputId": "eaa84e45-ca5b-4e91-f322-4b84e600efba"
      },
      "source": [
        "# state_a_Biden = df_total_election_month[df_total_election_month['Candidate']=='Biden' & df_total_election_month['country']=='United States of America'].groupby(by='state').count().tweet.sort_values(ascending=False).index\n",
        "state_a_Biden = df_total_election_month.query('(Candidate == \"Biden\")& (country == \"United States of America\") ').dropna(subset=['state']).groupby(by='state').count().tweet.sort_values(ascending=False).index\n",
        "state_b_Biden = df_total_election_month.query('(Candidate == \"Biden\")& (country == \"United States of America\") ').dropna(subset=['state']).groupby(by='state').count().tweet.sort_values(ascending=False)\n",
        "\n",
        "state_a_Trump = df_total_election_month.query('(Candidate == \"Trump\")& (country == \"United States of America\") ').dropna(subset=['state']).groupby(by='state').count().tweet.sort_values(ascending=False).index\n",
        "state_b_Trump = df_total_election_month.query('(Candidate == \"Trump\")& (country == \"United States of America\")').dropna(subset=['state']).groupby(by='state').count().tweet.sort_values(ascending=False)\n",
        "\n",
        "fig = go.Figure([go.Bar(x=state_a_Biden, y=state_b_Biden, name='Joe Biden'), go.Bar(x=state_a_Trump, y=state_b_Trump, name='Donald Trump')])\n",
        "\n",
        "\n",
        "fig.update_layout(title_text='Number of tweets for each states')\n",
        "fig.update_xaxes(title='states')\n",
        "fig.update_yaxes(title='number of tweets')\n",
        "fig.show()"
      ],
      "execution_count": null,
      "outputs": [
        {
          "output_type": "display_data",
          "data": {
            "text/html": [
              "<html>\n",
              "<head><meta charset=\"utf-8\" /></head>\n",
              "<body>\n",
              "    <div>\n",
              "            <script src=\"https://cdnjs.cloudflare.com/ajax/libs/mathjax/2.7.5/MathJax.js?config=TeX-AMS-MML_SVG\"></script><script type=\"text/javascript\">if (window.MathJax) {MathJax.Hub.Config({SVG: {font: \"STIX-Web\"}});}</script>\n",
              "                <script type=\"text/javascript\">window.PlotlyConfig = {MathJaxConfig: 'local'};</script>\n",
              "        <script src=\"https://cdn.plot.ly/plotly-latest.min.js\"></script>    \n",
              "            <div id=\"261a5ad7-01bb-4d69-9aab-66cd2c54e809\" class=\"plotly-graph-div\" style=\"height:525px; width:100%;\"></div>\n",
              "            <script type=\"text/javascript\">\n",
              "                \n",
              "                    window.PLOTLYENV=window.PLOTLYENV || {};\n",
              "                    \n",
              "                if (document.getElementById(\"261a5ad7-01bb-4d69-9aab-66cd2c54e809\")) {\n",
              "                    Plotly.newPlot(\n",
              "                        '261a5ad7-01bb-4d69-9aab-66cd2c54e809',\n",
              "                        [{\"name\": \"Joe Biden\", \"type\": \"bar\", \"x\": [\"California\", \"New York\", \"Texas\", \"Florida\", \"District of Columbia\", \"Pennsylvania\", \"Illinois\", \"New Jersey\", \"Massachusetts\", \"Ohio\", \"Colorado\", \"North Carolina\", \"Michigan\", \"Oregon\", \"Georgia\", \"Arizona\", \"Washington\", \"Virginia\", \"Nevada\", \"Missouri\", \"Tennessee\", \"Maryland\", \"Minnesota\", \"Indiana\", \"Kentucky\", \"Wisconsin\", \"Connecticut\", \"Louisiana\", \"South Carolina\", \"Kansas\", \"Oklahoma\", \"Utah\", \"Alabama\", \"Iowa\", \"Vermont\", \"Hawaii\", \"Idaho\", \"Arkansas\", \"Puerto Rico\", \"New Mexico\", \"North Dakota\", \"Maine\", \"Nebraska\", \"West Virginia\", \"New Hampshire\", \"Rhode Island\", \"Alaska\", \"Delaware\", \"Mississippi\", \"Wyoming\", \"Montana\", \"South Dakota\", \"Guam\"], \"y\": [26016, 19444, 14230, 14049, 8403, 6023, 5754, 4375, 4168, 3255, 2884, 2876, 2573, 2552, 2523, 2483, 2343, 2101, 2055, 2020, 1899, 1875, 1567, 1360, 1298, 1237, 992, 968, 953, 782, 761, 753, 741, 717, 716, 599, 523, 498, 445, 440, 392, 354, 316, 250, 240, 237, 225, 222, 218, 217, 149, 69, 4]}, {\"name\": \"Donald Trump\", \"type\": \"bar\", \"x\": [\"California\", \"New York\", \"Texas\", \"Florida\", \"District of Columbia\", \"Illinois\", \"Pennsylvania\", \"Ohio\", \"New Jersey\", \"Massachusetts\", \"Georgia\", \"Arizona\", \"Michigan\", \"North Carolina\", \"Colorado\", \"Virginia\", \"Nevada\", \"Oregon\", \"Washington\", \"Maryland\", \"Tennessee\", \"Missouri\", \"Minnesota\", \"Wisconsin\", \"Indiana\", \"Kentucky\", \"South Carolina\", \"Louisiana\", \"Connecticut\", \"Kansas\", \"Alabama\", \"Utah\", \"Oklahoma\", \"Hawaii\", \"Iowa\", \"Puerto Rico\", \"Alaska\", \"New Mexico\", \"Arkansas\", \"Idaho\", \"New Hampshire\", \"Nebraska\", \"West Virginia\", \"Delaware\", \"Maine\", \"North Dakota\", \"Mississippi\", \"Montana\", \"Rhode Island\", \"Vermont\", \"Wyoming\", \"South Dakota\", \"Guam\"], \"y\": [22443, 18511, 12161, 11191, 6318, 4802, 4723, 3924, 3448, 3248, 2858, 2763, 2706, 2628, 2317, 1983, 1927, 1872, 1787, 1777, 1729, 1563, 1421, 1407, 1369, 1076, 988, 898, 773, 762, 745, 727, 711, 562, 475, 448, 381, 371, 368, 350, 337, 317, 308, 308, 271, 252, 247, 221, 208, 192, 191, 77, 4]}],\n",
              "                        {\"template\": {\"data\": {\"bar\": [{\"error_x\": {\"color\": \"#2a3f5f\"}, \"error_y\": {\"color\": \"#2a3f5f\"}, \"marker\": {\"line\": {\"color\": \"#E5ECF6\", \"width\": 0.5}}, \"type\": \"bar\"}], \"barpolar\": [{\"marker\": {\"line\": {\"color\": \"#E5ECF6\", \"width\": 0.5}}, \"type\": \"barpolar\"}], \"carpet\": [{\"aaxis\": {\"endlinecolor\": \"#2a3f5f\", \"gridcolor\": \"white\", \"linecolor\": \"white\", \"minorgridcolor\": \"white\", \"startlinecolor\": \"#2a3f5f\"}, \"baxis\": {\"endlinecolor\": \"#2a3f5f\", \"gridcolor\": \"white\", \"linecolor\": \"white\", \"minorgridcolor\": \"white\", \"startlinecolor\": \"#2a3f5f\"}, \"type\": \"carpet\"}], \"choropleth\": [{\"colorbar\": {\"outlinewidth\": 0, \"ticks\": \"\"}, \"type\": \"choropleth\"}], \"contour\": [{\"colorbar\": {\"outlinewidth\": 0, \"ticks\": \"\"}, \"colorscale\": [[0.0, \"#0d0887\"], [0.1111111111111111, \"#46039f\"], [0.2222222222222222, \"#7201a8\"], [0.3333333333333333, \"#9c179e\"], [0.4444444444444444, \"#bd3786\"], [0.5555555555555556, \"#d8576b\"], [0.6666666666666666, \"#ed7953\"], [0.7777777777777778, \"#fb9f3a\"], [0.8888888888888888, \"#fdca26\"], [1.0, \"#f0f921\"]], \"type\": \"contour\"}], \"contourcarpet\": [{\"colorbar\": {\"outlinewidth\": 0, \"ticks\": \"\"}, \"type\": \"contourcarpet\"}], \"heatmap\": [{\"colorbar\": {\"outlinewidth\": 0, \"ticks\": \"\"}, \"colorscale\": [[0.0, \"#0d0887\"], [0.1111111111111111, \"#46039f\"], [0.2222222222222222, \"#7201a8\"], [0.3333333333333333, \"#9c179e\"], [0.4444444444444444, \"#bd3786\"], [0.5555555555555556, \"#d8576b\"], [0.6666666666666666, \"#ed7953\"], [0.7777777777777778, \"#fb9f3a\"], [0.8888888888888888, \"#fdca26\"], [1.0, \"#f0f921\"]], \"type\": \"heatmap\"}], \"heatmapgl\": [{\"colorbar\": {\"outlinewidth\": 0, \"ticks\": \"\"}, \"colorscale\": [[0.0, \"#0d0887\"], [0.1111111111111111, \"#46039f\"], [0.2222222222222222, \"#7201a8\"], [0.3333333333333333, \"#9c179e\"], [0.4444444444444444, \"#bd3786\"], [0.5555555555555556, \"#d8576b\"], [0.6666666666666666, \"#ed7953\"], [0.7777777777777778, \"#fb9f3a\"], [0.8888888888888888, \"#fdca26\"], [1.0, \"#f0f921\"]], \"type\": \"heatmapgl\"}], \"histogram\": [{\"marker\": {\"colorbar\": {\"outlinewidth\": 0, \"ticks\": \"\"}}, \"type\": \"histogram\"}], \"histogram2d\": [{\"colorbar\": {\"outlinewidth\": 0, \"ticks\": \"\"}, \"colorscale\": [[0.0, \"#0d0887\"], [0.1111111111111111, \"#46039f\"], [0.2222222222222222, \"#7201a8\"], [0.3333333333333333, \"#9c179e\"], [0.4444444444444444, \"#bd3786\"], [0.5555555555555556, \"#d8576b\"], [0.6666666666666666, \"#ed7953\"], [0.7777777777777778, \"#fb9f3a\"], [0.8888888888888888, \"#fdca26\"], [1.0, \"#f0f921\"]], \"type\": \"histogram2d\"}], \"histogram2dcontour\": [{\"colorbar\": {\"outlinewidth\": 0, \"ticks\": \"\"}, \"colorscale\": [[0.0, \"#0d0887\"], [0.1111111111111111, \"#46039f\"], [0.2222222222222222, \"#7201a8\"], [0.3333333333333333, \"#9c179e\"], [0.4444444444444444, \"#bd3786\"], [0.5555555555555556, \"#d8576b\"], [0.6666666666666666, \"#ed7953\"], [0.7777777777777778, \"#fb9f3a\"], [0.8888888888888888, \"#fdca26\"], [1.0, \"#f0f921\"]], \"type\": \"histogram2dcontour\"}], \"mesh3d\": [{\"colorbar\": {\"outlinewidth\": 0, \"ticks\": \"\"}, \"type\": \"mesh3d\"}], \"parcoords\": [{\"line\": {\"colorbar\": {\"outlinewidth\": 0, \"ticks\": \"\"}}, \"type\": \"parcoords\"}], \"pie\": [{\"automargin\": true, \"type\": \"pie\"}], \"scatter\": [{\"marker\": {\"colorbar\": {\"outlinewidth\": 0, \"ticks\": \"\"}}, \"type\": \"scatter\"}], \"scatter3d\": [{\"line\": {\"colorbar\": {\"outlinewidth\": 0, \"ticks\": \"\"}}, \"marker\": {\"colorbar\": {\"outlinewidth\": 0, \"ticks\": \"\"}}, \"type\": \"scatter3d\"}], \"scattercarpet\": [{\"marker\": {\"colorbar\": {\"outlinewidth\": 0, \"ticks\": \"\"}}, \"type\": \"scattercarpet\"}], \"scattergeo\": [{\"marker\": {\"colorbar\": {\"outlinewidth\": 0, \"ticks\": \"\"}}, \"type\": \"scattergeo\"}], \"scattergl\": [{\"marker\": {\"colorbar\": {\"outlinewidth\": 0, \"ticks\": \"\"}}, \"type\": \"scattergl\"}], \"scattermapbox\": [{\"marker\": {\"colorbar\": {\"outlinewidth\": 0, \"ticks\": \"\"}}, \"type\": \"scattermapbox\"}], \"scatterpolar\": [{\"marker\": {\"colorbar\": {\"outlinewidth\": 0, \"ticks\": \"\"}}, \"type\": \"scatterpolar\"}], \"scatterpolargl\": [{\"marker\": {\"colorbar\": {\"outlinewidth\": 0, \"ticks\": \"\"}}, \"type\": \"scatterpolargl\"}], \"scatterternary\": [{\"marker\": {\"colorbar\": {\"outlinewidth\": 0, \"ticks\": \"\"}}, \"type\": \"scatterternary\"}], \"surface\": [{\"colorbar\": {\"outlinewidth\": 0, \"ticks\": \"\"}, \"colorscale\": [[0.0, \"#0d0887\"], [0.1111111111111111, \"#46039f\"], [0.2222222222222222, \"#7201a8\"], [0.3333333333333333, \"#9c179e\"], [0.4444444444444444, \"#bd3786\"], [0.5555555555555556, \"#d8576b\"], [0.6666666666666666, \"#ed7953\"], [0.7777777777777778, \"#fb9f3a\"], [0.8888888888888888, \"#fdca26\"], [1.0, \"#f0f921\"]], \"type\": \"surface\"}], \"table\": [{\"cells\": {\"fill\": {\"color\": \"#EBF0F8\"}, \"line\": {\"color\": \"white\"}}, \"header\": {\"fill\": {\"color\": \"#C8D4E3\"}, \"line\": {\"color\": \"white\"}}, \"type\": \"table\"}]}, \"layout\": {\"annotationdefaults\": {\"arrowcolor\": \"#2a3f5f\", \"arrowhead\": 0, \"arrowwidth\": 1}, \"coloraxis\": {\"colorbar\": {\"outlinewidth\": 0, \"ticks\": \"\"}}, \"colorscale\": {\"diverging\": [[0, \"#8e0152\"], [0.1, \"#c51b7d\"], [0.2, \"#de77ae\"], [0.3, \"#f1b6da\"], [0.4, \"#fde0ef\"], [0.5, \"#f7f7f7\"], [0.6, \"#e6f5d0\"], [0.7, \"#b8e186\"], [0.8, \"#7fbc41\"], [0.9, \"#4d9221\"], [1, \"#276419\"]], \"sequential\": [[0.0, \"#0d0887\"], [0.1111111111111111, \"#46039f\"], [0.2222222222222222, \"#7201a8\"], [0.3333333333333333, \"#9c179e\"], [0.4444444444444444, \"#bd3786\"], [0.5555555555555556, \"#d8576b\"], [0.6666666666666666, \"#ed7953\"], [0.7777777777777778, \"#fb9f3a\"], [0.8888888888888888, \"#fdca26\"], [1.0, \"#f0f921\"]], \"sequentialminus\": [[0.0, \"#0d0887\"], [0.1111111111111111, \"#46039f\"], [0.2222222222222222, \"#7201a8\"], [0.3333333333333333, \"#9c179e\"], [0.4444444444444444, \"#bd3786\"], [0.5555555555555556, \"#d8576b\"], [0.6666666666666666, \"#ed7953\"], [0.7777777777777778, \"#fb9f3a\"], [0.8888888888888888, \"#fdca26\"], [1.0, \"#f0f921\"]]}, \"colorway\": [\"#636efa\", \"#EF553B\", \"#00cc96\", \"#ab63fa\", \"#FFA15A\", \"#19d3f3\", \"#FF6692\", \"#B6E880\", \"#FF97FF\", \"#FECB52\"], \"font\": {\"color\": \"#2a3f5f\"}, \"geo\": {\"bgcolor\": \"white\", \"lakecolor\": \"white\", \"landcolor\": \"#E5ECF6\", \"showlakes\": true, \"showland\": true, \"subunitcolor\": \"white\"}, \"hoverlabel\": {\"align\": \"left\"}, \"hovermode\": \"closest\", \"mapbox\": {\"style\": \"light\"}, \"paper_bgcolor\": \"white\", \"plot_bgcolor\": \"#E5ECF6\", \"polar\": {\"angularaxis\": {\"gridcolor\": \"white\", \"linecolor\": \"white\", \"ticks\": \"\"}, \"bgcolor\": \"#E5ECF6\", \"radialaxis\": {\"gridcolor\": \"white\", \"linecolor\": \"white\", \"ticks\": \"\"}}, \"scene\": {\"xaxis\": {\"backgroundcolor\": \"#E5ECF6\", \"gridcolor\": \"white\", \"gridwidth\": 2, \"linecolor\": \"white\", \"showbackground\": true, \"ticks\": \"\", \"zerolinecolor\": \"white\"}, \"yaxis\": {\"backgroundcolor\": \"#E5ECF6\", \"gridcolor\": \"white\", \"gridwidth\": 2, \"linecolor\": \"white\", \"showbackground\": true, \"ticks\": \"\", \"zerolinecolor\": \"white\"}, \"zaxis\": {\"backgroundcolor\": \"#E5ECF6\", \"gridcolor\": \"white\", \"gridwidth\": 2, \"linecolor\": \"white\", \"showbackground\": true, \"ticks\": \"\", \"zerolinecolor\": \"white\"}}, \"shapedefaults\": {\"line\": {\"color\": \"#2a3f5f\"}}, \"ternary\": {\"aaxis\": {\"gridcolor\": \"white\", \"linecolor\": \"white\", \"ticks\": \"\"}, \"baxis\": {\"gridcolor\": \"white\", \"linecolor\": \"white\", \"ticks\": \"\"}, \"bgcolor\": \"#E5ECF6\", \"caxis\": {\"gridcolor\": \"white\", \"linecolor\": \"white\", \"ticks\": \"\"}}, \"title\": {\"x\": 0.05}, \"xaxis\": {\"automargin\": true, \"gridcolor\": \"white\", \"linecolor\": \"white\", \"ticks\": \"\", \"title\": {\"standoff\": 15}, \"zerolinecolor\": \"white\", \"zerolinewidth\": 2}, \"yaxis\": {\"automargin\": true, \"gridcolor\": \"white\", \"linecolor\": \"white\", \"ticks\": \"\", \"title\": {\"standoff\": 15}, \"zerolinecolor\": \"white\", \"zerolinewidth\": 2}}}, \"title\": {\"text\": \"Number of tweets for each states\"}, \"xaxis\": {\"title\": {\"text\": \"states\"}}, \"yaxis\": {\"title\": {\"text\": \"number of tweets\"}}},\n",
              "                        {\"responsive\": true}\n",
              "                    ).then(function(){\n",
              "                            \n",
              "var gd = document.getElementById('261a5ad7-01bb-4d69-9aab-66cd2c54e809');\n",
              "var x = new MutationObserver(function (mutations, observer) {{\n",
              "        var display = window.getComputedStyle(gd).display;\n",
              "        if (!display || display === 'none') {{\n",
              "            console.log([gd, 'removed!']);\n",
              "            Plotly.purge(gd);\n",
              "            observer.disconnect();\n",
              "        }}\n",
              "}});\n",
              "\n",
              "// Listen for the removal of the full notebook cells\n",
              "var notebookContainer = gd.closest('#notebook-container');\n",
              "if (notebookContainer) {{\n",
              "    x.observe(notebookContainer, {childList: true});\n",
              "}}\n",
              "\n",
              "// Listen for the clearing of the current output cell\n",
              "var outputEl = gd.closest('.output');\n",
              "if (outputEl) {{\n",
              "    x.observe(outputEl, {childList: true});\n",
              "}}\n",
              "\n",
              "                        })\n",
              "                };\n",
              "                \n",
              "            </script>\n",
              "        </div>\n",
              "</body>\n",
              "</html>"
            ]
          },
          "metadata": {
            "tags": []
          }
        }
      ]
    },
    {
      "cell_type": "code",
      "metadata": {
        "id": "p_7zqFEET0G3"
      },
      "source": [
        ""
      ],
      "execution_count": null,
      "outputs": []
    },
    {
      "cell_type": "markdown",
      "metadata": {
        "id": "7Om5SRZh0hA7"
      },
      "source": [
        "# Naive Bayes Model Training and Testing"
      ]
    },
    {
      "cell_type": "markdown",
      "metadata": {
        "id": "2nxL6R5mrS8H"
      },
      "source": [
        "*   We want to firstly use the training dataset to train the Naive Bayes model. Then use the model to do the sentiment analysis on Tweets that hashtag Trump & Biden.\n",
        "*   We used training/testing ratio, alpha value, and ngram_range for parameter tuning process, however, the outcome seems not to change much.\n"
      ]
    },
    {
      "cell_type": "code",
      "metadata": {
        "id": "c10yWwt-XEDG"
      },
      "source": [
        "import pandas as pd\n",
        "import numpy as np\n",
        "import random, re\n",
        "from sklearn.naive_bayes import MultinomialNB\n",
        "from sklearn import metrics\n",
        "from sklearn.metrics import average_precision_score\n",
        "from sklearn.pipeline import Pipeline\n",
        "from sklearn.feature_extraction.text import CountVectorizer\n",
        "from sklearn.feature_extraction.text import HashingVectorizer\n",
        "from sklearn.feature_extraction.text import TfidfTransformer\n",
        "\n",
        "\n",
        "def tweets_processing(df):\n",
        "    # Prepares tweets for classifier\n",
        "\n",
        "    features = []\n",
        "    labels = []\n",
        "    for index, row in df.iterrows():\n",
        "      row['tweet'] = row['tweet'].replace(\"[^a-zA-Z#]\", \" \") #remove punctuations and special symbols\n",
        "      row['tweet'] = ' '.join([w for w in row['tweet'].split() if len(w)>3]) #remove short(meaningless) words\n",
        "      row['tweet'] = re.sub('((www\\..+)|(https?://.+))','', row['tweet']) # remove URLs\n",
        "      row['tweet'] = re.sub('@[^\\s]+','',row['tweet']) # remove tagged users\n",
        "      row['tweet'] = re.sub('[\\s]+', ' ', row['tweet'])\n",
        "      row['tweet'] = row['tweet'].lower()\n",
        "      if len(row['tweet'])==0:\n",
        "        continue\n",
        "\n",
        "      features.append(row['tweet'])\n",
        "      labels.append(row['label'])\n",
        "\n",
        "    labels = [float(l) for l in labels]\n",
        "    labels = [1 if l==4 else 0 for l in labels] # positive: 1; negative: 0\n",
        "    return features, labels\n",
        "\n",
        "def testNB(features, labels, test_features, test_labels):\n",
        "    \"\"\" Implements the Multiomial Naive Bayes Classifier and prints the precision score, classification report\n",
        "    and confusion matrix based on the specified test data. \"\"\"\n",
        "    from sklearn.metrics import average_precision_score\n",
        "    text_clf = Pipeline([('hv', HashingVectorizer(alternate_sign=False, stop_words = 'english')),\n",
        "                         ('tfidf', TfidfTransformer()),\n",
        "                         ('clf', MultinomialNB()),\n",
        "                         ])\n",
        "    text_clf.fit(features, labels)\n",
        "    pred_labels = text_clf.predict(test_features)\n",
        "\n",
        "    print(average_precision_score(test_labels, pred_labels))\n",
        "    print(metrics.classification_report(test_labels, pred_labels))\n",
        "    print(metrics.confusion_matrix(test_labels, pred_labels))"
      ],
      "execution_count": null,
      "outputs": []
    },
    {
      "cell_type": "code",
      "metadata": {
        "id": "o9fJNthIO7JA"
      },
      "source": [
        "#processing training dataset\n",
        "from sklearn.utils import shuffle\n",
        "\n",
        "#tweets are labeled 4 if positive, 0 if negative\n",
        "df_train = pd.read_csv('training.csv', encoding='ISO-8859-1', lineterminator='\\n')\n",
        "df_train.columns = ['label', 'idx', 'time', 'query', 'user_id', 'tweet']\n",
        "\n",
        "df_train = df_train.loc[:, ['label', 'tweet']]\n",
        "df_train = df_train.sample(frac=1).reset_index(drop=True) #shuffle the dataframe\n"
      ],
      "execution_count": null,
      "outputs": []
    },
    {
      "cell_type": "code",
      "metadata": {
        "colab": {
          "base_uri": "https://localhost:8080/"
        },
        "id": "OLWHOcMhAycV",
        "outputId": "14d72b86-5995-4420-f335-ddf51800136f"
      },
      "source": [
        "print(df_train[:10])"
      ],
      "execution_count": null,
      "outputs": [
        {
          "output_type": "stream",
          "text": [
            "   label                                              tweet\n",
            "0      4  @m1ssg0rjess of course you love it, you got it...\n",
            "1      0                     @torisichelski what about me? \n",
            "2      4  heeeeeeey, uploading new videos on my YuTube a...\n",
            "3      4  @hartluck http://twitpic.com/6plry - ooooh loo...\n",
            "4      0  Went to the eye dr and I didn't get worse in 2...\n",
            "5      4  @KatGirl44 For a moment I thought you were sen...\n",
            "6      0  @Kettums youtube isnt being very nice to me.  ...\n",
            "7      4  @PinkLightning_ Fucking love that movie .At Di...\n",
            "8      4          @amyjackson10 pretty good how about you? \n",
            "9      0  Finished marking can't celebrate yet tho, got ...\n"
          ],
          "name": "stdout"
        }
      ]
    },
    {
      "cell_type": "code",
      "metadata": {
        "colab": {
          "base_uri": "https://localhost:8080/"
        },
        "id": "54hIIYmBbB8k",
        "outputId": "d26e3d51-c9ba-429d-bb2b-394e60a4f607"
      },
      "source": [
        "#80/20 train/test\n",
        "features, labels = tweets_processing(df_train[:1280000]) #1600000*0.8\n",
        "test_features, test_labels = tweets_processing(df_train[1280000:])\n",
        "testNB(features, labels, test_features, test_labels)"
      ],
      "execution_count": null,
      "outputs": [
        {
          "output_type": "stream",
          "text": [
            "0.6893806710230601\n",
            "              precision    recall  f1-score   support\n",
            "\n",
            "           0       0.74      0.77      0.75    158058\n",
            "           1       0.76      0.73      0.74    158081\n",
            "\n",
            "    accuracy                           0.75    316139\n",
            "   macro avg       0.75      0.75      0.75    316139\n",
            "weighted avg       0.75      0.75      0.75    316139\n",
            "\n",
            "[[121848  36210]\n",
            " [ 43138 114943]]\n"
          ],
          "name": "stdout"
        }
      ]
    },
    {
      "cell_type": "code",
      "metadata": {
        "colab": {
          "base_uri": "https://localhost:8080/"
        },
        "id": "Oijv8Mxywwl6",
        "outputId": "315a84dc-6b9b-41ef-8799-62ba5f20132e"
      },
      "source": [
        "#70/30 train/test\n",
        "df_train = df_train.sample(frac=1).reset_index(drop=True)\n",
        "features, labels = tweets_processing(df_train[:1120000])\n",
        "test_features, test_labels = tweets_processing(df_train[1120000:])\n",
        "testNB(features, labels, test_features, test_labels)"
      ],
      "execution_count": null,
      "outputs": [
        {
          "output_type": "stream",
          "text": [
            "0.689013122127093\n",
            "              precision    recall  f1-score   support\n",
            "\n",
            "           0       0.74      0.77      0.75    236837\n",
            "           1       0.76      0.72      0.74    237283\n",
            "\n",
            "    accuracy                           0.75    474120\n",
            "   macro avg       0.75      0.75      0.75    474120\n",
            "weighted avg       0.75      0.75      0.75    474120\n",
            "\n",
            "[[182810  54027]\n",
            " [ 65437 171846]]\n"
          ],
          "name": "stdout"
        }
      ]
    },
    {
      "cell_type": "code",
      "metadata": {
        "colab": {
          "base_uri": "https://localhost:8080/"
        },
        "id": "2Mex3Dz11KjP",
        "outputId": "4015b409-bff3-4335-b795-cdeca63028b8"
      },
      "source": [
        "#90/10 train/test\n",
        "df_train = df_train.sample(frac=1).reset_index(drop=True)\n",
        "features, labels = tweets_processing(df_train[:1440000])\n",
        "test_features, test_labels = tweets_processing(df_train[1440000:])\n",
        "testNB(features, labels, test_features, test_labels)"
      ],
      "execution_count": null,
      "outputs": [
        {
          "output_type": "stream",
          "text": [
            "0.6840865182099546\n",
            "              precision    recall  f1-score   support\n",
            "\n",
            "           0       0.74      0.77      0.75     79353\n",
            "           1       0.75      0.73      0.74     78623\n",
            "\n",
            "    accuracy                           0.75    157976\n",
            "   macro avg       0.75      0.75      0.75    157976\n",
            "weighted avg       0.75      0.75      0.75    157976\n",
            "\n",
            "[[60735 18618]\n",
            " [21493 57130]]\n"
          ],
          "name": "stdout"
        }
      ]
    },
    {
      "cell_type": "code",
      "metadata": {
        "id": "1-eU4RkI5dp5",
        "colab": {
          "base_uri": "https://localhost:8080/"
        },
        "outputId": "5007cd59-c85e-4ca7-ad45-0a43d22aea3b"
      },
      "source": [
        "#75/25 train/test\n",
        "df_train = df_train.sample(frac=1).reset_index(drop=True)\n",
        "features, labels = tweets_processing(df_train[:1200000])\n",
        "test_features, test_labels = tweets_processing(df_train[1200000:])\n",
        "testNB(features, labels, test_features, test_labels)"
      ],
      "execution_count": null,
      "outputs": [
        {
          "output_type": "stream",
          "text": [
            "0.6876824834857175\n",
            "              precision    recall  f1-score   support\n",
            "\n",
            "           0       0.74      0.77      0.75    198041\n",
            "           1       0.76      0.73      0.74    196953\n",
            "\n",
            "    accuracy                           0.75    394994\n",
            "   macro avg       0.75      0.75      0.75    394994\n",
            "weighted avg       0.75      0.75      0.75    394994\n",
            "\n",
            "[[152480  45561]\n",
            " [ 53747 143206]]\n"
          ],
          "name": "stdout"
        }
      ]
    },
    {
      "cell_type": "markdown",
      "metadata": {
        "id": "R5AQDRYdrzVZ"
      },
      "source": [
        "80/20 training/testing dataset has highest accuracy. Therefore we are using 80/20's set to train our Naive Bayes Model."
      ]
    },
    {
      "cell_type": "code",
      "metadata": {
        "id": "LWMXAqFtNZoV",
        "colab": {
          "base_uri": "https://localhost:8080/"
        },
        "outputId": "696c005e-6dfe-4b21-e3fa-3015311f9e85"
      },
      "source": [
        "import pandas as pd\n",
        "import numpy as np\n",
        "import random, re\n",
        "from sklearn.naive_bayes import MultinomialNB\n",
        "from sklearn import metrics\n",
        "from sklearn.metrics import average_precision_score\n",
        "from sklearn.pipeline import Pipeline\n",
        "from sklearn.feature_extraction.text import CountVectorizer\n",
        "from sklearn.feature_extraction.text import HashingVectorizer\n",
        "from sklearn.feature_extraction.text import TfidfTransformer\n",
        "\n",
        "df_train = df_train.sample(frac=1).reset_index(drop=True)\n",
        "training_features, training_labels = tweets_processing(df_train[:1280000]) #1600000*0.8\n",
        "testing_features, testing_labels = tweets_processing(df_train[1280000:])\n",
        "\n",
        "NBmodel = Pipeline([('hv', HashingVectorizer(alternate_sign=False, stop_words = 'english')),\n",
        "                     ('tfidf', TfidfTransformer()),\n",
        "                     ('clf', MultinomialNB()),\n",
        "                     ])\n",
        "NBmodel.fit(training_features, training_labels)"
      ],
      "execution_count": null,
      "outputs": [
        {
          "output_type": "execute_result",
          "data": {
            "text/plain": [
              "Pipeline(memory=None,\n",
              "         steps=[('hv',\n",
              "                 HashingVectorizer(alternate_sign=False, analyzer='word',\n",
              "                                   binary=False, decode_error='strict',\n",
              "                                   dtype=<class 'numpy.float64'>,\n",
              "                                   encoding='utf-8', input='content',\n",
              "                                   lowercase=True, n_features=1048576,\n",
              "                                   ngram_range=(1, 1), norm='l2',\n",
              "                                   preprocessor=None, stop_words='english',\n",
              "                                   strip_accents=None,\n",
              "                                   token_pattern='(?u)\\\\b\\\\w\\\\w+\\\\b',\n",
              "                                   tokenizer=None)),\n",
              "                ('tfidf',\n",
              "                 TfidfTransformer(norm='l2', smooth_idf=True,\n",
              "                                  sublinear_tf=False, use_idf=True)),\n",
              "                ('clf',\n",
              "                 MultinomialNB(alpha=1.0, class_prior=None, fit_prior=True))],\n",
              "         verbose=False)"
            ]
          },
          "metadata": {
            "tags": []
          },
          "execution_count": 53
        }
      ]
    },
    {
      "cell_type": "code",
      "metadata": {
        "colab": {
          "base_uri": "https://localhost:8080/"
        },
        "id": "h1w1fH1SuGdP",
        "outputId": "ed7da62d-5135-4e46-f8fd-869ae2d1e70c"
      },
      "source": [
        "predict_testing_labels = NBmodel.predict(testing_features)\n",
        "print(average_precision_score(testing_labels, predict_testing_labels))"
      ],
      "execution_count": null,
      "outputs": [
        {
          "output_type": "stream",
          "text": [
            "0.6866694926649585\n"
          ],
          "name": "stdout"
        }
      ]
    },
    {
      "cell_type": "code",
      "metadata": {
        "colab": {
          "base_uri": "https://localhost:8080/"
        },
        "id": "t17L1NgPobIs",
        "outputId": "3d3a84aa-45dd-4222-e33e-762d3eff141d"
      },
      "source": [
        "NBmodel.get_params()"
      ],
      "execution_count": null,
      "outputs": [
        {
          "output_type": "execute_result",
          "data": {
            "text/plain": [
              "{'clf': MultinomialNB(alpha=1.0, class_prior=None, fit_prior=True),\n",
              " 'clf__alpha': 1.0,\n",
              " 'clf__class_prior': None,\n",
              " 'clf__fit_prior': True,\n",
              " 'hv': HashingVectorizer(alternate_sign=False, analyzer='word', binary=False,\n",
              "                   decode_error='strict', dtype=<class 'numpy.float64'>,\n",
              "                   encoding='utf-8', input='content', lowercase=True,\n",
              "                   n_features=1048576, ngram_range=(1, 1), norm='l2',\n",
              "                   preprocessor=None, stop_words='english', strip_accents=None,\n",
              "                   token_pattern='(?u)\\\\b\\\\w\\\\w+\\\\b', tokenizer=None),\n",
              " 'hv__alternate_sign': False,\n",
              " 'hv__analyzer': 'word',\n",
              " 'hv__binary': False,\n",
              " 'hv__decode_error': 'strict',\n",
              " 'hv__dtype': numpy.float64,\n",
              " 'hv__encoding': 'utf-8',\n",
              " 'hv__input': 'content',\n",
              " 'hv__lowercase': True,\n",
              " 'hv__n_features': 1048576,\n",
              " 'hv__ngram_range': (1, 1),\n",
              " 'hv__norm': 'l2',\n",
              " 'hv__preprocessor': None,\n",
              " 'hv__stop_words': 'english',\n",
              " 'hv__strip_accents': None,\n",
              " 'hv__token_pattern': '(?u)\\\\b\\\\w\\\\w+\\\\b',\n",
              " 'hv__tokenizer': None,\n",
              " 'memory': None,\n",
              " 'steps': [('hv',\n",
              "   HashingVectorizer(alternate_sign=False, analyzer='word', binary=False,\n",
              "                     decode_error='strict', dtype=<class 'numpy.float64'>,\n",
              "                     encoding='utf-8', input='content', lowercase=True,\n",
              "                     n_features=1048576, ngram_range=(1, 1), norm='l2',\n",
              "                     preprocessor=None, stop_words='english', strip_accents=None,\n",
              "                     token_pattern='(?u)\\\\b\\\\w\\\\w+\\\\b', tokenizer=None)),\n",
              "  ('tfidf',\n",
              "   TfidfTransformer(norm='l2', smooth_idf=True, sublinear_tf=False, use_idf=True)),\n",
              "  ('clf', MultinomialNB(alpha=1.0, class_prior=None, fit_prior=True))],\n",
              " 'tfidf': TfidfTransformer(norm='l2', smooth_idf=True, sublinear_tf=False, use_idf=True),\n",
              " 'tfidf__norm': 'l2',\n",
              " 'tfidf__smooth_idf': True,\n",
              " 'tfidf__sublinear_tf': False,\n",
              " 'tfidf__use_idf': True,\n",
              " 'verbose': False}"
            ]
          },
          "metadata": {
            "tags": []
          },
          "execution_count": 60
        }
      ]
    },
    {
      "cell_type": "code",
      "metadata": {
        "colab": {
          "base_uri": "https://localhost:8080/"
        },
        "id": "5Ryk-JR9vy0u",
        "outputId": "178a0c58-3a0a-4a38-ce81-6efe0a05498f"
      },
      "source": [
        "NBmodel.steps[2]"
      ],
      "execution_count": null,
      "outputs": [
        {
          "output_type": "execute_result",
          "data": {
            "text/plain": [
              "('clf', MultinomialNB(alpha=1.0, class_prior=None, fit_prior=True))"
            ]
          },
          "metadata": {
            "tags": []
          },
          "execution_count": 66
        }
      ]
    },
    {
      "cell_type": "code",
      "metadata": {
        "id": "f3GaT6jy4SMk"
      },
      "source": [
        "NBmodel = Pipeline(memory=None,\n",
        "         steps=[('hv',\n",
        "                 HashingVectorizer(alternate_sign=False, analyzer='word',\n",
        "                                   binary=False, decode_error='strict',\n",
        "                                   encoding='utf-8', input='content',\n",
        "                                   lowercase=True, n_features=1048576,\n",
        "                                   ngram_range=(1, 1), norm='l2',\n",
        "                                   preprocessor=None, stop_words='english',\n",
        "                                   strip_accents=None,\n",
        "                                   token_pattern='(?u)\\\\b\\\\w\\\\w+\\\\b',\n",
        "                                   tokenizer=None)),\n",
        "                ('tfidf',\n",
        "                 TfidfTransformer(norm='l2', smooth_idf=True,\n",
        "                                  sublinear_tf=False, use_idf=True)),\n",
        "                ('clf',\n",
        "                 MultinomialNB(alpha=0.1, class_prior=None, fit_prior=True))],\n",
        "         verbose=False)"
      ],
      "execution_count": null,
      "outputs": []
    },
    {
      "cell_type": "code",
      "metadata": {
        "colab": {
          "base_uri": "https://localhost:8080/"
        },
        "id": "3o9Ab0he4Uig",
        "outputId": "a51679bb-cf8c-4d2e-a15b-cc40d887a1ef"
      },
      "source": [
        "#alpha=0.1\n",
        "training_features, training_labels = tweets_processing(df_train[:1280000]) #1600000*0.8\n",
        "testing_features, testing_labels = tweets_processing(df_train[1280000:])\n",
        "NBmodel.fit(training_features, training_labels)\n",
        "predict_testing_labels = NBmodel.predict(testing_features)\n",
        "print(average_precision_score(testing_labels, predict_testing_labels))"
      ],
      "execution_count": null,
      "outputs": [
        {
          "output_type": "stream",
          "text": [
            "0.6768105152045347\n"
          ],
          "name": "stdout"
        }
      ]
    },
    {
      "cell_type": "code",
      "metadata": {
        "id": "eznuiEldxOo8"
      },
      "source": [
        "NBmodel = Pipeline(memory=None,\n",
        "         steps=[('hv',\n",
        "                 HashingVectorizer(alternate_sign=False, analyzer='word',\n",
        "                                   binary=False, decode_error='strict',\n",
        "                                   encoding='utf-8', input='content',\n",
        "                                   lowercase=True, n_features=1048576,\n",
        "                                   ngram_range=(1, 1), norm='l2',\n",
        "                                   preprocessor=None, stop_words='english',\n",
        "                                   strip_accents=None,\n",
        "                                   token_pattern='(?u)\\\\b\\\\w\\\\w+\\\\b',\n",
        "                                   tokenizer=None)),\n",
        "                ('tfidf',\n",
        "                 TfidfTransformer(norm='l2', smooth_idf=True,\n",
        "                                  sublinear_tf=False, use_idf=True)),\n",
        "                ('clf',\n",
        "                 MultinomialNB(alpha=0.5, class_prior=None, fit_prior=True))],\n",
        "         verbose=False)"
      ],
      "execution_count": null,
      "outputs": []
    },
    {
      "cell_type": "code",
      "metadata": {
        "colab": {
          "base_uri": "https://localhost:8080/"
        },
        "id": "Qv-BPUd4x4Kv",
        "outputId": "6f52e344-ab76-4b27-d959-bf80ef4f4928"
      },
      "source": [
        "#alpha=0.5\n",
        "training_features, training_labels = tweets_processing(df_train[:1280000]) #1600000*0.8\n",
        "testing_features, testing_labels = tweets_processing(df_train[1280000:])\n",
        "NBmodel.fit(training_features, training_labels)\n",
        "predict_testing_labels = NBmodel.predict(testing_features)\n",
        "print(average_precision_score(testing_labels, predict_testing_labels))"
      ],
      "execution_count": null,
      "outputs": [
        {
          "output_type": "stream",
          "text": [
            "0.6833348609247548\n"
          ],
          "name": "stdout"
        }
      ]
    },
    {
      "cell_type": "code",
      "metadata": {
        "id": "GHZm4QnzzpST"
      },
      "source": [
        "NBmodel = Pipeline(memory=None,\n",
        "         steps=[('hv',\n",
        "                 HashingVectorizer(alternate_sign=False, analyzer='word',\n",
        "                                   binary=False, decode_error='strict',\n",
        "                                   encoding='utf-8', input='content',\n",
        "                                   lowercase=True, n_features=1048576,\n",
        "                                   ngram_range=(1, 1), norm='l2',\n",
        "                                   preprocessor=None, stop_words='english',\n",
        "                                   strip_accents=None,\n",
        "                                   token_pattern='(?u)\\\\b\\\\w\\\\w+\\\\b',\n",
        "                                   tokenizer=None)),\n",
        "                ('tfidf',\n",
        "                 TfidfTransformer(norm='l2', smooth_idf=True,\n",
        "                                  sublinear_tf=False, use_idf=True)),\n",
        "                ('clf',\n",
        "                 MultinomialNB(alpha=2.0, class_prior=None, fit_prior=True))],\n",
        "         verbose=False)"
      ],
      "execution_count": null,
      "outputs": []
    },
    {
      "cell_type": "code",
      "metadata": {
        "colab": {
          "base_uri": "https://localhost:8080/"
        },
        "id": "bbTjsbr3ztUf",
        "outputId": "bd50ba45-21af-40e9-84eb-34776e721617"
      },
      "source": [
        "#alpha=2.0\n",
        "training_features, training_labels = tweets_processing(df_train[:1280000]) #1600000*0.8\n",
        "testing_features, testing_labels = tweets_processing(df_train[1280000:])\n",
        "NBmodel.fit(training_features, training_labels)\n",
        "predict_testing_labels = NBmodel.predict(testing_features)\n",
        "print(average_precision_score(testing_labels, predict_testing_labels))"
      ],
      "execution_count": null,
      "outputs": [
        {
          "output_type": "stream",
          "text": [
            "0.6896455240416164\n"
          ],
          "name": "stdout"
        }
      ]
    },
    {
      "cell_type": "code",
      "metadata": {
        "id": "xZGMfR4p09kw"
      },
      "source": [
        "NBmodel = Pipeline(memory=None,\n",
        "         steps=[('hv',\n",
        "                 HashingVectorizer(alternate_sign=False, analyzer='word',\n",
        "                                   binary=False, decode_error='strict',\n",
        "                                   encoding='utf-8', input='content',\n",
        "                                   lowercase=True, n_features=1048576,\n",
        "                                   ngram_range=(1, 1), norm='l2',\n",
        "                                   preprocessor=None, stop_words='english',\n",
        "                                   strip_accents=None,\n",
        "                                   token_pattern='(?u)\\\\b\\\\w\\\\w+\\\\b',\n",
        "                                   tokenizer=None)),\n",
        "                ('tfidf',\n",
        "                 TfidfTransformer(norm='l2', smooth_idf=True,\n",
        "                                  sublinear_tf=False, use_idf=True)),\n",
        "                ('clf',\n",
        "                 MultinomialNB(alpha=2.5, class_prior=None, fit_prior=True))],\n",
        "         verbose=False)"
      ],
      "execution_count": null,
      "outputs": []
    },
    {
      "cell_type": "code",
      "metadata": {
        "colab": {
          "base_uri": "https://localhost:8080/"
        },
        "id": "uJJGAcqb1AA_",
        "outputId": "d10d00d6-805d-4cba-be7f-14ccfcb99085"
      },
      "source": [
        "#alpha=2.5\n",
        "training_features, training_labels = tweets_processing(df_train[:1280000]) #1600000*0.8\n",
        "testing_features, testing_labels = tweets_processing(df_train[1280000:])\n",
        "NBmodel.fit(training_features, training_labels)\n",
        "predict_testing_labels = NBmodel.predict(testing_features)\n",
        "print(average_precision_score(testing_labels, predict_testing_labels))"
      ],
      "execution_count": null,
      "outputs": [
        {
          "output_type": "stream",
          "text": [
            "0.6903720277475874\n"
          ],
          "name": "stdout"
        }
      ]
    },
    {
      "cell_type": "markdown",
      "metadata": {
        "id": "V1P8DbrHTIO_"
      },
      "source": [
        "In alpha=1.0, 0.1, 0.5, 2.0, 2.5, 2.5 has highest accuracy."
      ]
    },
    {
      "cell_type": "code",
      "metadata": {
        "id": "V9he8ilD9Sjb"
      },
      "source": [
        "NBmodel = Pipeline(memory=None,\n",
        "         steps=[('hv',\n",
        "                 HashingVectorizer(alternate_sign=False, analyzer='word',\n",
        "                                   binary=False, decode_error='strict',\n",
        "                                   encoding='utf-8', input='content',\n",
        "                                   lowercase=True, n_features=1048576,\n",
        "                                   ngram_range=(1, 2), norm='l2',\n",
        "                                   preprocessor=None, stop_words='english',\n",
        "                                   strip_accents=None,\n",
        "                                   token_pattern='(?u)\\\\b\\\\w\\\\w+\\\\b',\n",
        "                                   tokenizer=None)),\n",
        "                ('tfidf',\n",
        "                 TfidfTransformer(norm='l2', smooth_idf=True,\n",
        "                                  sublinear_tf=False, use_idf=True)),\n",
        "                ('clf',\n",
        "                 MultinomialNB(alpha=2.5, class_prior=None, fit_prior=True))],\n",
        "         verbose=False)"
      ],
      "execution_count": null,
      "outputs": []
    },
    {
      "cell_type": "code",
      "metadata": {
        "colab": {
          "base_uri": "https://localhost:8080/"
        },
        "id": "ahLJhT0HQ-jB",
        "outputId": "038ee707-7e3f-472b-b68a-d97e7b83fd15"
      },
      "source": [
        "#ngram_range=(1,2)\n",
        "training_features, training_labels = tweets_processing(df_train[:1280000]) #1600000*0.8\n",
        "testing_features, testing_labels = tweets_processing(df_train[1280000:])\n",
        "NBmodel.fit(training_features, training_labels)\n",
        "predict_testing_labels = NBmodel.predict(testing_features)\n",
        "print(average_precision_score(testing_labels, predict_testing_labels))"
      ],
      "execution_count": null,
      "outputs": [
        {
          "output_type": "stream",
          "text": [
            "0.6886161575309834\n"
          ],
          "name": "stdout"
        }
      ]
    },
    {
      "cell_type": "code",
      "metadata": {
        "id": "qcojHJjeShCC"
      },
      "source": [
        "NBmodel = Pipeline(memory=None,\n",
        "         steps=[('hv',\n",
        "                 HashingVectorizer(alternate_sign=False, analyzer='word',\n",
        "                                   binary=False, decode_error='strict',\n",
        "                                   encoding='utf-8', input='content',\n",
        "                                   lowercase=True, n_features=1048576,\n",
        "                                   ngram_range=(1, 3), norm='l2',\n",
        "                                   preprocessor=None, stop_words='english',\n",
        "                                   strip_accents=None,\n",
        "                                   token_pattern='(?u)\\\\b\\\\w\\\\w+\\\\b',\n",
        "                                   tokenizer=None)),\n",
        "                ('tfidf',\n",
        "                 TfidfTransformer(norm='l2', smooth_idf=True,\n",
        "                                  sublinear_tf=False, use_idf=True)),\n",
        "                ('clf',\n",
        "                 MultinomialNB(alpha=2.5, class_prior=None, fit_prior=True))],\n",
        "         verbose=False)"
      ],
      "execution_count": null,
      "outputs": []
    },
    {
      "cell_type": "code",
      "metadata": {
        "colab": {
          "base_uri": "https://localhost:8080/"
        },
        "id": "PlGFl610Sk7H",
        "outputId": "0f8c9222-2361-4255-fa31-a981dc580d70"
      },
      "source": [
        "#ngram_range=(1,3)\n",
        "training_features, training_labels = tweets_processing(df_train[:1280000]) #1600000*0.8\n",
        "testing_features, testing_labels = tweets_processing(df_train[1280000:])\n",
        "NBmodel.fit(training_features, training_labels)\n",
        "predict_testing_labels = NBmodel.predict(testing_features)\n",
        "print(average_precision_score(testing_labels, predict_testing_labels))"
      ],
      "execution_count": null,
      "outputs": [
        {
          "output_type": "stream",
          "text": [
            "0.6801410713596976\n"
          ],
          "name": "stdout"
        }
      ]
    },
    {
      "cell_type": "code",
      "metadata": {
        "id": "AFfxcJgbUjjn"
      },
      "source": [
        "NBmodel = Pipeline(memory=None,\n",
        "         steps=[('hv',\n",
        "                 HashingVectorizer(alternate_sign=False, analyzer='word',\n",
        "                                   binary=False, decode_error='strict',\n",
        "                                   encoding='utf-8', input='content',\n",
        "                                   lowercase=True, n_features=1048576,\n",
        "                                   ngram_range=(2, 2), norm='l2',\n",
        "                                   preprocessor=None, stop_words='english',\n",
        "                                   strip_accents=None,\n",
        "                                   token_pattern='(?u)\\\\b\\\\w\\\\w+\\\\b',\n",
        "                                   tokenizer=None)),\n",
        "                ('tfidf',\n",
        "                 TfidfTransformer(norm='l2', smooth_idf=True,\n",
        "                                  sublinear_tf=False, use_idf=True)),\n",
        "                ('clf',\n",
        "                 MultinomialNB(alpha=2.5, class_prior=None, fit_prior=True))],\n",
        "         verbose=False)"
      ],
      "execution_count": null,
      "outputs": []
    },
    {
      "cell_type": "code",
      "metadata": {
        "colab": {
          "base_uri": "https://localhost:8080/"
        },
        "id": "hFSyHDBZUjVR",
        "outputId": "aa5a0b62-78a2-4e92-e0d3-e93b9eaa2c06"
      },
      "source": [
        "#ngram_range=(2,2)\n",
        "training_features, training_labels = tweets_processing(df_train[:1280000]) #1600000*0.8\n",
        "testing_features, testing_labels = tweets_processing(df_train[1280000:])\n",
        "NBmodel.fit(training_features, training_labels)\n",
        "predict_testing_labels = NBmodel.predict(testing_features)\n",
        "print(average_precision_score(testing_labels, predict_testing_labels))"
      ],
      "execution_count": null,
      "outputs": [
        {
          "output_type": "stream",
          "text": [
            "0.6099658754928852\n"
          ],
          "name": "stdout"
        }
      ]
    },
    {
      "cell_type": "markdown",
      "metadata": {
        "id": "BoKnAW0sURzs"
      },
      "source": [
        "We have our model in ngram_range=(1,1) with highest accuracy of the four."
      ]
    },
    {
      "cell_type": "markdown",
      "metadata": {
        "id": "7CH5ZV7U9eqa"
      },
      "source": [
        "# 2020 US ELECTION TWEETS SENTIMENT ANALYSIS"
      ]
    },
    {
      "cell_type": "markdown",
      "metadata": {
        "id": "GyOCaonu82wV"
      },
      "source": [
        "We now have the highest accuracy NBmodel with 80/20 training/testing dataset and alpha=2.5. We are going to run our US 2020 Election Tweets Data!"
      ]
    },
    {
      "cell_type": "code",
      "metadata": {
        "id": "EP5Km-y7ocz2"
      },
      "source": [
        "trump_data = df_total_election_month[df_total_election_month['Candidate']=='Trump']\n",
        "trump_data = trump_data['tweet']\n",
        "biden_data = df_total_election_month[df_total_election_month['Candidate']=='Biden']\n",
        "biden_data = biden_data['tweet']\n",
        "\n",
        "trump_predicted_label = NBmodel.predict(trump_data)\n",
        "biden_predicted_label = NBmodel.predict(biden_data)"
      ],
      "execution_count": null,
      "outputs": []
    },
    {
      "cell_type": "code",
      "metadata": {
        "colab": {
          "base_uri": "https://localhost:8080/"
        },
        "id": "WHrIsUu3rElo",
        "outputId": "54abab7f-8aba-4e9a-889a-d1a8545b9ee4"
      },
      "source": [
        "trump_predicted_label[:10] #just to check"
      ],
      "execution_count": null,
      "outputs": [
        {
          "output_type": "execute_result",
          "data": {
            "text/plain": [
              "array([0, 1, 1, 1, 1, 1, 0, 1, 1, 1])"
            ]
          },
          "metadata": {
            "tags": []
          },
          "execution_count": 96
        }
      ]
    },
    {
      "cell_type": "code",
      "metadata": {
        "colab": {
          "base_uri": "https://localhost:8080/"
        },
        "id": "rmOZWzWMrHfK",
        "outputId": "6ef9d116-c3fb-4025-a4f3-625be397234c"
      },
      "source": [
        "biden_predicted_label[:10] #just to check"
      ],
      "execution_count": null,
      "outputs": [
        {
          "output_type": "execute_result",
          "data": {
            "text/plain": [
              "array([1, 1, 1, 1, 0, 0, 0, 1, 1, 1])"
            ]
          },
          "metadata": {
            "tags": []
          },
          "execution_count": 97
        }
      ]
    },
    {
      "cell_type": "code",
      "metadata": {
        "colab": {
          "base_uri": "https://localhost:8080/"
        },
        "id": "7Gws4IrUrLmj",
        "outputId": "36747113-c5eb-4192-9405-98d876d0d104"
      },
      "source": [
        "ori_trump_data = df_total_election_month[df_total_election_month['Candidate']=='Trump']\n",
        "ori_biden_data = df_total_election_month[df_total_election_month['Candidate']=='Biden']\n",
        "\n",
        "ori_trump_data['predicted sentiment'] = trump_predicted_label\n",
        "ori_biden_data['predicted sentiment'] = biden_predicted_label"
      ],
      "execution_count": null,
      "outputs": [
        {
          "output_type": "stream",
          "text": [
            "/usr/local/lib/python3.6/dist-packages/ipykernel_launcher.py:4: SettingWithCopyWarning:\n",
            "\n",
            "\n",
            "A value is trying to be set on a copy of a slice from a DataFrame.\n",
            "Try using .loc[row_indexer,col_indexer] = value instead\n",
            "\n",
            "See the caveats in the documentation: https://pandas.pydata.org/pandas-docs/stable/user_guide/indexing.html#returning-a-view-versus-a-copy\n",
            "\n",
            "/usr/local/lib/python3.6/dist-packages/ipykernel_launcher.py:5: SettingWithCopyWarning:\n",
            "\n",
            "\n",
            "A value is trying to be set on a copy of a slice from a DataFrame.\n",
            "Try using .loc[row_indexer,col_indexer] = value instead\n",
            "\n",
            "See the caveats in the documentation: https://pandas.pydata.org/pandas-docs/stable/user_guide/indexing.html#returning-a-view-versus-a-copy\n",
            "\n"
          ],
          "name": "stderr"
        }
      ]
    },
    {
      "cell_type": "code",
      "metadata": {
        "colab": {
          "base_uri": "https://localhost:8080/",
          "height": 719
        },
        "id": "-IKhPyHE-QXw",
        "outputId": "04b7741c-d195-4338-b6dc-61e28a5facf5"
      },
      "source": [
        "ori_trump_data[:10] #just to check"
      ],
      "execution_count": null,
      "outputs": [
        {
          "output_type": "execute_result",
          "data": {
            "text/html": [
              "<div>\n",
              "<style scoped>\n",
              "    .dataframe tbody tr th:only-of-type {\n",
              "        vertical-align: middle;\n",
              "    }\n",
              "\n",
              "    .dataframe tbody tr th {\n",
              "        vertical-align: top;\n",
              "    }\n",
              "\n",
              "    .dataframe thead th {\n",
              "        text-align: right;\n",
              "    }\n",
              "</style>\n",
              "<table border=\"1\" class=\"dataframe\">\n",
              "  <thead>\n",
              "    <tr style=\"text-align: right;\">\n",
              "      <th></th>\n",
              "      <th>created_at</th>\n",
              "      <th>tweet_id</th>\n",
              "      <th>tweet</th>\n",
              "      <th>likes</th>\n",
              "      <th>retweet_count</th>\n",
              "      <th>source</th>\n",
              "      <th>user_id</th>\n",
              "      <th>user_name</th>\n",
              "      <th>user_screen_name</th>\n",
              "      <th>user_description</th>\n",
              "      <th>user_join_date</th>\n",
              "      <th>user_followers_count</th>\n",
              "      <th>user_location</th>\n",
              "      <th>lat</th>\n",
              "      <th>long</th>\n",
              "      <th>city</th>\n",
              "      <th>country</th>\n",
              "      <th>continent</th>\n",
              "      <th>state</th>\n",
              "      <th>state_code</th>\n",
              "      <th>collected_at</th>\n",
              "      <th>Candidate</th>\n",
              "      <th>time_timestamp</th>\n",
              "      <th>date</th>\n",
              "      <th>time_wrt_election</th>\n",
              "      <th>predicted sentiment</th>\n",
              "    </tr>\n",
              "  </thead>\n",
              "  <tbody>\n",
              "    <tr>\n",
              "      <th>360709</th>\n",
              "      <td>2020-10-20 00:00:00</td>\n",
              "      <td>1.318341e+18</td>\n",
              "      <td>Near 80% of capital gains in the #US go to the...</td>\n",
              "      <td>0.0</td>\n",
              "      <td>0.0</td>\n",
              "      <td>TweetDeck</td>\n",
              "      <td>2.370645e+08</td>\n",
              "      <td>The Corner</td>\n",
              "      <td>thecornerdoteu</td>\n",
              "      <td>#Spain and #EU economies in a global context. ...</td>\n",
              "      <td>2011-01-12 00:36:40</td>\n",
              "      <td>1721.0</td>\n",
              "      <td>Global</td>\n",
              "      <td>NaN</td>\n",
              "      <td>NaN</td>\n",
              "      <td>NaN</td>\n",
              "      <td>NaN</td>\n",
              "      <td>NaN</td>\n",
              "      <td>NaN</td>\n",
              "      <td>NaN</td>\n",
              "      <td>2020-10-21 09:39:04.657209126</td>\n",
              "      <td>Trump</td>\n",
              "      <td>2020-10-20 00:00:00</td>\n",
              "      <td>2020-10-20</td>\n",
              "      <td>before_election</td>\n",
              "      <td>0</td>\n",
              "    </tr>\n",
              "    <tr>\n",
              "      <th>360710</th>\n",
              "      <td>2020-10-20 00:00:00</td>\n",
              "      <td>1.318341e+18</td>\n",
              "      <td>Las elecciones de Estados Unidos que se realiz...</td>\n",
              "      <td>1.0</td>\n",
              "      <td>0.0</td>\n",
              "      <td>TweetDeck</td>\n",
              "      <td>1.754808e+07</td>\n",
              "      <td>Diario El Heraldo</td>\n",
              "      <td>diarioelheraldo</td>\n",
              "      <td>Noticias de Honduras</td>\n",
              "      <td>2008-11-21 23:00:41</td>\n",
              "      <td>373940.0</td>\n",
              "      <td>Tegucigalpa, Honduras</td>\n",
              "      <td>14.105686</td>\n",
              "      <td>-87.204676</td>\n",
              "      <td>Tegucigalpa</td>\n",
              "      <td>Honduras</td>\n",
              "      <td>North America</td>\n",
              "      <td>Francisco Morazán</td>\n",
              "      <td>FM</td>\n",
              "      <td>2020-10-21 09:39:03.621554560</td>\n",
              "      <td>Trump</td>\n",
              "      <td>2020-10-20 00:00:00</td>\n",
              "      <td>2020-10-20</td>\n",
              "      <td>before_election</td>\n",
              "      <td>1</td>\n",
              "    </tr>\n",
              "    <tr>\n",
              "      <th>360711</th>\n",
              "      <td>2020-10-20 00:00:00</td>\n",
              "      <td>1.318341e+18</td>\n",
              "      <td>STU: \"Perhaps, you are, like me, amazed at the...</td>\n",
              "      <td>125.0</td>\n",
              "      <td>24.0</td>\n",
              "      <td>Twitter Web App</td>\n",
              "      <td>2.816105e+08</td>\n",
              "      <td>Varney &amp; Co.</td>\n",
              "      <td>Varneyco</td>\n",
              "      <td>Airing Weekdays at 9AM ET on the Fox Business ...</td>\n",
              "      <td>2011-04-13 16:27:54</td>\n",
              "      <td>663816.0</td>\n",
              "      <td>New York</td>\n",
              "      <td>40.712728</td>\n",
              "      <td>-74.006015</td>\n",
              "      <td>New York</td>\n",
              "      <td>United States of America</td>\n",
              "      <td>North America</td>\n",
              "      <td>New York</td>\n",
              "      <td>NY</td>\n",
              "      <td>2020-10-21 09:39:04.139381843</td>\n",
              "      <td>Trump</td>\n",
              "      <td>2020-10-20 00:00:00</td>\n",
              "      <td>2020-10-20</td>\n",
              "      <td>before_election</td>\n",
              "      <td>1</td>\n",
              "    </tr>\n",
              "    <tr>\n",
              "      <th>360712</th>\n",
              "      <td>2020-10-20 00:00:01</td>\n",
              "      <td>1.318341e+18</td>\n",
              "      <td>#Trump tells supporters: #Biden would surrende...</td>\n",
              "      <td>14.0</td>\n",
              "      <td>3.0</td>\n",
              "      <td>TweetDeck</td>\n",
              "      <td>1.925478e+08</td>\n",
              "      <td>Press TV</td>\n",
              "      <td>PressTV</td>\n",
              "      <td>Press TV is the first Iranian international ne...</td>\n",
              "      <td>2010-09-19 13:30:33</td>\n",
              "      <td>245587.0</td>\n",
              "      <td>Tehran, Iran</td>\n",
              "      <td>35.689252</td>\n",
              "      <td>51.389600</td>\n",
              "      <td>Tehran</td>\n",
              "      <td>Iran</td>\n",
              "      <td>Asia</td>\n",
              "      <td>Tehran Province</td>\n",
              "      <td>NaN</td>\n",
              "      <td>2020-10-21 09:39:05.692863692</td>\n",
              "      <td>Trump</td>\n",
              "      <td>2020-10-20 00:00:01</td>\n",
              "      <td>2020-10-20</td>\n",
              "      <td>before_election</td>\n",
              "      <td>1</td>\n",
              "    </tr>\n",
              "    <tr>\n",
              "      <th>360713</th>\n",
              "      <td>2020-10-20 00:00:01</td>\n",
              "      <td>1.318341e+18</td>\n",
              "      <td>How censorship REALLY works today — and how #T...</td>\n",
              "      <td>60.0</td>\n",
              "      <td>43.0</td>\n",
              "      <td>TweetDeck</td>\n",
              "      <td>3.018961e+09</td>\n",
              "      <td>Rebel News</td>\n",
              "      <td>RebelNewsOnline</td>\n",
              "      <td>Telling the other side of the story.</td>\n",
              "      <td>2015-02-13 23:28:17</td>\n",
              "      <td>189113.0</td>\n",
              "      <td>Canada and the world</td>\n",
              "      <td>61.066692</td>\n",
              "      <td>-107.991707</td>\n",
              "      <td>NaN</td>\n",
              "      <td>Canada</td>\n",
              "      <td>North America</td>\n",
              "      <td>NaN</td>\n",
              "      <td>NaN</td>\n",
              "      <td>2020-10-21 09:39:05.175036409</td>\n",
              "      <td>Trump</td>\n",
              "      <td>2020-10-20 00:00:01</td>\n",
              "      <td>2020-10-20</td>\n",
              "      <td>before_election</td>\n",
              "      <td>1</td>\n",
              "    </tr>\n",
              "    <tr>\n",
              "      <th>360714</th>\n",
              "      <td>2020-10-20 00:00:03</td>\n",
              "      <td>1.318341e+18</td>\n",
              "      <td>On God. 👊🇺🇲 #BidenHarris2020\\n#likeyourlifedep...</td>\n",
              "      <td>1.0</td>\n",
              "      <td>1.0</td>\n",
              "      <td>Twitter for Android</td>\n",
              "      <td>1.298849e+18</td>\n",
              "      <td>Elle</td>\n",
              "      <td>Elle02463591</td>\n",
              "      <td>*I♥️🇺🇲 &amp; support #Biden #Harris #BLM          ...</td>\n",
              "      <td>2020-08-27 05:03:42</td>\n",
              "      <td>14.0</td>\n",
              "      <td>Nth👣 &amp; Sth Carolina🏖️  🇺🇲</td>\n",
              "      <td>NaN</td>\n",
              "      <td>NaN</td>\n",
              "      <td>NaN</td>\n",
              "      <td>NaN</td>\n",
              "      <td>NaN</td>\n",
              "      <td>NaN</td>\n",
              "      <td>NaN</td>\n",
              "      <td>2020-10-21 09:39:06.210690975</td>\n",
              "      <td>Trump</td>\n",
              "      <td>2020-10-20 00:00:03</td>\n",
              "      <td>2020-10-20</td>\n",
              "      <td>before_election</td>\n",
              "      <td>1</td>\n",
              "    </tr>\n",
              "    <tr>\n",
              "      <th>360715</th>\n",
              "      <td>2020-10-20 00:00:04</td>\n",
              "      <td>1.318341e+18</td>\n",
              "      <td>@realDonaldTrump  @PrisonPlanet  #Biden https:...</td>\n",
              "      <td>0.0</td>\n",
              "      <td>0.0</td>\n",
              "      <td>Twitter for Android</td>\n",
              "      <td>3.786561e+08</td>\n",
              "      <td>W3News</td>\n",
              "      <td>W3NewsNet</td>\n",
              "      <td>It’s our job to aggregate news from around the...</td>\n",
              "      <td>2011-09-23 15:42:31</td>\n",
              "      <td>1825.0</td>\n",
              "      <td>Canada | United States</td>\n",
              "      <td>37.605657</td>\n",
              "      <td>-82.324309</td>\n",
              "      <td>NaN</td>\n",
              "      <td>United States of America</td>\n",
              "      <td>North America</td>\n",
              "      <td>Kentucky</td>\n",
              "      <td>KY</td>\n",
              "      <td>2020-10-21 09:39:06.728518258</td>\n",
              "      <td>Trump</td>\n",
              "      <td>2020-10-20 00:00:04</td>\n",
              "      <td>2020-10-20</td>\n",
              "      <td>before_election</td>\n",
              "      <td>0</td>\n",
              "    </tr>\n",
              "    <tr>\n",
              "      <th>360716</th>\n",
              "      <td>2020-10-20 00:00:07</td>\n",
              "      <td>1.318341e+18</td>\n",
              "      <td>Rolling Stone Endorses #JoeBiden for President...</td>\n",
              "      <td>3.0</td>\n",
              "      <td>0.0</td>\n",
              "      <td>Hootsuite Inc.</td>\n",
              "      <td>2.850973e+08</td>\n",
              "      <td>Politics Village (#StillWithHer #KHive #TeamJoe)</td>\n",
              "      <td>PoliticsVillage</td>\n",
              "      <td>News/opinions about 2020 election. WA Delegate...</td>\n",
              "      <td>2011-04-20 14:35:22</td>\n",
              "      <td>13636.0</td>\n",
              "      <td>NaN</td>\n",
              "      <td>NaN</td>\n",
              "      <td>NaN</td>\n",
              "      <td>NaN</td>\n",
              "      <td>NaN</td>\n",
              "      <td>NaN</td>\n",
              "      <td>NaN</td>\n",
              "      <td>NaN</td>\n",
              "      <td>2020-10-21 09:39:07.246345541</td>\n",
              "      <td>Trump</td>\n",
              "      <td>2020-10-20 00:00:07</td>\n",
              "      <td>2020-10-20</td>\n",
              "      <td>before_election</td>\n",
              "      <td>1</td>\n",
              "    </tr>\n",
              "    <tr>\n",
              "      <th>360717</th>\n",
              "      <td>2020-10-20 00:00:09</td>\n",
              "      <td>1.318341e+18</td>\n",
              "      <td>@kylegriffin1 #Biden #ManOfTheMoment #BidenHar...</td>\n",
              "      <td>0.0</td>\n",
              "      <td>1.0</td>\n",
              "      <td>Twitter Web App</td>\n",
              "      <td>1.099413e+18</td>\n",
              "      <td>maria smith</td>\n",
              "      <td>mariasm98804986</td>\n",
              "      <td>NaN</td>\n",
              "      <td>2019-02-23 20:56:29</td>\n",
              "      <td>110.0</td>\n",
              "      <td>NaN</td>\n",
              "      <td>NaN</td>\n",
              "      <td>NaN</td>\n",
              "      <td>NaN</td>\n",
              "      <td>NaN</td>\n",
              "      <td>NaN</td>\n",
              "      <td>NaN</td>\n",
              "      <td>NaN</td>\n",
              "      <td>2020-10-21 09:39:08.282000107</td>\n",
              "      <td>Trump</td>\n",
              "      <td>2020-10-20 00:00:09</td>\n",
              "      <td>2020-10-20</td>\n",
              "      <td>before_election</td>\n",
              "      <td>1</td>\n",
              "    </tr>\n",
              "    <tr>\n",
              "      <th>360718</th>\n",
              "      <td>2020-10-20 00:00:23</td>\n",
              "      <td>1.318341e+18</td>\n",
              "      <td>HUGE win for #VotingRights\\n\\n#Biden-Harris202...</td>\n",
              "      <td>0.0</td>\n",
              "      <td>0.0</td>\n",
              "      <td>Twitter for Android</td>\n",
              "      <td>1.318268e+18</td>\n",
              "      <td>Agent Starling Radio</td>\n",
              "      <td>RadioStarling</td>\n",
              "      <td>We are a politically incorrect weekly news pod...</td>\n",
              "      <td>2020-10-19 19:08:57</td>\n",
              "      <td>194.0</td>\n",
              "      <td>NaN</td>\n",
              "      <td>NaN</td>\n",
              "      <td>NaN</td>\n",
              "      <td>NaN</td>\n",
              "      <td>NaN</td>\n",
              "      <td>NaN</td>\n",
              "      <td>NaN</td>\n",
              "      <td>NaN</td>\n",
              "      <td>2020-10-21 09:39:08.799827390</td>\n",
              "      <td>Trump</td>\n",
              "      <td>2020-10-20 00:00:23</td>\n",
              "      <td>2020-10-20</td>\n",
              "      <td>before_election</td>\n",
              "      <td>1</td>\n",
              "    </tr>\n",
              "  </tbody>\n",
              "</table>\n",
              "</div>"
            ],
            "text/plain": [
              "                 created_at  ...  predicted sentiment\n",
              "360709  2020-10-20 00:00:00  ...                    0\n",
              "360710  2020-10-20 00:00:00  ...                    1\n",
              "360711  2020-10-20 00:00:00  ...                    1\n",
              "360712  2020-10-20 00:00:01  ...                    1\n",
              "360713  2020-10-20 00:00:01  ...                    1\n",
              "360714  2020-10-20 00:00:03  ...                    1\n",
              "360715  2020-10-20 00:00:04  ...                    0\n",
              "360716  2020-10-20 00:00:07  ...                    1\n",
              "360717  2020-10-20 00:00:09  ...                    1\n",
              "360718  2020-10-20 00:00:23  ...                    1\n",
              "\n",
              "[10 rows x 26 columns]"
            ]
          },
          "metadata": {
            "tags": []
          },
          "execution_count": 102
        }
      ]
    },
    {
      "cell_type": "code",
      "metadata": {
        "colab": {
          "base_uri": "https://localhost:8080/",
          "height": 855
        },
        "id": "TswWUy11-PxO",
        "outputId": "fe2c7290-c426-4216-9452-4f061899da69"
      },
      "source": [
        "ori_biden_data[:10] #just to check"
      ],
      "execution_count": null,
      "outputs": [
        {
          "output_type": "execute_result",
          "data": {
            "text/html": [
              "<div>\n",
              "<style scoped>\n",
              "    .dataframe tbody tr th:only-of-type {\n",
              "        vertical-align: middle;\n",
              "    }\n",
              "\n",
              "    .dataframe tbody tr th {\n",
              "        vertical-align: top;\n",
              "    }\n",
              "\n",
              "    .dataframe thead th {\n",
              "        text-align: right;\n",
              "    }\n",
              "</style>\n",
              "<table border=\"1\" class=\"dataframe\">\n",
              "  <thead>\n",
              "    <tr style=\"text-align: right;\">\n",
              "      <th></th>\n",
              "      <th>created_at</th>\n",
              "      <th>tweet_id</th>\n",
              "      <th>tweet</th>\n",
              "      <th>likes</th>\n",
              "      <th>retweet_count</th>\n",
              "      <th>source</th>\n",
              "      <th>user_id</th>\n",
              "      <th>user_name</th>\n",
              "      <th>user_screen_name</th>\n",
              "      <th>user_description</th>\n",
              "      <th>user_join_date</th>\n",
              "      <th>user_followers_count</th>\n",
              "      <th>user_location</th>\n",
              "      <th>lat</th>\n",
              "      <th>long</th>\n",
              "      <th>city</th>\n",
              "      <th>country</th>\n",
              "      <th>continent</th>\n",
              "      <th>state</th>\n",
              "      <th>state_code</th>\n",
              "      <th>collected_at</th>\n",
              "      <th>Candidate</th>\n",
              "      <th>time_timestamp</th>\n",
              "      <th>date</th>\n",
              "      <th>time_wrt_election</th>\n",
              "      <th>predicted sentiment</th>\n",
              "    </tr>\n",
              "  </thead>\n",
              "  <tbody>\n",
              "    <tr>\n",
              "      <th>0</th>\n",
              "      <td>2020-10-20 00:00:00</td>\n",
              "      <td>1.318341e+18</td>\n",
              "      <td>STU: \"Perhaps, you are, like me, amazed at the...</td>\n",
              "      <td>125.0</td>\n",
              "      <td>24.0</td>\n",
              "      <td>Twitter Web App</td>\n",
              "      <td>2.816105e+08</td>\n",
              "      <td>Varney &amp; Co.</td>\n",
              "      <td>Varneyco</td>\n",
              "      <td>Airing Weekdays at 9AM ET on the Fox Business ...</td>\n",
              "      <td>2011-04-13 16:27:54</td>\n",
              "      <td>663851.0</td>\n",
              "      <td>New York</td>\n",
              "      <td>40.712728</td>\n",
              "      <td>-74.006015</td>\n",
              "      <td>New York</td>\n",
              "      <td>United States of America</td>\n",
              "      <td>North America</td>\n",
              "      <td>New York</td>\n",
              "      <td>NY</td>\n",
              "      <td>2020-10-21 10:17:02.706597379</td>\n",
              "      <td>Biden</td>\n",
              "      <td>2020-10-20 00:00:00</td>\n",
              "      <td>2020-10-20</td>\n",
              "      <td>before_election</td>\n",
              "      <td>1</td>\n",
              "    </tr>\n",
              "    <tr>\n",
              "      <th>1</th>\n",
              "      <td>2020-10-20 00:00:00</td>\n",
              "      <td>1.318341e+18</td>\n",
              "      <td>Las elecciones de Estados Unidos que se realiz...</td>\n",
              "      <td>1.0</td>\n",
              "      <td>0.0</td>\n",
              "      <td>TweetDeck</td>\n",
              "      <td>1.754808e+07</td>\n",
              "      <td>Diario El Heraldo</td>\n",
              "      <td>diarioelheraldo</td>\n",
              "      <td>Noticias de Honduras</td>\n",
              "      <td>2008-11-21 23:00:41</td>\n",
              "      <td>373938.0</td>\n",
              "      <td>Tegucigalpa, Honduras</td>\n",
              "      <td>14.105686</td>\n",
              "      <td>-87.204676</td>\n",
              "      <td>Tegucigalpa</td>\n",
              "      <td>Honduras</td>\n",
              "      <td>North America</td>\n",
              "      <td>Francisco Morazán</td>\n",
              "      <td>FM</td>\n",
              "      <td>2020-10-21 10:17:02.333380849</td>\n",
              "      <td>Biden</td>\n",
              "      <td>2020-10-20 00:00:00</td>\n",
              "      <td>2020-10-20</td>\n",
              "      <td>before_election</td>\n",
              "      <td>1</td>\n",
              "    </tr>\n",
              "    <tr>\n",
              "      <th>2</th>\n",
              "      <td>2020-10-20 00:00:01</td>\n",
              "      <td>1.318341e+18</td>\n",
              "      <td>#Trump tells supporters: #Biden would surrende...</td>\n",
              "      <td>14.0</td>\n",
              "      <td>3.0</td>\n",
              "      <td>TweetDeck</td>\n",
              "      <td>1.925478e+08</td>\n",
              "      <td>Press TV</td>\n",
              "      <td>PressTV</td>\n",
              "      <td>Press TV is the first Iranian international ne...</td>\n",
              "      <td>2010-09-19 13:30:33</td>\n",
              "      <td>245595.0</td>\n",
              "      <td>Tehran, Iran</td>\n",
              "      <td>35.689252</td>\n",
              "      <td>51.389600</td>\n",
              "      <td>Tehran</td>\n",
              "      <td>Iran</td>\n",
              "      <td>Asia</td>\n",
              "      <td>Tehran Province</td>\n",
              "      <td>NaN</td>\n",
              "      <td>2020-10-21 10:17:03.453030440</td>\n",
              "      <td>Biden</td>\n",
              "      <td>2020-10-20 00:00:01</td>\n",
              "      <td>2020-10-20</td>\n",
              "      <td>before_election</td>\n",
              "      <td>1</td>\n",
              "    </tr>\n",
              "    <tr>\n",
              "      <th>3</th>\n",
              "      <td>2020-10-20 00:00:01</td>\n",
              "      <td>1.318341e+18</td>\n",
              "      <td>How censorship REALLY works today — and how #T...</td>\n",
              "      <td>60.0</td>\n",
              "      <td>43.0</td>\n",
              "      <td>TweetDeck</td>\n",
              "      <td>3.018961e+09</td>\n",
              "      <td>Rebel News</td>\n",
              "      <td>RebelNewsOnline</td>\n",
              "      <td>Telling the other side of the story.</td>\n",
              "      <td>2015-02-13 23:28:17</td>\n",
              "      <td>189117.0</td>\n",
              "      <td>Canada and the world</td>\n",
              "      <td>61.066692</td>\n",
              "      <td>-107.991707</td>\n",
              "      <td>NaN</td>\n",
              "      <td>Canada</td>\n",
              "      <td>North America</td>\n",
              "      <td>NaN</td>\n",
              "      <td>NaN</td>\n",
              "      <td>2020-10-21 10:17:03.079813910</td>\n",
              "      <td>Biden</td>\n",
              "      <td>2020-10-20 00:00:01</td>\n",
              "      <td>2020-10-20</td>\n",
              "      <td>before_election</td>\n",
              "      <td>1</td>\n",
              "    </tr>\n",
              "    <tr>\n",
              "      <th>4</th>\n",
              "      <td>2020-10-20 00:00:01</td>\n",
              "      <td>1.318341e+18</td>\n",
              "      <td>BECAUSE HE'S IN BED WITH THEM! Our weapons are...</td>\n",
              "      <td>0.0</td>\n",
              "      <td>0.0</td>\n",
              "      <td>Twitter for Android</td>\n",
              "      <td>4.440149e+07</td>\n",
              "      <td>JOE DAVIS</td>\n",
              "      <td>JRDAVIS2000</td>\n",
              "      <td>Penn State Nittany Lion Football-Manchester Un...</td>\n",
              "      <td>2009-06-03 17:03:55</td>\n",
              "      <td>257.0</td>\n",
              "      <td>NW Indiana ( Chicago area)</td>\n",
              "      <td>41.821798</td>\n",
              "      <td>-87.621299</td>\n",
              "      <td>Chicago</td>\n",
              "      <td>United States of America</td>\n",
              "      <td>North America</td>\n",
              "      <td>Illinois</td>\n",
              "      <td>IL</td>\n",
              "      <td>2020-10-21 10:17:03.826246970</td>\n",
              "      <td>Biden</td>\n",
              "      <td>2020-10-20 00:00:01</td>\n",
              "      <td>2020-10-20</td>\n",
              "      <td>before_election</td>\n",
              "      <td>0</td>\n",
              "    </tr>\n",
              "    <tr>\n",
              "      <th>5</th>\n",
              "      <td>2020-10-20 00:00:02</td>\n",
              "      <td>1.318341e+18</td>\n",
              "      <td>2 hours and counting, no new #Trump tweets? Te...</td>\n",
              "      <td>0.0</td>\n",
              "      <td>0.0</td>\n",
              "      <td>Trumpytweeter</td>\n",
              "      <td>8.283556e+17</td>\n",
              "      <td>Trumpytweeter</td>\n",
              "      <td>trumpytweeter</td>\n",
              "      <td>If he doesn't tweet for some time, should we b...</td>\n",
              "      <td>2017-02-05 21:32:17</td>\n",
              "      <td>32.0</td>\n",
              "      <td>NaN</td>\n",
              "      <td>NaN</td>\n",
              "      <td>NaN</td>\n",
              "      <td>NaN</td>\n",
              "      <td>NaN</td>\n",
              "      <td>NaN</td>\n",
              "      <td>NaN</td>\n",
              "      <td>NaN</td>\n",
              "      <td>2020-10-21 10:17:04.199463501</td>\n",
              "      <td>Biden</td>\n",
              "      <td>2020-10-20 00:00:02</td>\n",
              "      <td>2020-10-20</td>\n",
              "      <td>before_election</td>\n",
              "      <td>0</td>\n",
              "    </tr>\n",
              "    <tr>\n",
              "      <th>6</th>\n",
              "      <td>2020-10-20 00:00:10</td>\n",
              "      <td>1.318341e+18</td>\n",
              "      <td>How the Trump economy went south #Trump #econo...</td>\n",
              "      <td>0.0</td>\n",
              "      <td>0.0</td>\n",
              "      <td>Sinvole Push</td>\n",
              "      <td>1.217207e+18</td>\n",
              "      <td>Sinvole</td>\n",
              "      <td>sinvole</td>\n",
              "      <td>Global investment and political news. Tools to...</td>\n",
              "      <td>2020-01-14 22:07:30</td>\n",
              "      <td>126.0</td>\n",
              "      <td>Thunder Bay Ontario Canada</td>\n",
              "      <td>NaN</td>\n",
              "      <td>NaN</td>\n",
              "      <td>NaN</td>\n",
              "      <td>NaN</td>\n",
              "      <td>NaN</td>\n",
              "      <td>NaN</td>\n",
              "      <td>NaN</td>\n",
              "      <td>2020-10-21 10:17:04.572680031</td>\n",
              "      <td>Biden</td>\n",
              "      <td>2020-10-20 00:00:10</td>\n",
              "      <td>2020-10-20</td>\n",
              "      <td>before_election</td>\n",
              "      <td>0</td>\n",
              "    </tr>\n",
              "    <tr>\n",
              "      <th>7</th>\n",
              "      <td>2020-10-20 00:00:13</td>\n",
              "      <td>1.318341e+18</td>\n",
              "      <td>Pure Horseshit #Barr &amp;amp; #DOJ! You #fucks ar...</td>\n",
              "      <td>2.0</td>\n",
              "      <td>2.0</td>\n",
              "      <td>Twitter Web App</td>\n",
              "      <td>9.323153e+17</td>\n",
              "      <td>🌊🌈🦄NoraC #WeVotedBidenHarris_McGrath🦄🌈🌊</td>\n",
              "      <td>RealNoraC</td>\n",
              "      <td>🚫DM GROUP MAGAts! Lib Nana in a Red State #shi...</td>\n",
              "      <td>2017-11-19 18:30:57</td>\n",
              "      <td>17143.0</td>\n",
              "      <td>Kentucky</td>\n",
              "      <td>37.572603</td>\n",
              "      <td>-85.155141</td>\n",
              "      <td>NaN</td>\n",
              "      <td>United States of America</td>\n",
              "      <td>North America</td>\n",
              "      <td>Kentucky</td>\n",
              "      <td>KY</td>\n",
              "      <td>2020-10-21 10:17:04.945896562</td>\n",
              "      <td>Biden</td>\n",
              "      <td>2020-10-20 00:00:13</td>\n",
              "      <td>2020-10-20</td>\n",
              "      <td>before_election</td>\n",
              "      <td>1</td>\n",
              "    </tr>\n",
              "    <tr>\n",
              "      <th>8</th>\n",
              "      <td>2020-10-20 00:00:14</td>\n",
              "      <td>1.318341e+18</td>\n",
              "      <td>ICYMI - British Writer Pens The Best Descripti...</td>\n",
              "      <td>0.0</td>\n",
              "      <td>0.0</td>\n",
              "      <td>Twitter for iPhone</td>\n",
              "      <td>1.988165e+07</td>\n",
              "      <td>Constance Hartke</td>\n",
              "      <td>ConnieHartke</td>\n",
              "      <td>I manage our vacation cabins in the Smoky Moun...</td>\n",
              "      <td>2009-02-01 22:48:04</td>\n",
              "      <td>355.0</td>\n",
              "      <td>Reston, Virginia</td>\n",
              "      <td>38.958374</td>\n",
              "      <td>-77.357981</td>\n",
              "      <td>NaN</td>\n",
              "      <td>United States of America</td>\n",
              "      <td>North America</td>\n",
              "      <td>Virginia</td>\n",
              "      <td>VA</td>\n",
              "      <td>2020-10-21 10:17:05.319113092</td>\n",
              "      <td>Biden</td>\n",
              "      <td>2020-10-20 00:00:14</td>\n",
              "      <td>2020-10-20</td>\n",
              "      <td>before_election</td>\n",
              "      <td>1</td>\n",
              "    </tr>\n",
              "    <tr>\n",
              "      <th>9</th>\n",
              "      <td>2020-10-20 00:00:23</td>\n",
              "      <td>1.318341e+18</td>\n",
              "      <td>#EstadosUnidos🇺🇸 #Cierredeldía\\n“La gente está...</td>\n",
              "      <td>1.0</td>\n",
              "      <td>0.0</td>\n",
              "      <td>Twitter for iPhone</td>\n",
              "      <td>1.249557e+18</td>\n",
              "      <td>AMÉRICA EN CONTEXTO</td>\n",
              "      <td>AmericaContexto</td>\n",
              "      <td>Analizamos América, te lo llevamos a ti. | Med...</td>\n",
              "      <td>2020-04-13 04:34:38</td>\n",
              "      <td>100.0</td>\n",
              "      <td>NaN</td>\n",
              "      <td>NaN</td>\n",
              "      <td>NaN</td>\n",
              "      <td>NaN</td>\n",
              "      <td>NaN</td>\n",
              "      <td>NaN</td>\n",
              "      <td>NaN</td>\n",
              "      <td>NaN</td>\n",
              "      <td>2020-10-21 10:17:05.692329622</td>\n",
              "      <td>Biden</td>\n",
              "      <td>2020-10-20 00:00:23</td>\n",
              "      <td>2020-10-20</td>\n",
              "      <td>before_election</td>\n",
              "      <td>1</td>\n",
              "    </tr>\n",
              "  </tbody>\n",
              "</table>\n",
              "</div>"
            ],
            "text/plain": [
              "            created_at      tweet_id  ... time_wrt_election  predicted sentiment\n",
              "0  2020-10-20 00:00:00  1.318341e+18  ...   before_election                    1\n",
              "1  2020-10-20 00:00:00  1.318341e+18  ...   before_election                    1\n",
              "2  2020-10-20 00:00:01  1.318341e+18  ...   before_election                    1\n",
              "3  2020-10-20 00:00:01  1.318341e+18  ...   before_election                    1\n",
              "4  2020-10-20 00:00:01  1.318341e+18  ...   before_election                    0\n",
              "5  2020-10-20 00:00:02  1.318341e+18  ...   before_election                    0\n",
              "6  2020-10-20 00:00:10  1.318341e+18  ...   before_election                    0\n",
              "7  2020-10-20 00:00:13  1.318341e+18  ...   before_election                    1\n",
              "8  2020-10-20 00:00:14  1.318341e+18  ...   before_election                    1\n",
              "9  2020-10-20 00:00:23  1.318341e+18  ...   before_election                    1\n",
              "\n",
              "[10 rows x 26 columns]"
            ]
          },
          "metadata": {
            "tags": []
          },
          "execution_count": 103
        }
      ]
    },
    {
      "cell_type": "code",
      "metadata": {
        "colab": {
          "base_uri": "https://localhost:8080/",
          "height": 542
        },
        "id": "WxTLudl89XzH",
        "outputId": "82d17028-2a18-449b-c360-2729a0ff8cdd"
      },
      "source": [
        "a_Biden_pos = ori_biden_data[ori_biden_data['predicted sentiment']==1].groupby(by='time_wrt_election')['tweet'].count().sort_values().index\n",
        "b_Biden_pos = ori_biden_data[ori_biden_data['predicted sentiment']==1].groupby(by='time_wrt_election')['tweet'].count().sort_values()\n",
        "\n",
        "a_Biden_neg = ori_biden_data[ori_biden_data['predicted sentiment']==0].groupby(by='time_wrt_election')['tweet'].count().sort_values().index\n",
        "b_Biden_neg = ori_biden_data[ori_biden_data['predicted sentiment']==0].groupby(by='time_wrt_election')['tweet'].count().sort_values()\n",
        "\n",
        "fig = go.Figure([go.Bar(x = a_Biden_pos, y = b_Biden_pos, name='positive'), go.Bar(x = a_Biden_neg, y = b_Biden_neg, name='negative')])\n",
        "\n",
        "fig.update_layout(title_text='Number of positive/negative tweets related to Joe Biden for specific time period')\n",
        "fig.update_xaxes(title='Time Period')\n",
        "fig.update_yaxes(title='Number of Tweets')\n",
        "fig.show()"
      ],
      "execution_count": null,
      "outputs": [
        {
          "output_type": "display_data",
          "data": {
            "text/html": [
              "<html>\n",
              "<head><meta charset=\"utf-8\" /></head>\n",
              "<body>\n",
              "    <div>\n",
              "            <script src=\"https://cdnjs.cloudflare.com/ajax/libs/mathjax/2.7.5/MathJax.js?config=TeX-AMS-MML_SVG\"></script><script type=\"text/javascript\">if (window.MathJax) {MathJax.Hub.Config({SVG: {font: \"STIX-Web\"}});}</script>\n",
              "                <script type=\"text/javascript\">window.PlotlyConfig = {MathJaxConfig: 'local'};</script>\n",
              "        <script src=\"https://cdn.plot.ly/plotly-latest.min.js\"></script>    \n",
              "            <div id=\"54309a13-4cef-42b9-b66e-1b6759d1d58b\" class=\"plotly-graph-div\" style=\"height:525px; width:100%;\"></div>\n",
              "            <script type=\"text/javascript\">\n",
              "                \n",
              "                    window.PLOTLYENV=window.PLOTLYENV || {};\n",
              "                    \n",
              "                if (document.getElementById(\"54309a13-4cef-42b9-b66e-1b6759d1d58b\")) {\n",
              "                    Plotly.newPlot(\n",
              "                        '54309a13-4cef-42b9-b66e-1b6759d1d58b',\n",
              "                        [{\"name\": \"positive\", \"type\": \"bar\", \"x\": [\"election_day\", \"before_election\", \"after_election\"], \"y\": [51111, 237486, 325870]}, {\"name\": \"negative\", \"type\": \"bar\", \"x\": [\"election_day\", \"after_election\", \"before_election\"], \"y\": [16176, 119577, 123223]}],\n",
              "                        {\"template\": {\"data\": {\"bar\": [{\"error_x\": {\"color\": \"#2a3f5f\"}, \"error_y\": {\"color\": \"#2a3f5f\"}, \"marker\": {\"line\": {\"color\": \"#E5ECF6\", \"width\": 0.5}}, \"type\": \"bar\"}], \"barpolar\": [{\"marker\": {\"line\": {\"color\": \"#E5ECF6\", \"width\": 0.5}}, \"type\": \"barpolar\"}], \"carpet\": [{\"aaxis\": {\"endlinecolor\": \"#2a3f5f\", \"gridcolor\": \"white\", \"linecolor\": \"white\", \"minorgridcolor\": \"white\", \"startlinecolor\": \"#2a3f5f\"}, \"baxis\": {\"endlinecolor\": \"#2a3f5f\", \"gridcolor\": \"white\", \"linecolor\": \"white\", \"minorgridcolor\": \"white\", \"startlinecolor\": \"#2a3f5f\"}, \"type\": \"carpet\"}], \"choropleth\": [{\"colorbar\": {\"outlinewidth\": 0, \"ticks\": \"\"}, \"type\": \"choropleth\"}], \"contour\": [{\"colorbar\": {\"outlinewidth\": 0, \"ticks\": \"\"}, \"colorscale\": [[0.0, \"#0d0887\"], [0.1111111111111111, \"#46039f\"], [0.2222222222222222, \"#7201a8\"], [0.3333333333333333, \"#9c179e\"], [0.4444444444444444, \"#bd3786\"], [0.5555555555555556, \"#d8576b\"], [0.6666666666666666, \"#ed7953\"], [0.7777777777777778, \"#fb9f3a\"], [0.8888888888888888, \"#fdca26\"], [1.0, \"#f0f921\"]], \"type\": \"contour\"}], \"contourcarpet\": [{\"colorbar\": {\"outlinewidth\": 0, \"ticks\": \"\"}, \"type\": \"contourcarpet\"}], \"heatmap\": [{\"colorbar\": {\"outlinewidth\": 0, \"ticks\": \"\"}, \"colorscale\": [[0.0, \"#0d0887\"], [0.1111111111111111, \"#46039f\"], [0.2222222222222222, \"#7201a8\"], [0.3333333333333333, \"#9c179e\"], [0.4444444444444444, \"#bd3786\"], [0.5555555555555556, \"#d8576b\"], [0.6666666666666666, \"#ed7953\"], [0.7777777777777778, \"#fb9f3a\"], [0.8888888888888888, \"#fdca26\"], [1.0, \"#f0f921\"]], \"type\": \"heatmap\"}], \"heatmapgl\": [{\"colorbar\": {\"outlinewidth\": 0, \"ticks\": \"\"}, \"colorscale\": [[0.0, \"#0d0887\"], [0.1111111111111111, \"#46039f\"], [0.2222222222222222, \"#7201a8\"], [0.3333333333333333, \"#9c179e\"], [0.4444444444444444, \"#bd3786\"], [0.5555555555555556, \"#d8576b\"], [0.6666666666666666, \"#ed7953\"], [0.7777777777777778, \"#fb9f3a\"], [0.8888888888888888, \"#fdca26\"], [1.0, \"#f0f921\"]], \"type\": \"heatmapgl\"}], \"histogram\": [{\"marker\": {\"colorbar\": {\"outlinewidth\": 0, \"ticks\": \"\"}}, \"type\": \"histogram\"}], \"histogram2d\": [{\"colorbar\": {\"outlinewidth\": 0, \"ticks\": \"\"}, \"colorscale\": [[0.0, \"#0d0887\"], [0.1111111111111111, \"#46039f\"], [0.2222222222222222, \"#7201a8\"], [0.3333333333333333, \"#9c179e\"], [0.4444444444444444, \"#bd3786\"], [0.5555555555555556, \"#d8576b\"], [0.6666666666666666, \"#ed7953\"], [0.7777777777777778, \"#fb9f3a\"], [0.8888888888888888, \"#fdca26\"], [1.0, \"#f0f921\"]], \"type\": \"histogram2d\"}], \"histogram2dcontour\": [{\"colorbar\": {\"outlinewidth\": 0, \"ticks\": \"\"}, \"colorscale\": [[0.0, \"#0d0887\"], [0.1111111111111111, \"#46039f\"], [0.2222222222222222, \"#7201a8\"], [0.3333333333333333, \"#9c179e\"], [0.4444444444444444, \"#bd3786\"], [0.5555555555555556, \"#d8576b\"], [0.6666666666666666, \"#ed7953\"], [0.7777777777777778, \"#fb9f3a\"], [0.8888888888888888, \"#fdca26\"], [1.0, \"#f0f921\"]], \"type\": \"histogram2dcontour\"}], \"mesh3d\": [{\"colorbar\": {\"outlinewidth\": 0, \"ticks\": \"\"}, \"type\": \"mesh3d\"}], \"parcoords\": [{\"line\": {\"colorbar\": {\"outlinewidth\": 0, \"ticks\": \"\"}}, \"type\": \"parcoords\"}], \"pie\": [{\"automargin\": true, \"type\": \"pie\"}], \"scatter\": [{\"marker\": {\"colorbar\": {\"outlinewidth\": 0, \"ticks\": \"\"}}, \"type\": \"scatter\"}], \"scatter3d\": [{\"line\": {\"colorbar\": {\"outlinewidth\": 0, \"ticks\": \"\"}}, \"marker\": {\"colorbar\": {\"outlinewidth\": 0, \"ticks\": \"\"}}, \"type\": \"scatter3d\"}], \"scattercarpet\": [{\"marker\": {\"colorbar\": {\"outlinewidth\": 0, \"ticks\": \"\"}}, \"type\": \"scattercarpet\"}], \"scattergeo\": [{\"marker\": {\"colorbar\": {\"outlinewidth\": 0, \"ticks\": \"\"}}, \"type\": \"scattergeo\"}], \"scattergl\": [{\"marker\": {\"colorbar\": {\"outlinewidth\": 0, \"ticks\": \"\"}}, \"type\": \"scattergl\"}], \"scattermapbox\": [{\"marker\": {\"colorbar\": {\"outlinewidth\": 0, \"ticks\": \"\"}}, \"type\": \"scattermapbox\"}], \"scatterpolar\": [{\"marker\": {\"colorbar\": {\"outlinewidth\": 0, \"ticks\": \"\"}}, \"type\": \"scatterpolar\"}], \"scatterpolargl\": [{\"marker\": {\"colorbar\": {\"outlinewidth\": 0, \"ticks\": \"\"}}, \"type\": \"scatterpolargl\"}], \"scatterternary\": [{\"marker\": {\"colorbar\": {\"outlinewidth\": 0, \"ticks\": \"\"}}, \"type\": \"scatterternary\"}], \"surface\": [{\"colorbar\": {\"outlinewidth\": 0, \"ticks\": \"\"}, \"colorscale\": [[0.0, \"#0d0887\"], [0.1111111111111111, \"#46039f\"], [0.2222222222222222, \"#7201a8\"], [0.3333333333333333, \"#9c179e\"], [0.4444444444444444, \"#bd3786\"], [0.5555555555555556, \"#d8576b\"], [0.6666666666666666, \"#ed7953\"], [0.7777777777777778, \"#fb9f3a\"], [0.8888888888888888, \"#fdca26\"], [1.0, \"#f0f921\"]], \"type\": \"surface\"}], \"table\": [{\"cells\": {\"fill\": {\"color\": \"#EBF0F8\"}, \"line\": {\"color\": \"white\"}}, \"header\": {\"fill\": {\"color\": \"#C8D4E3\"}, \"line\": {\"color\": \"white\"}}, \"type\": \"table\"}]}, \"layout\": {\"annotationdefaults\": {\"arrowcolor\": \"#2a3f5f\", \"arrowhead\": 0, \"arrowwidth\": 1}, \"coloraxis\": {\"colorbar\": {\"outlinewidth\": 0, \"ticks\": \"\"}}, \"colorscale\": {\"diverging\": [[0, \"#8e0152\"], [0.1, \"#c51b7d\"], [0.2, \"#de77ae\"], [0.3, \"#f1b6da\"], [0.4, \"#fde0ef\"], [0.5, \"#f7f7f7\"], [0.6, \"#e6f5d0\"], [0.7, \"#b8e186\"], [0.8, \"#7fbc41\"], [0.9, \"#4d9221\"], [1, \"#276419\"]], \"sequential\": [[0.0, \"#0d0887\"], [0.1111111111111111, \"#46039f\"], [0.2222222222222222, \"#7201a8\"], [0.3333333333333333, \"#9c179e\"], [0.4444444444444444, \"#bd3786\"], [0.5555555555555556, \"#d8576b\"], [0.6666666666666666, \"#ed7953\"], [0.7777777777777778, \"#fb9f3a\"], [0.8888888888888888, \"#fdca26\"], [1.0, \"#f0f921\"]], \"sequentialminus\": [[0.0, \"#0d0887\"], [0.1111111111111111, \"#46039f\"], [0.2222222222222222, \"#7201a8\"], [0.3333333333333333, \"#9c179e\"], [0.4444444444444444, \"#bd3786\"], [0.5555555555555556, \"#d8576b\"], [0.6666666666666666, \"#ed7953\"], [0.7777777777777778, \"#fb9f3a\"], [0.8888888888888888, \"#fdca26\"], [1.0, \"#f0f921\"]]}, \"colorway\": [\"#636efa\", \"#EF553B\", \"#00cc96\", \"#ab63fa\", \"#FFA15A\", \"#19d3f3\", \"#FF6692\", \"#B6E880\", \"#FF97FF\", \"#FECB52\"], \"font\": {\"color\": \"#2a3f5f\"}, \"geo\": {\"bgcolor\": \"white\", \"lakecolor\": \"white\", \"landcolor\": \"#E5ECF6\", \"showlakes\": true, \"showland\": true, \"subunitcolor\": \"white\"}, \"hoverlabel\": {\"align\": \"left\"}, \"hovermode\": \"closest\", \"mapbox\": {\"style\": \"light\"}, \"paper_bgcolor\": \"white\", \"plot_bgcolor\": \"#E5ECF6\", \"polar\": {\"angularaxis\": {\"gridcolor\": \"white\", \"linecolor\": \"white\", \"ticks\": \"\"}, \"bgcolor\": \"#E5ECF6\", \"radialaxis\": {\"gridcolor\": \"white\", \"linecolor\": \"white\", \"ticks\": \"\"}}, \"scene\": {\"xaxis\": {\"backgroundcolor\": \"#E5ECF6\", \"gridcolor\": \"white\", \"gridwidth\": 2, \"linecolor\": \"white\", \"showbackground\": true, \"ticks\": \"\", \"zerolinecolor\": \"white\"}, \"yaxis\": {\"backgroundcolor\": \"#E5ECF6\", \"gridcolor\": \"white\", \"gridwidth\": 2, \"linecolor\": \"white\", \"showbackground\": true, \"ticks\": \"\", \"zerolinecolor\": \"white\"}, \"zaxis\": {\"backgroundcolor\": \"#E5ECF6\", \"gridcolor\": \"white\", \"gridwidth\": 2, \"linecolor\": \"white\", \"showbackground\": true, \"ticks\": \"\", \"zerolinecolor\": \"white\"}}, \"shapedefaults\": {\"line\": {\"color\": \"#2a3f5f\"}}, \"ternary\": {\"aaxis\": {\"gridcolor\": \"white\", \"linecolor\": \"white\", \"ticks\": \"\"}, \"baxis\": {\"gridcolor\": \"white\", \"linecolor\": \"white\", \"ticks\": \"\"}, \"bgcolor\": \"#E5ECF6\", \"caxis\": {\"gridcolor\": \"white\", \"linecolor\": \"white\", \"ticks\": \"\"}}, \"title\": {\"x\": 0.05}, \"xaxis\": {\"automargin\": true, \"gridcolor\": \"white\", \"linecolor\": \"white\", \"ticks\": \"\", \"title\": {\"standoff\": 15}, \"zerolinecolor\": \"white\", \"zerolinewidth\": 2}, \"yaxis\": {\"automargin\": true, \"gridcolor\": \"white\", \"linecolor\": \"white\", \"ticks\": \"\", \"title\": {\"standoff\": 15}, \"zerolinecolor\": \"white\", \"zerolinewidth\": 2}}}, \"title\": {\"text\": \"Number of positive/negative tweets related to Joe Biden for specific time period\"}, \"xaxis\": {\"title\": {\"text\": \"Time Period\"}}, \"yaxis\": {\"title\": {\"text\": \"Number of Tweets\"}}},\n",
              "                        {\"responsive\": true}\n",
              "                    ).then(function(){\n",
              "                            \n",
              "var gd = document.getElementById('54309a13-4cef-42b9-b66e-1b6759d1d58b');\n",
              "var x = new MutationObserver(function (mutations, observer) {{\n",
              "        var display = window.getComputedStyle(gd).display;\n",
              "        if (!display || display === 'none') {{\n",
              "            console.log([gd, 'removed!']);\n",
              "            Plotly.purge(gd);\n",
              "            observer.disconnect();\n",
              "        }}\n",
              "}});\n",
              "\n",
              "// Listen for the removal of the full notebook cells\n",
              "var notebookContainer = gd.closest('#notebook-container');\n",
              "if (notebookContainer) {{\n",
              "    x.observe(notebookContainer, {childList: true});\n",
              "}}\n",
              "\n",
              "// Listen for the clearing of the current output cell\n",
              "var outputEl = gd.closest('.output');\n",
              "if (outputEl) {{\n",
              "    x.observe(outputEl, {childList: true});\n",
              "}}\n",
              "\n",
              "                        })\n",
              "                };\n",
              "                \n",
              "            </script>\n",
              "        </div>\n",
              "</body>\n",
              "</html>"
            ]
          },
          "metadata": {
            "tags": []
          }
        }
      ]
    },
    {
      "cell_type": "code",
      "metadata": {
        "colab": {
          "base_uri": "https://localhost:8080/",
          "height": 542
        },
        "id": "KfJ9kj1W--_R",
        "outputId": "69504899-3d1d-4ca9-c198-9cc782f25ec4"
      },
      "source": [
        "a_Trump_pos = ori_trump_data[ori_trump_data['predicted sentiment']==1].groupby(by='time_wrt_election')['tweet'].count().sort_values().index\n",
        "b_Trump_pos = ori_trump_data[ori_trump_data['predicted sentiment']==1].groupby(by='time_wrt_election')['tweet'].count().sort_values()\n",
        "\n",
        "a_Trump_neg = ori_trump_data[ori_trump_data['predicted sentiment']==0].groupby(by='time_wrt_election')['tweet'].count().sort_values().index\n",
        "b_Trump_neg = ori_trump_data[ori_trump_data['predicted sentiment']==0].groupby(by='time_wrt_election')['tweet'].count().sort_values()\n",
        "\n",
        "fig = go.Figure([go.Bar(x = a_Trump_pos, y = b_Trump_pos, name='positive'), go.Bar(x = a_Trump_neg, y = b_Trump_neg, name='negative')])\n",
        "\n",
        "fig.update_layout(title_text='Number of positive/negative tweets related to Donald Trump for specific time period')\n",
        "fig.update_xaxes(title='Time Period')\n",
        "fig.update_yaxes(title='Number of Tweets')\n",
        "fig.show()"
      ],
      "execution_count": null,
      "outputs": [
        {
          "output_type": "display_data",
          "data": {
            "text/html": [
              "<html>\n",
              "<head><meta charset=\"utf-8\" /></head>\n",
              "<body>\n",
              "    <div>\n",
              "            <script src=\"https://cdnjs.cloudflare.com/ajax/libs/mathjax/2.7.5/MathJax.js?config=TeX-AMS-MML_SVG\"></script><script type=\"text/javascript\">if (window.MathJax) {MathJax.Hub.Config({SVG: {font: \"STIX-Web\"}});}</script>\n",
              "                <script type=\"text/javascript\">window.PlotlyConfig = {MathJaxConfig: 'local'};</script>\n",
              "        <script src=\"https://cdn.plot.ly/plotly-latest.min.js\"></script>    \n",
              "            <div id=\"ac6218f7-8c75-474d-a96b-07ed0d941462\" class=\"plotly-graph-div\" style=\"height:525px; width:100%;\"></div>\n",
              "            <script type=\"text/javascript\">\n",
              "                \n",
              "                    window.PLOTLYENV=window.PLOTLYENV || {};\n",
              "                    \n",
              "                if (document.getElementById(\"ac6218f7-8c75-474d-a96b-07ed0d941462\")) {\n",
              "                    Plotly.newPlot(\n",
              "                        'ac6218f7-8c75-474d-a96b-07ed0d941462',\n",
              "                        [{\"name\": \"positive\", \"type\": \"bar\", \"x\": [\"election_day\", \"before_election\", \"after_election\"], \"y\": [33464, 171580, 340607]}, {\"name\": \"negative\", \"type\": \"bar\", \"x\": [\"election_day\", \"before_election\", \"after_election\"], \"y\": [8036, 74072, 83604]}],\n",
              "                        {\"template\": {\"data\": {\"bar\": [{\"error_x\": {\"color\": \"#2a3f5f\"}, \"error_y\": {\"color\": \"#2a3f5f\"}, \"marker\": {\"line\": {\"color\": \"#E5ECF6\", \"width\": 0.5}}, \"type\": \"bar\"}], \"barpolar\": [{\"marker\": {\"line\": {\"color\": \"#E5ECF6\", \"width\": 0.5}}, \"type\": \"barpolar\"}], \"carpet\": [{\"aaxis\": {\"endlinecolor\": \"#2a3f5f\", \"gridcolor\": \"white\", \"linecolor\": \"white\", \"minorgridcolor\": \"white\", \"startlinecolor\": \"#2a3f5f\"}, \"baxis\": {\"endlinecolor\": \"#2a3f5f\", \"gridcolor\": \"white\", \"linecolor\": \"white\", \"minorgridcolor\": \"white\", \"startlinecolor\": \"#2a3f5f\"}, \"type\": \"carpet\"}], \"choropleth\": [{\"colorbar\": {\"outlinewidth\": 0, \"ticks\": \"\"}, \"type\": \"choropleth\"}], \"contour\": [{\"colorbar\": {\"outlinewidth\": 0, \"ticks\": \"\"}, \"colorscale\": [[0.0, \"#0d0887\"], [0.1111111111111111, \"#46039f\"], [0.2222222222222222, \"#7201a8\"], [0.3333333333333333, \"#9c179e\"], [0.4444444444444444, \"#bd3786\"], [0.5555555555555556, \"#d8576b\"], [0.6666666666666666, \"#ed7953\"], [0.7777777777777778, \"#fb9f3a\"], [0.8888888888888888, \"#fdca26\"], [1.0, \"#f0f921\"]], \"type\": \"contour\"}], \"contourcarpet\": [{\"colorbar\": {\"outlinewidth\": 0, \"ticks\": \"\"}, \"type\": \"contourcarpet\"}], \"heatmap\": [{\"colorbar\": {\"outlinewidth\": 0, \"ticks\": \"\"}, \"colorscale\": [[0.0, \"#0d0887\"], [0.1111111111111111, \"#46039f\"], [0.2222222222222222, \"#7201a8\"], [0.3333333333333333, \"#9c179e\"], [0.4444444444444444, \"#bd3786\"], [0.5555555555555556, \"#d8576b\"], [0.6666666666666666, \"#ed7953\"], [0.7777777777777778, \"#fb9f3a\"], [0.8888888888888888, \"#fdca26\"], [1.0, \"#f0f921\"]], \"type\": \"heatmap\"}], \"heatmapgl\": [{\"colorbar\": {\"outlinewidth\": 0, \"ticks\": \"\"}, \"colorscale\": [[0.0, \"#0d0887\"], [0.1111111111111111, \"#46039f\"], [0.2222222222222222, \"#7201a8\"], [0.3333333333333333, \"#9c179e\"], [0.4444444444444444, \"#bd3786\"], [0.5555555555555556, \"#d8576b\"], [0.6666666666666666, \"#ed7953\"], [0.7777777777777778, \"#fb9f3a\"], [0.8888888888888888, \"#fdca26\"], [1.0, \"#f0f921\"]], \"type\": \"heatmapgl\"}], \"histogram\": [{\"marker\": {\"colorbar\": {\"outlinewidth\": 0, \"ticks\": \"\"}}, \"type\": \"histogram\"}], \"histogram2d\": [{\"colorbar\": {\"outlinewidth\": 0, \"ticks\": \"\"}, \"colorscale\": [[0.0, \"#0d0887\"], [0.1111111111111111, \"#46039f\"], [0.2222222222222222, \"#7201a8\"], [0.3333333333333333, \"#9c179e\"], [0.4444444444444444, \"#bd3786\"], [0.5555555555555556, \"#d8576b\"], [0.6666666666666666, \"#ed7953\"], [0.7777777777777778, \"#fb9f3a\"], [0.8888888888888888, \"#fdca26\"], [1.0, \"#f0f921\"]], \"type\": \"histogram2d\"}], \"histogram2dcontour\": [{\"colorbar\": {\"outlinewidth\": 0, \"ticks\": \"\"}, \"colorscale\": [[0.0, \"#0d0887\"], [0.1111111111111111, \"#46039f\"], [0.2222222222222222, \"#7201a8\"], [0.3333333333333333, \"#9c179e\"], [0.4444444444444444, \"#bd3786\"], [0.5555555555555556, \"#d8576b\"], [0.6666666666666666, \"#ed7953\"], [0.7777777777777778, \"#fb9f3a\"], [0.8888888888888888, \"#fdca26\"], [1.0, \"#f0f921\"]], \"type\": \"histogram2dcontour\"}], \"mesh3d\": [{\"colorbar\": {\"outlinewidth\": 0, \"ticks\": \"\"}, \"type\": \"mesh3d\"}], \"parcoords\": [{\"line\": {\"colorbar\": {\"outlinewidth\": 0, \"ticks\": \"\"}}, \"type\": \"parcoords\"}], \"pie\": [{\"automargin\": true, \"type\": \"pie\"}], \"scatter\": [{\"marker\": {\"colorbar\": {\"outlinewidth\": 0, \"ticks\": \"\"}}, \"type\": \"scatter\"}], \"scatter3d\": [{\"line\": {\"colorbar\": {\"outlinewidth\": 0, \"ticks\": \"\"}}, \"marker\": {\"colorbar\": {\"outlinewidth\": 0, \"ticks\": \"\"}}, \"type\": \"scatter3d\"}], \"scattercarpet\": [{\"marker\": {\"colorbar\": {\"outlinewidth\": 0, \"ticks\": \"\"}}, \"type\": \"scattercarpet\"}], \"scattergeo\": [{\"marker\": {\"colorbar\": {\"outlinewidth\": 0, \"ticks\": \"\"}}, \"type\": \"scattergeo\"}], \"scattergl\": [{\"marker\": {\"colorbar\": {\"outlinewidth\": 0, \"ticks\": \"\"}}, \"type\": \"scattergl\"}], \"scattermapbox\": [{\"marker\": {\"colorbar\": {\"outlinewidth\": 0, \"ticks\": \"\"}}, \"type\": \"scattermapbox\"}], \"scatterpolar\": [{\"marker\": {\"colorbar\": {\"outlinewidth\": 0, \"ticks\": \"\"}}, \"type\": \"scatterpolar\"}], \"scatterpolargl\": [{\"marker\": {\"colorbar\": {\"outlinewidth\": 0, \"ticks\": \"\"}}, \"type\": \"scatterpolargl\"}], \"scatterternary\": [{\"marker\": {\"colorbar\": {\"outlinewidth\": 0, \"ticks\": \"\"}}, \"type\": \"scatterternary\"}], \"surface\": [{\"colorbar\": {\"outlinewidth\": 0, \"ticks\": \"\"}, \"colorscale\": [[0.0, \"#0d0887\"], [0.1111111111111111, \"#46039f\"], [0.2222222222222222, \"#7201a8\"], [0.3333333333333333, \"#9c179e\"], [0.4444444444444444, \"#bd3786\"], [0.5555555555555556, \"#d8576b\"], [0.6666666666666666, \"#ed7953\"], [0.7777777777777778, \"#fb9f3a\"], [0.8888888888888888, \"#fdca26\"], [1.0, \"#f0f921\"]], \"type\": \"surface\"}], \"table\": [{\"cells\": {\"fill\": {\"color\": \"#EBF0F8\"}, \"line\": {\"color\": \"white\"}}, \"header\": {\"fill\": {\"color\": \"#C8D4E3\"}, \"line\": {\"color\": \"white\"}}, \"type\": \"table\"}]}, \"layout\": {\"annotationdefaults\": {\"arrowcolor\": \"#2a3f5f\", \"arrowhead\": 0, \"arrowwidth\": 1}, \"coloraxis\": {\"colorbar\": {\"outlinewidth\": 0, \"ticks\": \"\"}}, \"colorscale\": {\"diverging\": [[0, \"#8e0152\"], [0.1, \"#c51b7d\"], [0.2, \"#de77ae\"], [0.3, \"#f1b6da\"], [0.4, \"#fde0ef\"], [0.5, \"#f7f7f7\"], [0.6, \"#e6f5d0\"], [0.7, \"#b8e186\"], [0.8, \"#7fbc41\"], [0.9, \"#4d9221\"], [1, \"#276419\"]], \"sequential\": [[0.0, \"#0d0887\"], [0.1111111111111111, \"#46039f\"], [0.2222222222222222, \"#7201a8\"], [0.3333333333333333, \"#9c179e\"], [0.4444444444444444, \"#bd3786\"], [0.5555555555555556, \"#d8576b\"], [0.6666666666666666, \"#ed7953\"], [0.7777777777777778, \"#fb9f3a\"], [0.8888888888888888, \"#fdca26\"], [1.0, \"#f0f921\"]], \"sequentialminus\": [[0.0, \"#0d0887\"], [0.1111111111111111, \"#46039f\"], [0.2222222222222222, \"#7201a8\"], [0.3333333333333333, \"#9c179e\"], [0.4444444444444444, \"#bd3786\"], [0.5555555555555556, \"#d8576b\"], [0.6666666666666666, \"#ed7953\"], [0.7777777777777778, \"#fb9f3a\"], [0.8888888888888888, \"#fdca26\"], [1.0, \"#f0f921\"]]}, \"colorway\": [\"#636efa\", \"#EF553B\", \"#00cc96\", \"#ab63fa\", \"#FFA15A\", \"#19d3f3\", \"#FF6692\", \"#B6E880\", \"#FF97FF\", \"#FECB52\"], \"font\": {\"color\": \"#2a3f5f\"}, \"geo\": {\"bgcolor\": \"white\", \"lakecolor\": \"white\", \"landcolor\": \"#E5ECF6\", \"showlakes\": true, \"showland\": true, \"subunitcolor\": \"white\"}, \"hoverlabel\": {\"align\": \"left\"}, \"hovermode\": \"closest\", \"mapbox\": {\"style\": \"light\"}, \"paper_bgcolor\": \"white\", \"plot_bgcolor\": \"#E5ECF6\", \"polar\": {\"angularaxis\": {\"gridcolor\": \"white\", \"linecolor\": \"white\", \"ticks\": \"\"}, \"bgcolor\": \"#E5ECF6\", \"radialaxis\": {\"gridcolor\": \"white\", \"linecolor\": \"white\", \"ticks\": \"\"}}, \"scene\": {\"xaxis\": {\"backgroundcolor\": \"#E5ECF6\", \"gridcolor\": \"white\", \"gridwidth\": 2, \"linecolor\": \"white\", \"showbackground\": true, \"ticks\": \"\", \"zerolinecolor\": \"white\"}, \"yaxis\": {\"backgroundcolor\": \"#E5ECF6\", \"gridcolor\": \"white\", \"gridwidth\": 2, \"linecolor\": \"white\", \"showbackground\": true, \"ticks\": \"\", \"zerolinecolor\": \"white\"}, \"zaxis\": {\"backgroundcolor\": \"#E5ECF6\", \"gridcolor\": \"white\", \"gridwidth\": 2, \"linecolor\": \"white\", \"showbackground\": true, \"ticks\": \"\", \"zerolinecolor\": \"white\"}}, \"shapedefaults\": {\"line\": {\"color\": \"#2a3f5f\"}}, \"ternary\": {\"aaxis\": {\"gridcolor\": \"white\", \"linecolor\": \"white\", \"ticks\": \"\"}, \"baxis\": {\"gridcolor\": \"white\", \"linecolor\": \"white\", \"ticks\": \"\"}, \"bgcolor\": \"#E5ECF6\", \"caxis\": {\"gridcolor\": \"white\", \"linecolor\": \"white\", \"ticks\": \"\"}}, \"title\": {\"x\": 0.05}, \"xaxis\": {\"automargin\": true, \"gridcolor\": \"white\", \"linecolor\": \"white\", \"ticks\": \"\", \"title\": {\"standoff\": 15}, \"zerolinecolor\": \"white\", \"zerolinewidth\": 2}, \"yaxis\": {\"automargin\": true, \"gridcolor\": \"white\", \"linecolor\": \"white\", \"ticks\": \"\", \"title\": {\"standoff\": 15}, \"zerolinecolor\": \"white\", \"zerolinewidth\": 2}}}, \"title\": {\"text\": \"Number of positive/negative tweets related to Donald Trump for specific time period\"}, \"xaxis\": {\"title\": {\"text\": \"Time Period\"}}, \"yaxis\": {\"title\": {\"text\": \"Number of Tweets\"}}},\n",
              "                        {\"responsive\": true}\n",
              "                    ).then(function(){\n",
              "                            \n",
              "var gd = document.getElementById('ac6218f7-8c75-474d-a96b-07ed0d941462');\n",
              "var x = new MutationObserver(function (mutations, observer) {{\n",
              "        var display = window.getComputedStyle(gd).display;\n",
              "        if (!display || display === 'none') {{\n",
              "            console.log([gd, 'removed!']);\n",
              "            Plotly.purge(gd);\n",
              "            observer.disconnect();\n",
              "        }}\n",
              "}});\n",
              "\n",
              "// Listen for the removal of the full notebook cells\n",
              "var notebookContainer = gd.closest('#notebook-container');\n",
              "if (notebookContainer) {{\n",
              "    x.observe(notebookContainer, {childList: true});\n",
              "}}\n",
              "\n",
              "// Listen for the clearing of the current output cell\n",
              "var outputEl = gd.closest('.output');\n",
              "if (outputEl) {{\n",
              "    x.observe(outputEl, {childList: true});\n",
              "}}\n",
              "\n",
              "                        })\n",
              "                };\n",
              "                \n",
              "            </script>\n",
              "        </div>\n",
              "</body>\n",
              "</html>"
            ]
          },
          "metadata": {
            "tags": []
          }
        }
      ]
    },
    {
      "cell_type": "code",
      "metadata": {
        "colab": {
          "base_uri": "https://localhost:8080/",
          "height": 542
        },
        "id": "QQpofjMT-zNR",
        "outputId": "e503f89c-840f-44dc-fab2-278699e157e7"
      },
      "source": [
        "ori_biden_data_pos = ori_biden_data[ori_biden_data['predicted sentiment']==1]\n",
        "ori_biden_data_neg = ori_biden_data[ori_biden_data['predicted sentiment']==0]\n",
        "\n",
        "state_a_Biden_pos = ori_biden_data_pos.query('(Candidate == \"Biden\")& (country == \"United States of America\") ').dropna(subset=['state']).groupby(by='state').count().tweet.sort_values(ascending=False).index\n",
        "state_b_Biden_pos = ori_biden_data_pos.query('(Candidate == \"Biden\")& (country == \"United States of America\") ').dropna(subset=['state']).groupby(by='state').count().tweet.sort_values(ascending=False)\n",
        "\n",
        "state_a_Biden_neg = ori_biden_data_neg.query('(Candidate == \"Biden\")& (country == \"United States of America\") ').dropna(subset=['state']).groupby(by='state').count().tweet.sort_values(ascending=False).index\n",
        "state_b_Biden_neg = ori_biden_data_neg.query('(Candidate == \"Biden\")& (country == \"United States of America\")').dropna(subset=['state']).groupby(by='state').count().tweet.sort_values(ascending=False)\n",
        "\n",
        "fig = go.Figure([go.Bar(x=state_a_Biden_pos, y=state_b_Biden_pos, name='Positive Tweets'), go.Bar(x=state_a_Biden_neg, y=state_b_Biden_neg, name='Negative Tweets')])\n",
        "\n",
        "\n",
        "fig.update_layout(title_text='Number of positive/negative tweets that related to Joa Biden for each states')\n",
        "fig.update_xaxes(title='states')\n",
        "fig.update_yaxes(title='number of tweets')\n",
        "fig.show()"
      ],
      "execution_count": null,
      "outputs": [
        {
          "output_type": "display_data",
          "data": {
            "text/html": [
              "<html>\n",
              "<head><meta charset=\"utf-8\" /></head>\n",
              "<body>\n",
              "    <div>\n",
              "            <script src=\"https://cdnjs.cloudflare.com/ajax/libs/mathjax/2.7.5/MathJax.js?config=TeX-AMS-MML_SVG\"></script><script type=\"text/javascript\">if (window.MathJax) {MathJax.Hub.Config({SVG: {font: \"STIX-Web\"}});}</script>\n",
              "                <script type=\"text/javascript\">window.PlotlyConfig = {MathJaxConfig: 'local'};</script>\n",
              "        <script src=\"https://cdn.plot.ly/plotly-latest.min.js\"></script>    \n",
              "            <div id=\"9f8d11a1-e06d-468f-8763-46d6c69763e7\" class=\"plotly-graph-div\" style=\"height:525px; width:100%;\"></div>\n",
              "            <script type=\"text/javascript\">\n",
              "                \n",
              "                    window.PLOTLYENV=window.PLOTLYENV || {};\n",
              "                    \n",
              "                if (document.getElementById(\"9f8d11a1-e06d-468f-8763-46d6c69763e7\")) {\n",
              "                    Plotly.newPlot(\n",
              "                        '9f8d11a1-e06d-468f-8763-46d6c69763e7',\n",
              "                        [{\"name\": \"Positive Tweets\", \"type\": \"bar\", \"x\": [\"California\", \"New York\", \"Florida\", \"Texas\", \"District of Columbia\", \"Illinois\", \"Pennsylvania\", \"New Jersey\", \"Massachusetts\", \"Ohio\", \"North Carolina\", \"Colorado\", \"Georgia\", \"Arizona\", \"Oregon\", \"Washington\", \"Michigan\", \"Missouri\", \"Virginia\", \"Nevada\", \"Tennessee\", \"Maryland\", \"Indiana\", \"Minnesota\", \"Kentucky\", \"Wisconsin\", \"Louisiana\", \"South Carolina\", \"Connecticut\", \"Utah\", \"Kansas\", \"Oklahoma\", \"Alabama\", \"Iowa\", \"Hawaii\", \"Vermont\", \"Arkansas\", \"Idaho\", \"Puerto Rico\", \"New Mexico\", \"North Dakota\", \"Maine\", \"Nebraska\", \"West Virginia\", \"Rhode Island\", \"Mississippi\", \"New Hampshire\", \"Alaska\", \"Wyoming\", \"Delaware\", \"Montana\", \"South Dakota\", \"Guam\"], \"y\": [15556, 12343, 9362, 8806, 5709, 3554, 3475, 2654, 2518, 1989, 1820, 1719, 1601, 1593, 1522, 1472, 1447, 1292, 1285, 1268, 1219, 1171, 961, 922, 828, 763, 630, 575, 569, 544, 506, 482, 458, 457, 403, 367, 340, 308, 282, 275, 237, 224, 202, 166, 155, 153, 152, 152, 146, 121, 101, 52, 2]}, {\"name\": \"Negative Tweets\", \"type\": \"bar\", \"x\": [\"California\", \"New York\", \"Texas\", \"Florida\", \"District of Columbia\", \"Pennsylvania\", \"Illinois\", \"New Jersey\", \"Massachusetts\", \"Ohio\", \"Colorado\", \"Michigan\", \"North Carolina\", \"Oregon\", \"Georgia\", \"Arizona\", \"Washington\", \"Virginia\", \"Nevada\", \"Missouri\", \"Maryland\", \"Tennessee\", \"Minnesota\", \"Wisconsin\", \"Kentucky\", \"Connecticut\", \"Indiana\", \"South Carolina\", \"Vermont\", \"Louisiana\", \"Alabama\", \"Oklahoma\", \"Kansas\", \"Iowa\", \"Idaho\", \"Utah\", \"Hawaii\", \"New Mexico\", \"Puerto Rico\", \"Arkansas\", \"North Dakota\", \"Maine\", \"Nebraska\", \"Delaware\", \"New Hampshire\", \"West Virginia\", \"Rhode Island\", \"Alaska\", \"Wyoming\", \"Mississippi\", \"Montana\", \"South Dakota\", \"Guam\"], \"y\": [10460, 7101, 5424, 4687, 2694, 2548, 2200, 1721, 1650, 1266, 1165, 1126, 1056, 1030, 922, 890, 871, 816, 787, 728, 704, 680, 645, 474, 470, 423, 399, 378, 349, 338, 283, 279, 276, 260, 215, 209, 196, 165, 163, 158, 155, 130, 114, 101, 88, 84, 82, 73, 71, 65, 48, 17, 2]}],\n",
              "                        {\"template\": {\"data\": {\"bar\": [{\"error_x\": {\"color\": \"#2a3f5f\"}, \"error_y\": {\"color\": \"#2a3f5f\"}, \"marker\": {\"line\": {\"color\": \"#E5ECF6\", \"width\": 0.5}}, \"type\": \"bar\"}], \"barpolar\": [{\"marker\": {\"line\": {\"color\": \"#E5ECF6\", \"width\": 0.5}}, \"type\": \"barpolar\"}], \"carpet\": [{\"aaxis\": {\"endlinecolor\": \"#2a3f5f\", \"gridcolor\": \"white\", \"linecolor\": \"white\", \"minorgridcolor\": \"white\", \"startlinecolor\": \"#2a3f5f\"}, \"baxis\": {\"endlinecolor\": \"#2a3f5f\", \"gridcolor\": \"white\", \"linecolor\": \"white\", \"minorgridcolor\": \"white\", \"startlinecolor\": \"#2a3f5f\"}, \"type\": \"carpet\"}], \"choropleth\": [{\"colorbar\": {\"outlinewidth\": 0, \"ticks\": \"\"}, \"type\": \"choropleth\"}], \"contour\": [{\"colorbar\": {\"outlinewidth\": 0, \"ticks\": \"\"}, \"colorscale\": [[0.0, \"#0d0887\"], [0.1111111111111111, \"#46039f\"], [0.2222222222222222, \"#7201a8\"], [0.3333333333333333, \"#9c179e\"], [0.4444444444444444, \"#bd3786\"], [0.5555555555555556, \"#d8576b\"], [0.6666666666666666, \"#ed7953\"], [0.7777777777777778, \"#fb9f3a\"], [0.8888888888888888, \"#fdca26\"], [1.0, \"#f0f921\"]], \"type\": \"contour\"}], \"contourcarpet\": [{\"colorbar\": {\"outlinewidth\": 0, \"ticks\": \"\"}, \"type\": \"contourcarpet\"}], \"heatmap\": [{\"colorbar\": {\"outlinewidth\": 0, \"ticks\": \"\"}, \"colorscale\": [[0.0, \"#0d0887\"], [0.1111111111111111, \"#46039f\"], [0.2222222222222222, \"#7201a8\"], [0.3333333333333333, \"#9c179e\"], [0.4444444444444444, \"#bd3786\"], [0.5555555555555556, \"#d8576b\"], [0.6666666666666666, \"#ed7953\"], [0.7777777777777778, \"#fb9f3a\"], [0.8888888888888888, \"#fdca26\"], [1.0, \"#f0f921\"]], \"type\": \"heatmap\"}], \"heatmapgl\": [{\"colorbar\": {\"outlinewidth\": 0, \"ticks\": \"\"}, \"colorscale\": [[0.0, \"#0d0887\"], [0.1111111111111111, \"#46039f\"], [0.2222222222222222, \"#7201a8\"], [0.3333333333333333, \"#9c179e\"], [0.4444444444444444, \"#bd3786\"], [0.5555555555555556, \"#d8576b\"], [0.6666666666666666, \"#ed7953\"], [0.7777777777777778, \"#fb9f3a\"], [0.8888888888888888, \"#fdca26\"], [1.0, \"#f0f921\"]], \"type\": \"heatmapgl\"}], \"histogram\": [{\"marker\": {\"colorbar\": {\"outlinewidth\": 0, \"ticks\": \"\"}}, \"type\": \"histogram\"}], \"histogram2d\": [{\"colorbar\": {\"outlinewidth\": 0, \"ticks\": \"\"}, \"colorscale\": [[0.0, \"#0d0887\"], [0.1111111111111111, \"#46039f\"], [0.2222222222222222, \"#7201a8\"], [0.3333333333333333, \"#9c179e\"], [0.4444444444444444, \"#bd3786\"], [0.5555555555555556, \"#d8576b\"], [0.6666666666666666, \"#ed7953\"], [0.7777777777777778, \"#fb9f3a\"], [0.8888888888888888, \"#fdca26\"], [1.0, \"#f0f921\"]], \"type\": \"histogram2d\"}], \"histogram2dcontour\": [{\"colorbar\": {\"outlinewidth\": 0, \"ticks\": \"\"}, \"colorscale\": [[0.0, \"#0d0887\"], [0.1111111111111111, \"#46039f\"], [0.2222222222222222, \"#7201a8\"], [0.3333333333333333, \"#9c179e\"], [0.4444444444444444, \"#bd3786\"], [0.5555555555555556, \"#d8576b\"], [0.6666666666666666, \"#ed7953\"], [0.7777777777777778, \"#fb9f3a\"], [0.8888888888888888, \"#fdca26\"], [1.0, \"#f0f921\"]], \"type\": \"histogram2dcontour\"}], \"mesh3d\": [{\"colorbar\": {\"outlinewidth\": 0, \"ticks\": \"\"}, \"type\": \"mesh3d\"}], \"parcoords\": [{\"line\": {\"colorbar\": {\"outlinewidth\": 0, \"ticks\": \"\"}}, \"type\": \"parcoords\"}], \"pie\": [{\"automargin\": true, \"type\": \"pie\"}], \"scatter\": [{\"marker\": {\"colorbar\": {\"outlinewidth\": 0, \"ticks\": \"\"}}, \"type\": \"scatter\"}], \"scatter3d\": [{\"line\": {\"colorbar\": {\"outlinewidth\": 0, \"ticks\": \"\"}}, \"marker\": {\"colorbar\": {\"outlinewidth\": 0, \"ticks\": \"\"}}, \"type\": \"scatter3d\"}], \"scattercarpet\": [{\"marker\": {\"colorbar\": {\"outlinewidth\": 0, \"ticks\": \"\"}}, \"type\": \"scattercarpet\"}], \"scattergeo\": [{\"marker\": {\"colorbar\": {\"outlinewidth\": 0, \"ticks\": \"\"}}, \"type\": \"scattergeo\"}], \"scattergl\": [{\"marker\": {\"colorbar\": {\"outlinewidth\": 0, \"ticks\": \"\"}}, \"type\": \"scattergl\"}], \"scattermapbox\": [{\"marker\": {\"colorbar\": {\"outlinewidth\": 0, \"ticks\": \"\"}}, \"type\": \"scattermapbox\"}], \"scatterpolar\": [{\"marker\": {\"colorbar\": {\"outlinewidth\": 0, \"ticks\": \"\"}}, \"type\": \"scatterpolar\"}], \"scatterpolargl\": [{\"marker\": {\"colorbar\": {\"outlinewidth\": 0, \"ticks\": \"\"}}, \"type\": \"scatterpolargl\"}], \"scatterternary\": [{\"marker\": {\"colorbar\": {\"outlinewidth\": 0, \"ticks\": \"\"}}, \"type\": \"scatterternary\"}], \"surface\": [{\"colorbar\": {\"outlinewidth\": 0, \"ticks\": \"\"}, \"colorscale\": [[0.0, \"#0d0887\"], [0.1111111111111111, \"#46039f\"], [0.2222222222222222, \"#7201a8\"], [0.3333333333333333, \"#9c179e\"], [0.4444444444444444, \"#bd3786\"], [0.5555555555555556, \"#d8576b\"], [0.6666666666666666, \"#ed7953\"], [0.7777777777777778, \"#fb9f3a\"], [0.8888888888888888, \"#fdca26\"], [1.0, \"#f0f921\"]], \"type\": \"surface\"}], \"table\": [{\"cells\": {\"fill\": {\"color\": \"#EBF0F8\"}, \"line\": {\"color\": \"white\"}}, \"header\": {\"fill\": {\"color\": \"#C8D4E3\"}, \"line\": {\"color\": \"white\"}}, \"type\": \"table\"}]}, \"layout\": {\"annotationdefaults\": {\"arrowcolor\": \"#2a3f5f\", \"arrowhead\": 0, \"arrowwidth\": 1}, \"coloraxis\": {\"colorbar\": {\"outlinewidth\": 0, \"ticks\": \"\"}}, \"colorscale\": {\"diverging\": [[0, \"#8e0152\"], [0.1, \"#c51b7d\"], [0.2, \"#de77ae\"], [0.3, \"#f1b6da\"], [0.4, \"#fde0ef\"], [0.5, \"#f7f7f7\"], [0.6, \"#e6f5d0\"], [0.7, \"#b8e186\"], [0.8, \"#7fbc41\"], [0.9, \"#4d9221\"], [1, \"#276419\"]], \"sequential\": [[0.0, \"#0d0887\"], [0.1111111111111111, \"#46039f\"], [0.2222222222222222, \"#7201a8\"], [0.3333333333333333, \"#9c179e\"], [0.4444444444444444, \"#bd3786\"], [0.5555555555555556, \"#d8576b\"], [0.6666666666666666, \"#ed7953\"], [0.7777777777777778, \"#fb9f3a\"], [0.8888888888888888, \"#fdca26\"], [1.0, \"#f0f921\"]], \"sequentialminus\": [[0.0, \"#0d0887\"], [0.1111111111111111, \"#46039f\"], [0.2222222222222222, \"#7201a8\"], [0.3333333333333333, \"#9c179e\"], [0.4444444444444444, \"#bd3786\"], [0.5555555555555556, \"#d8576b\"], [0.6666666666666666, \"#ed7953\"], [0.7777777777777778, \"#fb9f3a\"], [0.8888888888888888, \"#fdca26\"], [1.0, \"#f0f921\"]]}, \"colorway\": [\"#636efa\", \"#EF553B\", \"#00cc96\", \"#ab63fa\", \"#FFA15A\", \"#19d3f3\", \"#FF6692\", \"#B6E880\", \"#FF97FF\", \"#FECB52\"], \"font\": {\"color\": \"#2a3f5f\"}, \"geo\": {\"bgcolor\": \"white\", \"lakecolor\": \"white\", \"landcolor\": \"#E5ECF6\", \"showlakes\": true, \"showland\": true, \"subunitcolor\": \"white\"}, \"hoverlabel\": {\"align\": \"left\"}, \"hovermode\": \"closest\", \"mapbox\": {\"style\": \"light\"}, \"paper_bgcolor\": \"white\", \"plot_bgcolor\": \"#E5ECF6\", \"polar\": {\"angularaxis\": {\"gridcolor\": \"white\", \"linecolor\": \"white\", \"ticks\": \"\"}, \"bgcolor\": \"#E5ECF6\", \"radialaxis\": {\"gridcolor\": \"white\", \"linecolor\": \"white\", \"ticks\": \"\"}}, \"scene\": {\"xaxis\": {\"backgroundcolor\": \"#E5ECF6\", \"gridcolor\": \"white\", \"gridwidth\": 2, \"linecolor\": \"white\", \"showbackground\": true, \"ticks\": \"\", \"zerolinecolor\": \"white\"}, \"yaxis\": {\"backgroundcolor\": \"#E5ECF6\", \"gridcolor\": \"white\", \"gridwidth\": 2, \"linecolor\": \"white\", \"showbackground\": true, \"ticks\": \"\", \"zerolinecolor\": \"white\"}, \"zaxis\": {\"backgroundcolor\": \"#E5ECF6\", \"gridcolor\": \"white\", \"gridwidth\": 2, \"linecolor\": \"white\", \"showbackground\": true, \"ticks\": \"\", \"zerolinecolor\": \"white\"}}, \"shapedefaults\": {\"line\": {\"color\": \"#2a3f5f\"}}, \"ternary\": {\"aaxis\": {\"gridcolor\": \"white\", \"linecolor\": \"white\", \"ticks\": \"\"}, \"baxis\": {\"gridcolor\": \"white\", \"linecolor\": \"white\", \"ticks\": \"\"}, \"bgcolor\": \"#E5ECF6\", \"caxis\": {\"gridcolor\": \"white\", \"linecolor\": \"white\", \"ticks\": \"\"}}, \"title\": {\"x\": 0.05}, \"xaxis\": {\"automargin\": true, \"gridcolor\": \"white\", \"linecolor\": \"white\", \"ticks\": \"\", \"title\": {\"standoff\": 15}, \"zerolinecolor\": \"white\", \"zerolinewidth\": 2}, \"yaxis\": {\"automargin\": true, \"gridcolor\": \"white\", \"linecolor\": \"white\", \"ticks\": \"\", \"title\": {\"standoff\": 15}, \"zerolinecolor\": \"white\", \"zerolinewidth\": 2}}}, \"title\": {\"text\": \"Number of tweets for each states\"}, \"xaxis\": {\"title\": {\"text\": \"states\"}}, \"yaxis\": {\"title\": {\"text\": \"number of tweets\"}}},\n",
              "                        {\"responsive\": true}\n",
              "                    ).then(function(){\n",
              "                            \n",
              "var gd = document.getElementById('9f8d11a1-e06d-468f-8763-46d6c69763e7');\n",
              "var x = new MutationObserver(function (mutations, observer) {{\n",
              "        var display = window.getComputedStyle(gd).display;\n",
              "        if (!display || display === 'none') {{\n",
              "            console.log([gd, 'removed!']);\n",
              "            Plotly.purge(gd);\n",
              "            observer.disconnect();\n",
              "        }}\n",
              "}});\n",
              "\n",
              "// Listen for the removal of the full notebook cells\n",
              "var notebookContainer = gd.closest('#notebook-container');\n",
              "if (notebookContainer) {{\n",
              "    x.observe(notebookContainer, {childList: true});\n",
              "}}\n",
              "\n",
              "// Listen for the clearing of the current output cell\n",
              "var outputEl = gd.closest('.output');\n",
              "if (outputEl) {{\n",
              "    x.observe(outputEl, {childList: true});\n",
              "}}\n",
              "\n",
              "                        })\n",
              "                };\n",
              "                \n",
              "            </script>\n",
              "        </div>\n",
              "</body>\n",
              "</html>"
            ]
          },
          "metadata": {
            "tags": []
          }
        }
      ]
    },
    {
      "cell_type": "code",
      "metadata": {
        "colab": {
          "base_uri": "https://localhost:8080/",
          "height": 542
        },
        "id": "CVstGegUA1Cr",
        "outputId": "d1bb8593-bce9-46ec-91ef-cc78fb86c4d1"
      },
      "source": [
        "ori_trump_data_pos = ori_trump_data[ori_trump_data['predicted sentiment']==1]\n",
        "ori_trump_data_neg = ori_trump_data[ori_trump_data['predicted sentiment']==0]\n",
        "\n",
        "state_a_Trump_pos = ori_trump_data_pos.query('(Candidate == \"Trump\")& (country == \"United States of America\") ').dropna(subset=['state']).groupby(by='state').count().tweet.sort_values(ascending=False).index\n",
        "state_b_Trump_pos = ori_trump_data_pos.query('(Candidate == \"Trump\")& (country == \"United States of America\") ').dropna(subset=['state']).groupby(by='state').count().tweet.sort_values(ascending=False)\n",
        "\n",
        "state_a_Trump_neg = ori_trump_data_neg.query('(Candidate == \"Trump\")& (country == \"United States of America\") ').dropna(subset=['state']).groupby(by='state').count().tweet.sort_values(ascending=False).index\n",
        "state_b_Trump_neg = ori_trump_data_neg.query('(Candidate == \"Trump\")& (country == \"United States of America\")').dropna(subset=['state']).groupby(by='state').count().tweet.sort_values(ascending=False)\n",
        "\n",
        "fig = go.Figure([go.Bar(x=state_a_Trump_pos, y=state_b_Trump_pos, name='Positive Tweets'), go.Bar(x=state_a_Trump_neg, y=state_b_Trump_neg, name='Negative Tweets')])\n",
        "\n",
        "\n",
        "fig.update_layout(title_text='Number of positive/negative tweets that related to Donald Trump for each states')\n",
        "fig.update_xaxes(title='states')\n",
        "fig.update_yaxes(title='number of tweets')\n",
        "fig.show()"
      ],
      "execution_count": null,
      "outputs": [
        {
          "output_type": "display_data",
          "data": {
            "text/html": [
              "<html>\n",
              "<head><meta charset=\"utf-8\" /></head>\n",
              "<body>\n",
              "    <div>\n",
              "            <script src=\"https://cdnjs.cloudflare.com/ajax/libs/mathjax/2.7.5/MathJax.js?config=TeX-AMS-MML_SVG\"></script><script type=\"text/javascript\">if (window.MathJax) {MathJax.Hub.Config({SVG: {font: \"STIX-Web\"}});}</script>\n",
              "                <script type=\"text/javascript\">window.PlotlyConfig = {MathJaxConfig: 'local'};</script>\n",
              "        <script src=\"https://cdn.plot.ly/plotly-latest.min.js\"></script>    \n",
              "            <div id=\"10578a6b-df85-4dc8-b639-3c0aaed9515d\" class=\"plotly-graph-div\" style=\"height:525px; width:100%;\"></div>\n",
              "            <script type=\"text/javascript\">\n",
              "                \n",
              "                    window.PLOTLYENV=window.PLOTLYENV || {};\n",
              "                    \n",
              "                if (document.getElementById(\"10578a6b-df85-4dc8-b639-3c0aaed9515d\")) {\n",
              "                    Plotly.newPlot(\n",
              "                        '10578a6b-df85-4dc8-b639-3c0aaed9515d',\n",
              "                        [{\"name\": \"Positive Tweets\", \"type\": \"bar\", \"x\": [\"California\", \"New York\", \"Texas\", \"Florida\", \"District of Columbia\", \"Pennsylvania\", \"Illinois\", \"Massachusetts\", \"New Jersey\", \"Ohio\", \"Georgia\", \"North Carolina\", \"Arizona\", \"Michigan\", \"Colorado\", \"Nevada\", \"Virginia\", \"Oregon\", \"Maryland\", \"Washington\", \"Tennessee\", \"Missouri\", \"Wisconsin\", \"Indiana\", \"Minnesota\", \"Kentucky\", \"South Carolina\", \"Utah\", \"Louisiana\", \"Connecticut\", \"Kansas\", \"Alabama\", \"Oklahoma\", \"Hawaii\", \"Iowa\", \"Puerto Rico\", \"New Mexico\", \"Arkansas\", \"Idaho\", \"Alaska\", \"Nebraska\", \"New Hampshire\", \"Delaware\", \"Maine\", \"West Virginia\", \"Mississippi\", \"North Dakota\", \"Montana\", \"Rhode Island\", \"Wyoming\", \"Vermont\", \"South Dakota\", \"Guam\"], \"y\": [16026, 13397, 8456, 8169, 4927, 3286, 3272, 2362, 2325, 2161, 1930, 1866, 1852, 1850, 1738, 1389, 1371, 1344, 1308, 1289, 1146, 1133, 1017, 1002, 978, 761, 659, 604, 602, 553, 545, 486, 471, 374, 338, 307, 266, 259, 255, 238, 228, 224, 218, 210, 191, 186, 179, 149, 137, 133, 132, 49, 1]}, {\"name\": \"Negative Tweets\", \"type\": \"bar\", \"x\": [\"California\", \"New York\", \"Texas\", \"Florida\", \"Ohio\", \"Illinois\", \"Pennsylvania\", \"District of Columbia\", \"New Jersey\", \"Georgia\", \"Arizona\", \"Massachusetts\", \"Michigan\", \"North Carolina\", \"Virginia\", \"Tennessee\", \"Colorado\", \"Nevada\", \"Oregon\", \"Washington\", \"Maryland\", \"Minnesota\", \"Missouri\", \"Wisconsin\", \"Indiana\", \"South Carolina\", \"Kentucky\", \"Louisiana\", \"Alabama\", \"Oklahoma\", \"Connecticut\", \"Kansas\", \"Hawaii\", \"Alaska\", \"Puerto Rico\", \"Iowa\", \"Utah\", \"West Virginia\", \"New Hampshire\", \"Arkansas\", \"New Mexico\", \"Idaho\", \"Delaware\", \"Nebraska\", \"North Dakota\", \"Montana\", \"Rhode Island\", \"Maine\", \"Mississippi\", \"Vermont\", \"Wyoming\", \"South Dakota\", \"Guam\"], \"y\": [6417, 5114, 3705, 3022, 1763, 1530, 1437, 1391, 1123, 928, 911, 886, 856, 762, 612, 583, 579, 538, 528, 498, 469, 443, 430, 390, 367, 329, 315, 296, 259, 240, 220, 217, 188, 143, 141, 137, 123, 117, 113, 109, 105, 95, 90, 89, 73, 72, 71, 61, 61, 60, 58, 28, 3]}],\n",
              "                        {\"template\": {\"data\": {\"bar\": [{\"error_x\": {\"color\": \"#2a3f5f\"}, \"error_y\": {\"color\": \"#2a3f5f\"}, \"marker\": {\"line\": {\"color\": \"#E5ECF6\", \"width\": 0.5}}, \"type\": \"bar\"}], \"barpolar\": [{\"marker\": {\"line\": {\"color\": \"#E5ECF6\", \"width\": 0.5}}, \"type\": \"barpolar\"}], \"carpet\": [{\"aaxis\": {\"endlinecolor\": \"#2a3f5f\", \"gridcolor\": \"white\", \"linecolor\": \"white\", \"minorgridcolor\": \"white\", \"startlinecolor\": \"#2a3f5f\"}, \"baxis\": {\"endlinecolor\": \"#2a3f5f\", \"gridcolor\": \"white\", \"linecolor\": \"white\", \"minorgridcolor\": \"white\", \"startlinecolor\": \"#2a3f5f\"}, \"type\": \"carpet\"}], \"choropleth\": [{\"colorbar\": {\"outlinewidth\": 0, \"ticks\": \"\"}, \"type\": \"choropleth\"}], \"contour\": [{\"colorbar\": {\"outlinewidth\": 0, \"ticks\": \"\"}, \"colorscale\": [[0.0, \"#0d0887\"], [0.1111111111111111, \"#46039f\"], [0.2222222222222222, \"#7201a8\"], [0.3333333333333333, \"#9c179e\"], [0.4444444444444444, \"#bd3786\"], [0.5555555555555556, \"#d8576b\"], [0.6666666666666666, \"#ed7953\"], [0.7777777777777778, \"#fb9f3a\"], [0.8888888888888888, \"#fdca26\"], [1.0, \"#f0f921\"]], \"type\": \"contour\"}], \"contourcarpet\": [{\"colorbar\": {\"outlinewidth\": 0, \"ticks\": \"\"}, \"type\": \"contourcarpet\"}], \"heatmap\": [{\"colorbar\": {\"outlinewidth\": 0, \"ticks\": \"\"}, \"colorscale\": [[0.0, \"#0d0887\"], [0.1111111111111111, \"#46039f\"], [0.2222222222222222, \"#7201a8\"], [0.3333333333333333, \"#9c179e\"], [0.4444444444444444, \"#bd3786\"], [0.5555555555555556, \"#d8576b\"], [0.6666666666666666, \"#ed7953\"], [0.7777777777777778, \"#fb9f3a\"], [0.8888888888888888, \"#fdca26\"], [1.0, \"#f0f921\"]], \"type\": \"heatmap\"}], \"heatmapgl\": [{\"colorbar\": {\"outlinewidth\": 0, \"ticks\": \"\"}, \"colorscale\": [[0.0, \"#0d0887\"], [0.1111111111111111, \"#46039f\"], [0.2222222222222222, \"#7201a8\"], [0.3333333333333333, \"#9c179e\"], [0.4444444444444444, \"#bd3786\"], [0.5555555555555556, \"#d8576b\"], [0.6666666666666666, \"#ed7953\"], [0.7777777777777778, \"#fb9f3a\"], [0.8888888888888888, \"#fdca26\"], [1.0, \"#f0f921\"]], \"type\": \"heatmapgl\"}], \"histogram\": [{\"marker\": {\"colorbar\": {\"outlinewidth\": 0, \"ticks\": \"\"}}, \"type\": \"histogram\"}], \"histogram2d\": [{\"colorbar\": {\"outlinewidth\": 0, \"ticks\": \"\"}, \"colorscale\": [[0.0, \"#0d0887\"], [0.1111111111111111, \"#46039f\"], [0.2222222222222222, \"#7201a8\"], [0.3333333333333333, \"#9c179e\"], [0.4444444444444444, \"#bd3786\"], [0.5555555555555556, \"#d8576b\"], [0.6666666666666666, \"#ed7953\"], [0.7777777777777778, \"#fb9f3a\"], [0.8888888888888888, \"#fdca26\"], [1.0, \"#f0f921\"]], \"type\": \"histogram2d\"}], \"histogram2dcontour\": [{\"colorbar\": {\"outlinewidth\": 0, \"ticks\": \"\"}, \"colorscale\": [[0.0, \"#0d0887\"], [0.1111111111111111, \"#46039f\"], [0.2222222222222222, \"#7201a8\"], [0.3333333333333333, \"#9c179e\"], [0.4444444444444444, \"#bd3786\"], [0.5555555555555556, \"#d8576b\"], [0.6666666666666666, \"#ed7953\"], [0.7777777777777778, \"#fb9f3a\"], [0.8888888888888888, \"#fdca26\"], [1.0, \"#f0f921\"]], \"type\": \"histogram2dcontour\"}], \"mesh3d\": [{\"colorbar\": {\"outlinewidth\": 0, \"ticks\": \"\"}, \"type\": \"mesh3d\"}], \"parcoords\": [{\"line\": {\"colorbar\": {\"outlinewidth\": 0, \"ticks\": \"\"}}, \"type\": \"parcoords\"}], \"pie\": [{\"automargin\": true, \"type\": \"pie\"}], \"scatter\": [{\"marker\": {\"colorbar\": {\"outlinewidth\": 0, \"ticks\": \"\"}}, \"type\": \"scatter\"}], \"scatter3d\": [{\"line\": {\"colorbar\": {\"outlinewidth\": 0, \"ticks\": \"\"}}, \"marker\": {\"colorbar\": {\"outlinewidth\": 0, \"ticks\": \"\"}}, \"type\": \"scatter3d\"}], \"scattercarpet\": [{\"marker\": {\"colorbar\": {\"outlinewidth\": 0, \"ticks\": \"\"}}, \"type\": \"scattercarpet\"}], \"scattergeo\": [{\"marker\": {\"colorbar\": {\"outlinewidth\": 0, \"ticks\": \"\"}}, \"type\": \"scattergeo\"}], \"scattergl\": [{\"marker\": {\"colorbar\": {\"outlinewidth\": 0, \"ticks\": \"\"}}, \"type\": \"scattergl\"}], \"scattermapbox\": [{\"marker\": {\"colorbar\": {\"outlinewidth\": 0, \"ticks\": \"\"}}, \"type\": \"scattermapbox\"}], \"scatterpolar\": [{\"marker\": {\"colorbar\": {\"outlinewidth\": 0, \"ticks\": \"\"}}, \"type\": \"scatterpolar\"}], \"scatterpolargl\": [{\"marker\": {\"colorbar\": {\"outlinewidth\": 0, \"ticks\": \"\"}}, \"type\": \"scatterpolargl\"}], \"scatterternary\": [{\"marker\": {\"colorbar\": {\"outlinewidth\": 0, \"ticks\": \"\"}}, \"type\": \"scatterternary\"}], \"surface\": [{\"colorbar\": {\"outlinewidth\": 0, \"ticks\": \"\"}, \"colorscale\": [[0.0, \"#0d0887\"], [0.1111111111111111, \"#46039f\"], [0.2222222222222222, \"#7201a8\"], [0.3333333333333333, \"#9c179e\"], [0.4444444444444444, \"#bd3786\"], [0.5555555555555556, \"#d8576b\"], [0.6666666666666666, \"#ed7953\"], [0.7777777777777778, \"#fb9f3a\"], [0.8888888888888888, \"#fdca26\"], [1.0, \"#f0f921\"]], \"type\": \"surface\"}], \"table\": [{\"cells\": {\"fill\": {\"color\": \"#EBF0F8\"}, \"line\": {\"color\": \"white\"}}, \"header\": {\"fill\": {\"color\": \"#C8D4E3\"}, \"line\": {\"color\": \"white\"}}, \"type\": \"table\"}]}, \"layout\": {\"annotationdefaults\": {\"arrowcolor\": \"#2a3f5f\", \"arrowhead\": 0, \"arrowwidth\": 1}, \"coloraxis\": {\"colorbar\": {\"outlinewidth\": 0, \"ticks\": \"\"}}, \"colorscale\": {\"diverging\": [[0, \"#8e0152\"], [0.1, \"#c51b7d\"], [0.2, \"#de77ae\"], [0.3, \"#f1b6da\"], [0.4, \"#fde0ef\"], [0.5, \"#f7f7f7\"], [0.6, \"#e6f5d0\"], [0.7, \"#b8e186\"], [0.8, \"#7fbc41\"], [0.9, \"#4d9221\"], [1, \"#276419\"]], \"sequential\": [[0.0, \"#0d0887\"], [0.1111111111111111, \"#46039f\"], [0.2222222222222222, \"#7201a8\"], [0.3333333333333333, \"#9c179e\"], [0.4444444444444444, \"#bd3786\"], [0.5555555555555556, \"#d8576b\"], [0.6666666666666666, \"#ed7953\"], [0.7777777777777778, \"#fb9f3a\"], [0.8888888888888888, \"#fdca26\"], [1.0, \"#f0f921\"]], \"sequentialminus\": [[0.0, \"#0d0887\"], [0.1111111111111111, \"#46039f\"], [0.2222222222222222, \"#7201a8\"], [0.3333333333333333, \"#9c179e\"], [0.4444444444444444, \"#bd3786\"], [0.5555555555555556, \"#d8576b\"], [0.6666666666666666, \"#ed7953\"], [0.7777777777777778, \"#fb9f3a\"], [0.8888888888888888, \"#fdca26\"], [1.0, \"#f0f921\"]]}, \"colorway\": [\"#636efa\", \"#EF553B\", \"#00cc96\", \"#ab63fa\", \"#FFA15A\", \"#19d3f3\", \"#FF6692\", \"#B6E880\", \"#FF97FF\", \"#FECB52\"], \"font\": {\"color\": \"#2a3f5f\"}, \"geo\": {\"bgcolor\": \"white\", \"lakecolor\": \"white\", \"landcolor\": \"#E5ECF6\", \"showlakes\": true, \"showland\": true, \"subunitcolor\": \"white\"}, \"hoverlabel\": {\"align\": \"left\"}, \"hovermode\": \"closest\", \"mapbox\": {\"style\": \"light\"}, \"paper_bgcolor\": \"white\", \"plot_bgcolor\": \"#E5ECF6\", \"polar\": {\"angularaxis\": {\"gridcolor\": \"white\", \"linecolor\": \"white\", \"ticks\": \"\"}, \"bgcolor\": \"#E5ECF6\", \"radialaxis\": {\"gridcolor\": \"white\", \"linecolor\": \"white\", \"ticks\": \"\"}}, \"scene\": {\"xaxis\": {\"backgroundcolor\": \"#E5ECF6\", \"gridcolor\": \"white\", \"gridwidth\": 2, \"linecolor\": \"white\", \"showbackground\": true, \"ticks\": \"\", \"zerolinecolor\": \"white\"}, \"yaxis\": {\"backgroundcolor\": \"#E5ECF6\", \"gridcolor\": \"white\", \"gridwidth\": 2, \"linecolor\": \"white\", \"showbackground\": true, \"ticks\": \"\", \"zerolinecolor\": \"white\"}, \"zaxis\": {\"backgroundcolor\": \"#E5ECF6\", \"gridcolor\": \"white\", \"gridwidth\": 2, \"linecolor\": \"white\", \"showbackground\": true, \"ticks\": \"\", \"zerolinecolor\": \"white\"}}, \"shapedefaults\": {\"line\": {\"color\": \"#2a3f5f\"}}, \"ternary\": {\"aaxis\": {\"gridcolor\": \"white\", \"linecolor\": \"white\", \"ticks\": \"\"}, \"baxis\": {\"gridcolor\": \"white\", \"linecolor\": \"white\", \"ticks\": \"\"}, \"bgcolor\": \"#E5ECF6\", \"caxis\": {\"gridcolor\": \"white\", \"linecolor\": \"white\", \"ticks\": \"\"}}, \"title\": {\"x\": 0.05}, \"xaxis\": {\"automargin\": true, \"gridcolor\": \"white\", \"linecolor\": \"white\", \"ticks\": \"\", \"title\": {\"standoff\": 15}, \"zerolinecolor\": \"white\", \"zerolinewidth\": 2}, \"yaxis\": {\"automargin\": true, \"gridcolor\": \"white\", \"linecolor\": \"white\", \"ticks\": \"\", \"title\": {\"standoff\": 15}, \"zerolinecolor\": \"white\", \"zerolinewidth\": 2}}}, \"title\": {\"text\": \"Number of positive/negative tweets that related to Donald Trump for each states\"}, \"xaxis\": {\"title\": {\"text\": \"states\"}}, \"yaxis\": {\"title\": {\"text\": \"number of tweets\"}}},\n",
              "                        {\"responsive\": true}\n",
              "                    ).then(function(){\n",
              "                            \n",
              "var gd = document.getElementById('10578a6b-df85-4dc8-b639-3c0aaed9515d');\n",
              "var x = new MutationObserver(function (mutations, observer) {{\n",
              "        var display = window.getComputedStyle(gd).display;\n",
              "        if (!display || display === 'none') {{\n",
              "            console.log([gd, 'removed!']);\n",
              "            Plotly.purge(gd);\n",
              "            observer.disconnect();\n",
              "        }}\n",
              "}});\n",
              "\n",
              "// Listen for the removal of the full notebook cells\n",
              "var notebookContainer = gd.closest('#notebook-container');\n",
              "if (notebookContainer) {{\n",
              "    x.observe(notebookContainer, {childList: true});\n",
              "}}\n",
              "\n",
              "// Listen for the clearing of the current output cell\n",
              "var outputEl = gd.closest('.output');\n",
              "if (outputEl) {{\n",
              "    x.observe(outputEl, {childList: true});\n",
              "}}\n",
              "\n",
              "                        })\n",
              "                };\n",
              "                \n",
              "            </script>\n",
              "        </div>\n",
              "</body>\n",
              "</html>"
            ]
          },
          "metadata": {
            "tags": []
          }
        }
      ]
    },
    {
      "cell_type": "code",
      "metadata": {
        "colab": {
          "base_uri": "https://localhost:8080/",
          "height": 542
        },
        "id": "V2YasmuuDFk8",
        "outputId": "2c78d6f2-6f9b-4d35-b75b-579d7dce2d36"
      },
      "source": [
        "fig = go.Figure([go.Bar(x=state_a_Biden_pos, y=state_b_Biden_pos, name='Joe Bide'), go.Bar(x=state_a_Trump_pos, y=state_b_Trump_pos, name='Donald Trump')])\n",
        "\n",
        "fig.update_layout(title_text='Number of positive tweets that related to Joe Biden/Donald Trump for each states')\n",
        "fig.update_xaxes(title='states')\n",
        "fig.update_yaxes(title='number of positive tweets')\n",
        "fig.show()"
      ],
      "execution_count": null,
      "outputs": [
        {
          "output_type": "display_data",
          "data": {
            "text/html": [
              "<html>\n",
              "<head><meta charset=\"utf-8\" /></head>\n",
              "<body>\n",
              "    <div>\n",
              "            <script src=\"https://cdnjs.cloudflare.com/ajax/libs/mathjax/2.7.5/MathJax.js?config=TeX-AMS-MML_SVG\"></script><script type=\"text/javascript\">if (window.MathJax) {MathJax.Hub.Config({SVG: {font: \"STIX-Web\"}});}</script>\n",
              "                <script type=\"text/javascript\">window.PlotlyConfig = {MathJaxConfig: 'local'};</script>\n",
              "        <script src=\"https://cdn.plot.ly/plotly-latest.min.js\"></script>    \n",
              "            <div id=\"0f733b2e-8c7a-43f3-998a-b7a89fc2bfff\" class=\"plotly-graph-div\" style=\"height:525px; width:100%;\"></div>\n",
              "            <script type=\"text/javascript\">\n",
              "                \n",
              "                    window.PLOTLYENV=window.PLOTLYENV || {};\n",
              "                    \n",
              "                if (document.getElementById(\"0f733b2e-8c7a-43f3-998a-b7a89fc2bfff\")) {\n",
              "                    Plotly.newPlot(\n",
              "                        '0f733b2e-8c7a-43f3-998a-b7a89fc2bfff',\n",
              "                        [{\"name\": \"Joe Bide\", \"type\": \"bar\", \"x\": [\"California\", \"New York\", \"Florida\", \"Texas\", \"District of Columbia\", \"Illinois\", \"Pennsylvania\", \"New Jersey\", \"Massachusetts\", \"Ohio\", \"North Carolina\", \"Colorado\", \"Georgia\", \"Arizona\", \"Oregon\", \"Washington\", \"Michigan\", \"Missouri\", \"Virginia\", \"Nevada\", \"Tennessee\", \"Maryland\", \"Indiana\", \"Minnesota\", \"Kentucky\", \"Wisconsin\", \"Louisiana\", \"South Carolina\", \"Connecticut\", \"Utah\", \"Kansas\", \"Oklahoma\", \"Alabama\", \"Iowa\", \"Hawaii\", \"Vermont\", \"Arkansas\", \"Idaho\", \"Puerto Rico\", \"New Mexico\", \"North Dakota\", \"Maine\", \"Nebraska\", \"West Virginia\", \"Rhode Island\", \"Mississippi\", \"New Hampshire\", \"Alaska\", \"Wyoming\", \"Delaware\", \"Montana\", \"South Dakota\", \"Guam\"], \"y\": [15556, 12343, 9362, 8806, 5709, 3554, 3475, 2654, 2518, 1989, 1820, 1719, 1601, 1593, 1522, 1472, 1447, 1292, 1285, 1268, 1219, 1171, 961, 922, 828, 763, 630, 575, 569, 544, 506, 482, 458, 457, 403, 367, 340, 308, 282, 275, 237, 224, 202, 166, 155, 153, 152, 152, 146, 121, 101, 52, 2]}, {\"name\": \"Donald Trump\", \"type\": \"bar\", \"x\": [\"California\", \"New York\", \"Texas\", \"Florida\", \"District of Columbia\", \"Pennsylvania\", \"Illinois\", \"Massachusetts\", \"New Jersey\", \"Ohio\", \"Georgia\", \"North Carolina\", \"Arizona\", \"Michigan\", \"Colorado\", \"Nevada\", \"Virginia\", \"Oregon\", \"Maryland\", \"Washington\", \"Tennessee\", \"Missouri\", \"Wisconsin\", \"Indiana\", \"Minnesota\", \"Kentucky\", \"South Carolina\", \"Utah\", \"Louisiana\", \"Connecticut\", \"Kansas\", \"Alabama\", \"Oklahoma\", \"Hawaii\", \"Iowa\", \"Puerto Rico\", \"New Mexico\", \"Arkansas\", \"Idaho\", \"Alaska\", \"Nebraska\", \"New Hampshire\", \"Delaware\", \"Maine\", \"West Virginia\", \"Mississippi\", \"North Dakota\", \"Montana\", \"Rhode Island\", \"Wyoming\", \"Vermont\", \"South Dakota\", \"Guam\"], \"y\": [16026, 13397, 8456, 8169, 4927, 3286, 3272, 2362, 2325, 2161, 1930, 1866, 1852, 1850, 1738, 1389, 1371, 1344, 1308, 1289, 1146, 1133, 1017, 1002, 978, 761, 659, 604, 602, 553, 545, 486, 471, 374, 338, 307, 266, 259, 255, 238, 228, 224, 218, 210, 191, 186, 179, 149, 137, 133, 132, 49, 1]}],\n",
              "                        {\"template\": {\"data\": {\"bar\": [{\"error_x\": {\"color\": \"#2a3f5f\"}, \"error_y\": {\"color\": \"#2a3f5f\"}, \"marker\": {\"line\": {\"color\": \"#E5ECF6\", \"width\": 0.5}}, \"type\": \"bar\"}], \"barpolar\": [{\"marker\": {\"line\": {\"color\": \"#E5ECF6\", \"width\": 0.5}}, \"type\": \"barpolar\"}], \"carpet\": [{\"aaxis\": {\"endlinecolor\": \"#2a3f5f\", \"gridcolor\": \"white\", \"linecolor\": \"white\", \"minorgridcolor\": \"white\", \"startlinecolor\": \"#2a3f5f\"}, \"baxis\": {\"endlinecolor\": \"#2a3f5f\", \"gridcolor\": \"white\", \"linecolor\": \"white\", \"minorgridcolor\": \"white\", \"startlinecolor\": \"#2a3f5f\"}, \"type\": \"carpet\"}], \"choropleth\": [{\"colorbar\": {\"outlinewidth\": 0, \"ticks\": \"\"}, \"type\": \"choropleth\"}], \"contour\": [{\"colorbar\": {\"outlinewidth\": 0, \"ticks\": \"\"}, \"colorscale\": [[0.0, \"#0d0887\"], [0.1111111111111111, \"#46039f\"], [0.2222222222222222, \"#7201a8\"], [0.3333333333333333, \"#9c179e\"], [0.4444444444444444, \"#bd3786\"], [0.5555555555555556, \"#d8576b\"], [0.6666666666666666, \"#ed7953\"], [0.7777777777777778, \"#fb9f3a\"], [0.8888888888888888, \"#fdca26\"], [1.0, \"#f0f921\"]], \"type\": \"contour\"}], \"contourcarpet\": [{\"colorbar\": {\"outlinewidth\": 0, \"ticks\": \"\"}, \"type\": \"contourcarpet\"}], \"heatmap\": [{\"colorbar\": {\"outlinewidth\": 0, \"ticks\": \"\"}, \"colorscale\": [[0.0, \"#0d0887\"], [0.1111111111111111, \"#46039f\"], [0.2222222222222222, \"#7201a8\"], [0.3333333333333333, \"#9c179e\"], [0.4444444444444444, \"#bd3786\"], [0.5555555555555556, \"#d8576b\"], [0.6666666666666666, \"#ed7953\"], [0.7777777777777778, \"#fb9f3a\"], [0.8888888888888888, \"#fdca26\"], [1.0, \"#f0f921\"]], \"type\": \"heatmap\"}], \"heatmapgl\": [{\"colorbar\": {\"outlinewidth\": 0, \"ticks\": \"\"}, \"colorscale\": [[0.0, \"#0d0887\"], [0.1111111111111111, \"#46039f\"], [0.2222222222222222, \"#7201a8\"], [0.3333333333333333, \"#9c179e\"], [0.4444444444444444, \"#bd3786\"], [0.5555555555555556, \"#d8576b\"], [0.6666666666666666, \"#ed7953\"], [0.7777777777777778, \"#fb9f3a\"], [0.8888888888888888, \"#fdca26\"], [1.0, \"#f0f921\"]], \"type\": \"heatmapgl\"}], \"histogram\": [{\"marker\": {\"colorbar\": {\"outlinewidth\": 0, \"ticks\": \"\"}}, \"type\": \"histogram\"}], \"histogram2d\": [{\"colorbar\": {\"outlinewidth\": 0, \"ticks\": \"\"}, \"colorscale\": [[0.0, \"#0d0887\"], [0.1111111111111111, \"#46039f\"], [0.2222222222222222, \"#7201a8\"], [0.3333333333333333, \"#9c179e\"], [0.4444444444444444, \"#bd3786\"], [0.5555555555555556, \"#d8576b\"], [0.6666666666666666, \"#ed7953\"], [0.7777777777777778, \"#fb9f3a\"], [0.8888888888888888, \"#fdca26\"], [1.0, \"#f0f921\"]], \"type\": \"histogram2d\"}], \"histogram2dcontour\": [{\"colorbar\": {\"outlinewidth\": 0, \"ticks\": \"\"}, \"colorscale\": [[0.0, \"#0d0887\"], [0.1111111111111111, \"#46039f\"], [0.2222222222222222, \"#7201a8\"], [0.3333333333333333, \"#9c179e\"], [0.4444444444444444, \"#bd3786\"], [0.5555555555555556, \"#d8576b\"], [0.6666666666666666, \"#ed7953\"], [0.7777777777777778, \"#fb9f3a\"], [0.8888888888888888, \"#fdca26\"], [1.0, \"#f0f921\"]], \"type\": \"histogram2dcontour\"}], \"mesh3d\": [{\"colorbar\": {\"outlinewidth\": 0, \"ticks\": \"\"}, \"type\": \"mesh3d\"}], \"parcoords\": [{\"line\": {\"colorbar\": {\"outlinewidth\": 0, \"ticks\": \"\"}}, \"type\": \"parcoords\"}], \"pie\": [{\"automargin\": true, \"type\": \"pie\"}], \"scatter\": [{\"marker\": {\"colorbar\": {\"outlinewidth\": 0, \"ticks\": \"\"}}, \"type\": \"scatter\"}], \"scatter3d\": [{\"line\": {\"colorbar\": {\"outlinewidth\": 0, \"ticks\": \"\"}}, \"marker\": {\"colorbar\": {\"outlinewidth\": 0, \"ticks\": \"\"}}, \"type\": \"scatter3d\"}], \"scattercarpet\": [{\"marker\": {\"colorbar\": {\"outlinewidth\": 0, \"ticks\": \"\"}}, \"type\": \"scattercarpet\"}], \"scattergeo\": [{\"marker\": {\"colorbar\": {\"outlinewidth\": 0, \"ticks\": \"\"}}, \"type\": \"scattergeo\"}], \"scattergl\": [{\"marker\": {\"colorbar\": {\"outlinewidth\": 0, \"ticks\": \"\"}}, \"type\": \"scattergl\"}], \"scattermapbox\": [{\"marker\": {\"colorbar\": {\"outlinewidth\": 0, \"ticks\": \"\"}}, \"type\": \"scattermapbox\"}], \"scatterpolar\": [{\"marker\": {\"colorbar\": {\"outlinewidth\": 0, \"ticks\": \"\"}}, \"type\": \"scatterpolar\"}], \"scatterpolargl\": [{\"marker\": {\"colorbar\": {\"outlinewidth\": 0, \"ticks\": \"\"}}, \"type\": \"scatterpolargl\"}], \"scatterternary\": [{\"marker\": {\"colorbar\": {\"outlinewidth\": 0, \"ticks\": \"\"}}, \"type\": \"scatterternary\"}], \"surface\": [{\"colorbar\": {\"outlinewidth\": 0, \"ticks\": \"\"}, \"colorscale\": [[0.0, \"#0d0887\"], [0.1111111111111111, \"#46039f\"], [0.2222222222222222, \"#7201a8\"], [0.3333333333333333, \"#9c179e\"], [0.4444444444444444, \"#bd3786\"], [0.5555555555555556, \"#d8576b\"], [0.6666666666666666, \"#ed7953\"], [0.7777777777777778, \"#fb9f3a\"], [0.8888888888888888, \"#fdca26\"], [1.0, \"#f0f921\"]], \"type\": \"surface\"}], \"table\": [{\"cells\": {\"fill\": {\"color\": \"#EBF0F8\"}, \"line\": {\"color\": \"white\"}}, \"header\": {\"fill\": {\"color\": \"#C8D4E3\"}, \"line\": {\"color\": \"white\"}}, \"type\": \"table\"}]}, \"layout\": {\"annotationdefaults\": {\"arrowcolor\": \"#2a3f5f\", \"arrowhead\": 0, \"arrowwidth\": 1}, \"coloraxis\": {\"colorbar\": {\"outlinewidth\": 0, \"ticks\": \"\"}}, \"colorscale\": {\"diverging\": [[0, \"#8e0152\"], [0.1, \"#c51b7d\"], [0.2, \"#de77ae\"], [0.3, \"#f1b6da\"], [0.4, \"#fde0ef\"], [0.5, \"#f7f7f7\"], [0.6, \"#e6f5d0\"], [0.7, \"#b8e186\"], [0.8, \"#7fbc41\"], [0.9, \"#4d9221\"], [1, \"#276419\"]], \"sequential\": [[0.0, \"#0d0887\"], [0.1111111111111111, \"#46039f\"], [0.2222222222222222, \"#7201a8\"], [0.3333333333333333, \"#9c179e\"], [0.4444444444444444, \"#bd3786\"], [0.5555555555555556, \"#d8576b\"], [0.6666666666666666, \"#ed7953\"], [0.7777777777777778, \"#fb9f3a\"], [0.8888888888888888, \"#fdca26\"], [1.0, \"#f0f921\"]], \"sequentialminus\": [[0.0, \"#0d0887\"], [0.1111111111111111, \"#46039f\"], [0.2222222222222222, \"#7201a8\"], [0.3333333333333333, \"#9c179e\"], [0.4444444444444444, \"#bd3786\"], [0.5555555555555556, \"#d8576b\"], [0.6666666666666666, \"#ed7953\"], [0.7777777777777778, \"#fb9f3a\"], [0.8888888888888888, \"#fdca26\"], [1.0, \"#f0f921\"]]}, \"colorway\": [\"#636efa\", \"#EF553B\", \"#00cc96\", \"#ab63fa\", \"#FFA15A\", \"#19d3f3\", \"#FF6692\", \"#B6E880\", \"#FF97FF\", \"#FECB52\"], \"font\": {\"color\": \"#2a3f5f\"}, \"geo\": {\"bgcolor\": \"white\", \"lakecolor\": \"white\", \"landcolor\": \"#E5ECF6\", \"showlakes\": true, \"showland\": true, \"subunitcolor\": \"white\"}, \"hoverlabel\": {\"align\": \"left\"}, \"hovermode\": \"closest\", \"mapbox\": {\"style\": \"light\"}, \"paper_bgcolor\": \"white\", \"plot_bgcolor\": \"#E5ECF6\", \"polar\": {\"angularaxis\": {\"gridcolor\": \"white\", \"linecolor\": \"white\", \"ticks\": \"\"}, \"bgcolor\": \"#E5ECF6\", \"radialaxis\": {\"gridcolor\": \"white\", \"linecolor\": \"white\", \"ticks\": \"\"}}, \"scene\": {\"xaxis\": {\"backgroundcolor\": \"#E5ECF6\", \"gridcolor\": \"white\", \"gridwidth\": 2, \"linecolor\": \"white\", \"showbackground\": true, \"ticks\": \"\", \"zerolinecolor\": \"white\"}, \"yaxis\": {\"backgroundcolor\": \"#E5ECF6\", \"gridcolor\": \"white\", \"gridwidth\": 2, \"linecolor\": \"white\", \"showbackground\": true, \"ticks\": \"\", \"zerolinecolor\": \"white\"}, \"zaxis\": {\"backgroundcolor\": \"#E5ECF6\", \"gridcolor\": \"white\", \"gridwidth\": 2, \"linecolor\": \"white\", \"showbackground\": true, \"ticks\": \"\", \"zerolinecolor\": \"white\"}}, \"shapedefaults\": {\"line\": {\"color\": \"#2a3f5f\"}}, \"ternary\": {\"aaxis\": {\"gridcolor\": \"white\", \"linecolor\": \"white\", \"ticks\": \"\"}, \"baxis\": {\"gridcolor\": \"white\", \"linecolor\": \"white\", \"ticks\": \"\"}, \"bgcolor\": \"#E5ECF6\", \"caxis\": {\"gridcolor\": \"white\", \"linecolor\": \"white\", \"ticks\": \"\"}}, \"title\": {\"x\": 0.05}, \"xaxis\": {\"automargin\": true, \"gridcolor\": \"white\", \"linecolor\": \"white\", \"ticks\": \"\", \"title\": {\"standoff\": 15}, \"zerolinecolor\": \"white\", \"zerolinewidth\": 2}, \"yaxis\": {\"automargin\": true, \"gridcolor\": \"white\", \"linecolor\": \"white\", \"ticks\": \"\", \"title\": {\"standoff\": 15}, \"zerolinecolor\": \"white\", \"zerolinewidth\": 2}}}, \"title\": {\"text\": \"Number of positive tweets that related to Joe Biden/Donald Trump for each states\"}, \"xaxis\": {\"title\": {\"text\": \"states\"}}, \"yaxis\": {\"title\": {\"text\": \"number of positive tweets\"}}},\n",
              "                        {\"responsive\": true}\n",
              "                    ).then(function(){\n",
              "                            \n",
              "var gd = document.getElementById('0f733b2e-8c7a-43f3-998a-b7a89fc2bfff');\n",
              "var x = new MutationObserver(function (mutations, observer) {{\n",
              "        var display = window.getComputedStyle(gd).display;\n",
              "        if (!display || display === 'none') {{\n",
              "            console.log([gd, 'removed!']);\n",
              "            Plotly.purge(gd);\n",
              "            observer.disconnect();\n",
              "        }}\n",
              "}});\n",
              "\n",
              "// Listen for the removal of the full notebook cells\n",
              "var notebookContainer = gd.closest('#notebook-container');\n",
              "if (notebookContainer) {{\n",
              "    x.observe(notebookContainer, {childList: true});\n",
              "}}\n",
              "\n",
              "// Listen for the clearing of the current output cell\n",
              "var outputEl = gd.closest('.output');\n",
              "if (outputEl) {{\n",
              "    x.observe(outputEl, {childList: true});\n",
              "}}\n",
              "\n",
              "                        })\n",
              "                };\n",
              "                \n",
              "            </script>\n",
              "        </div>\n",
              "</body>\n",
              "</html>"
            ]
          },
          "metadata": {
            "tags": []
          }
        }
      ]
    },
    {
      "cell_type": "code",
      "metadata": {
        "colab": {
          "base_uri": "https://localhost:8080/",
          "height": 542
        },
        "id": "zGC8PEAADFJi",
        "outputId": "c2d43343-ee1b-422d-d07a-171f2bad9318"
      },
      "source": [
        "fig = go.Figure([go.Bar(x=state_a_Biden_neg, y=state_b_Biden_neg, name='Joe Bide'), go.Bar(x=state_a_Trump_neg, y=state_b_Trump_neg, name='Donald Trump')])\n",
        "\n",
        "fig.update_layout(title_text='Number of negative tweets that related to Joe Biden/Donald Trump for each states')\n",
        "fig.update_xaxes(title='states')\n",
        "fig.update_yaxes(title='number of negative tweets')\n",
        "fig.show()"
      ],
      "execution_count": null,
      "outputs": [
        {
          "output_type": "display_data",
          "data": {
            "text/html": [
              "<html>\n",
              "<head><meta charset=\"utf-8\" /></head>\n",
              "<body>\n",
              "    <div>\n",
              "            <script src=\"https://cdnjs.cloudflare.com/ajax/libs/mathjax/2.7.5/MathJax.js?config=TeX-AMS-MML_SVG\"></script><script type=\"text/javascript\">if (window.MathJax) {MathJax.Hub.Config({SVG: {font: \"STIX-Web\"}});}</script>\n",
              "                <script type=\"text/javascript\">window.PlotlyConfig = {MathJaxConfig: 'local'};</script>\n",
              "        <script src=\"https://cdn.plot.ly/plotly-latest.min.js\"></script>    \n",
              "            <div id=\"98f722ef-0f28-4a80-9de0-809cf820dc1d\" class=\"plotly-graph-div\" style=\"height:525px; width:100%;\"></div>\n",
              "            <script type=\"text/javascript\">\n",
              "                \n",
              "                    window.PLOTLYENV=window.PLOTLYENV || {};\n",
              "                    \n",
              "                if (document.getElementById(\"98f722ef-0f28-4a80-9de0-809cf820dc1d\")) {\n",
              "                    Plotly.newPlot(\n",
              "                        '98f722ef-0f28-4a80-9de0-809cf820dc1d',\n",
              "                        [{\"name\": \"Joe Bide\", \"type\": \"bar\", \"x\": [\"California\", \"New York\", \"Texas\", \"Florida\", \"District of Columbia\", \"Pennsylvania\", \"Illinois\", \"New Jersey\", \"Massachusetts\", \"Ohio\", \"Colorado\", \"Michigan\", \"North Carolina\", \"Oregon\", \"Georgia\", \"Arizona\", \"Washington\", \"Virginia\", \"Nevada\", \"Missouri\", \"Maryland\", \"Tennessee\", \"Minnesota\", \"Wisconsin\", \"Kentucky\", \"Connecticut\", \"Indiana\", \"South Carolina\", \"Vermont\", \"Louisiana\", \"Alabama\", \"Oklahoma\", \"Kansas\", \"Iowa\", \"Idaho\", \"Utah\", \"Hawaii\", \"New Mexico\", \"Puerto Rico\", \"Arkansas\", \"North Dakota\", \"Maine\", \"Nebraska\", \"Delaware\", \"New Hampshire\", \"West Virginia\", \"Rhode Island\", \"Alaska\", \"Wyoming\", \"Mississippi\", \"Montana\", \"South Dakota\", \"Guam\"], \"y\": [10460, 7101, 5424, 4687, 2694, 2548, 2200, 1721, 1650, 1266, 1165, 1126, 1056, 1030, 922, 890, 871, 816, 787, 728, 704, 680, 645, 474, 470, 423, 399, 378, 349, 338, 283, 279, 276, 260, 215, 209, 196, 165, 163, 158, 155, 130, 114, 101, 88, 84, 82, 73, 71, 65, 48, 17, 2]}, {\"name\": \"Donald Trump\", \"type\": \"bar\", \"x\": [\"California\", \"New York\", \"Texas\", \"Florida\", \"Ohio\", \"Illinois\", \"Pennsylvania\", \"District of Columbia\", \"New Jersey\", \"Georgia\", \"Arizona\", \"Massachusetts\", \"Michigan\", \"North Carolina\", \"Virginia\", \"Tennessee\", \"Colorado\", \"Nevada\", \"Oregon\", \"Washington\", \"Maryland\", \"Minnesota\", \"Missouri\", \"Wisconsin\", \"Indiana\", \"South Carolina\", \"Kentucky\", \"Louisiana\", \"Alabama\", \"Oklahoma\", \"Connecticut\", \"Kansas\", \"Hawaii\", \"Alaska\", \"Puerto Rico\", \"Iowa\", \"Utah\", \"West Virginia\", \"New Hampshire\", \"Arkansas\", \"New Mexico\", \"Idaho\", \"Delaware\", \"Nebraska\", \"North Dakota\", \"Montana\", \"Rhode Island\", \"Maine\", \"Mississippi\", \"Vermont\", \"Wyoming\", \"South Dakota\", \"Guam\"], \"y\": [6417, 5114, 3705, 3022, 1763, 1530, 1437, 1391, 1123, 928, 911, 886, 856, 762, 612, 583, 579, 538, 528, 498, 469, 443, 430, 390, 367, 329, 315, 296, 259, 240, 220, 217, 188, 143, 141, 137, 123, 117, 113, 109, 105, 95, 90, 89, 73, 72, 71, 61, 61, 60, 58, 28, 3]}],\n",
              "                        {\"template\": {\"data\": {\"bar\": [{\"error_x\": {\"color\": \"#2a3f5f\"}, \"error_y\": {\"color\": \"#2a3f5f\"}, \"marker\": {\"line\": {\"color\": \"#E5ECF6\", \"width\": 0.5}}, \"type\": \"bar\"}], \"barpolar\": [{\"marker\": {\"line\": {\"color\": \"#E5ECF6\", \"width\": 0.5}}, \"type\": \"barpolar\"}], \"carpet\": [{\"aaxis\": {\"endlinecolor\": \"#2a3f5f\", \"gridcolor\": \"white\", \"linecolor\": \"white\", \"minorgridcolor\": \"white\", \"startlinecolor\": \"#2a3f5f\"}, \"baxis\": {\"endlinecolor\": \"#2a3f5f\", \"gridcolor\": \"white\", \"linecolor\": \"white\", \"minorgridcolor\": \"white\", \"startlinecolor\": \"#2a3f5f\"}, \"type\": \"carpet\"}], \"choropleth\": [{\"colorbar\": {\"outlinewidth\": 0, \"ticks\": \"\"}, \"type\": \"choropleth\"}], \"contour\": [{\"colorbar\": {\"outlinewidth\": 0, \"ticks\": \"\"}, \"colorscale\": [[0.0, \"#0d0887\"], [0.1111111111111111, \"#46039f\"], [0.2222222222222222, \"#7201a8\"], [0.3333333333333333, \"#9c179e\"], [0.4444444444444444, \"#bd3786\"], [0.5555555555555556, \"#d8576b\"], [0.6666666666666666, \"#ed7953\"], [0.7777777777777778, \"#fb9f3a\"], [0.8888888888888888, \"#fdca26\"], [1.0, \"#f0f921\"]], \"type\": \"contour\"}], \"contourcarpet\": [{\"colorbar\": {\"outlinewidth\": 0, \"ticks\": \"\"}, \"type\": \"contourcarpet\"}], \"heatmap\": [{\"colorbar\": {\"outlinewidth\": 0, \"ticks\": \"\"}, \"colorscale\": [[0.0, \"#0d0887\"], [0.1111111111111111, \"#46039f\"], [0.2222222222222222, \"#7201a8\"], [0.3333333333333333, \"#9c179e\"], [0.4444444444444444, \"#bd3786\"], [0.5555555555555556, \"#d8576b\"], [0.6666666666666666, \"#ed7953\"], [0.7777777777777778, \"#fb9f3a\"], [0.8888888888888888, \"#fdca26\"], [1.0, \"#f0f921\"]], \"type\": \"heatmap\"}], \"heatmapgl\": [{\"colorbar\": {\"outlinewidth\": 0, \"ticks\": \"\"}, \"colorscale\": [[0.0, \"#0d0887\"], [0.1111111111111111, \"#46039f\"], [0.2222222222222222, \"#7201a8\"], [0.3333333333333333, \"#9c179e\"], [0.4444444444444444, \"#bd3786\"], [0.5555555555555556, \"#d8576b\"], [0.6666666666666666, \"#ed7953\"], [0.7777777777777778, \"#fb9f3a\"], [0.8888888888888888, \"#fdca26\"], [1.0, \"#f0f921\"]], \"type\": \"heatmapgl\"}], \"histogram\": [{\"marker\": {\"colorbar\": {\"outlinewidth\": 0, \"ticks\": \"\"}}, \"type\": \"histogram\"}], \"histogram2d\": [{\"colorbar\": {\"outlinewidth\": 0, \"ticks\": \"\"}, \"colorscale\": [[0.0, \"#0d0887\"], [0.1111111111111111, \"#46039f\"], [0.2222222222222222, \"#7201a8\"], [0.3333333333333333, \"#9c179e\"], [0.4444444444444444, \"#bd3786\"], [0.5555555555555556, \"#d8576b\"], [0.6666666666666666, \"#ed7953\"], [0.7777777777777778, \"#fb9f3a\"], [0.8888888888888888, \"#fdca26\"], [1.0, \"#f0f921\"]], \"type\": \"histogram2d\"}], \"histogram2dcontour\": [{\"colorbar\": {\"outlinewidth\": 0, \"ticks\": \"\"}, \"colorscale\": [[0.0, \"#0d0887\"], [0.1111111111111111, \"#46039f\"], [0.2222222222222222, \"#7201a8\"], [0.3333333333333333, \"#9c179e\"], [0.4444444444444444, \"#bd3786\"], [0.5555555555555556, \"#d8576b\"], [0.6666666666666666, \"#ed7953\"], [0.7777777777777778, \"#fb9f3a\"], [0.8888888888888888, \"#fdca26\"], [1.0, \"#f0f921\"]], \"type\": \"histogram2dcontour\"}], \"mesh3d\": [{\"colorbar\": {\"outlinewidth\": 0, \"ticks\": \"\"}, \"type\": \"mesh3d\"}], \"parcoords\": [{\"line\": {\"colorbar\": {\"outlinewidth\": 0, \"ticks\": \"\"}}, \"type\": \"parcoords\"}], \"pie\": [{\"automargin\": true, \"type\": \"pie\"}], \"scatter\": [{\"marker\": {\"colorbar\": {\"outlinewidth\": 0, \"ticks\": \"\"}}, \"type\": \"scatter\"}], \"scatter3d\": [{\"line\": {\"colorbar\": {\"outlinewidth\": 0, \"ticks\": \"\"}}, \"marker\": {\"colorbar\": {\"outlinewidth\": 0, \"ticks\": \"\"}}, \"type\": \"scatter3d\"}], \"scattercarpet\": [{\"marker\": {\"colorbar\": {\"outlinewidth\": 0, \"ticks\": \"\"}}, \"type\": \"scattercarpet\"}], \"scattergeo\": [{\"marker\": {\"colorbar\": {\"outlinewidth\": 0, \"ticks\": \"\"}}, \"type\": \"scattergeo\"}], \"scattergl\": [{\"marker\": {\"colorbar\": {\"outlinewidth\": 0, \"ticks\": \"\"}}, \"type\": \"scattergl\"}], \"scattermapbox\": [{\"marker\": {\"colorbar\": {\"outlinewidth\": 0, \"ticks\": \"\"}}, \"type\": \"scattermapbox\"}], \"scatterpolar\": [{\"marker\": {\"colorbar\": {\"outlinewidth\": 0, \"ticks\": \"\"}}, \"type\": \"scatterpolar\"}], \"scatterpolargl\": [{\"marker\": {\"colorbar\": {\"outlinewidth\": 0, \"ticks\": \"\"}}, \"type\": \"scatterpolargl\"}], \"scatterternary\": [{\"marker\": {\"colorbar\": {\"outlinewidth\": 0, \"ticks\": \"\"}}, \"type\": \"scatterternary\"}], \"surface\": [{\"colorbar\": {\"outlinewidth\": 0, \"ticks\": \"\"}, \"colorscale\": [[0.0, \"#0d0887\"], [0.1111111111111111, \"#46039f\"], [0.2222222222222222, \"#7201a8\"], [0.3333333333333333, \"#9c179e\"], [0.4444444444444444, \"#bd3786\"], [0.5555555555555556, \"#d8576b\"], [0.6666666666666666, \"#ed7953\"], [0.7777777777777778, \"#fb9f3a\"], [0.8888888888888888, \"#fdca26\"], [1.0, \"#f0f921\"]], \"type\": \"surface\"}], \"table\": [{\"cells\": {\"fill\": {\"color\": \"#EBF0F8\"}, \"line\": {\"color\": \"white\"}}, \"header\": {\"fill\": {\"color\": \"#C8D4E3\"}, \"line\": {\"color\": \"white\"}}, \"type\": \"table\"}]}, \"layout\": {\"annotationdefaults\": {\"arrowcolor\": \"#2a3f5f\", \"arrowhead\": 0, \"arrowwidth\": 1}, \"coloraxis\": {\"colorbar\": {\"outlinewidth\": 0, \"ticks\": \"\"}}, \"colorscale\": {\"diverging\": [[0, \"#8e0152\"], [0.1, \"#c51b7d\"], [0.2, \"#de77ae\"], [0.3, \"#f1b6da\"], [0.4, \"#fde0ef\"], [0.5, \"#f7f7f7\"], [0.6, \"#e6f5d0\"], [0.7, \"#b8e186\"], [0.8, \"#7fbc41\"], [0.9, \"#4d9221\"], [1, \"#276419\"]], \"sequential\": [[0.0, \"#0d0887\"], [0.1111111111111111, \"#46039f\"], [0.2222222222222222, \"#7201a8\"], [0.3333333333333333, \"#9c179e\"], [0.4444444444444444, \"#bd3786\"], [0.5555555555555556, \"#d8576b\"], [0.6666666666666666, \"#ed7953\"], [0.7777777777777778, \"#fb9f3a\"], [0.8888888888888888, \"#fdca26\"], [1.0, \"#f0f921\"]], \"sequentialminus\": [[0.0, \"#0d0887\"], [0.1111111111111111, \"#46039f\"], [0.2222222222222222, \"#7201a8\"], [0.3333333333333333, \"#9c179e\"], [0.4444444444444444, \"#bd3786\"], [0.5555555555555556, \"#d8576b\"], [0.6666666666666666, \"#ed7953\"], [0.7777777777777778, \"#fb9f3a\"], [0.8888888888888888, \"#fdca26\"], [1.0, \"#f0f921\"]]}, \"colorway\": [\"#636efa\", \"#EF553B\", \"#00cc96\", \"#ab63fa\", \"#FFA15A\", \"#19d3f3\", \"#FF6692\", \"#B6E880\", \"#FF97FF\", \"#FECB52\"], \"font\": {\"color\": \"#2a3f5f\"}, \"geo\": {\"bgcolor\": \"white\", \"lakecolor\": \"white\", \"landcolor\": \"#E5ECF6\", \"showlakes\": true, \"showland\": true, \"subunitcolor\": \"white\"}, \"hoverlabel\": {\"align\": \"left\"}, \"hovermode\": \"closest\", \"mapbox\": {\"style\": \"light\"}, \"paper_bgcolor\": \"white\", \"plot_bgcolor\": \"#E5ECF6\", \"polar\": {\"angularaxis\": {\"gridcolor\": \"white\", \"linecolor\": \"white\", \"ticks\": \"\"}, \"bgcolor\": \"#E5ECF6\", \"radialaxis\": {\"gridcolor\": \"white\", \"linecolor\": \"white\", \"ticks\": \"\"}}, \"scene\": {\"xaxis\": {\"backgroundcolor\": \"#E5ECF6\", \"gridcolor\": \"white\", \"gridwidth\": 2, \"linecolor\": \"white\", \"showbackground\": true, \"ticks\": \"\", \"zerolinecolor\": \"white\"}, \"yaxis\": {\"backgroundcolor\": \"#E5ECF6\", \"gridcolor\": \"white\", \"gridwidth\": 2, \"linecolor\": \"white\", \"showbackground\": true, \"ticks\": \"\", \"zerolinecolor\": \"white\"}, \"zaxis\": {\"backgroundcolor\": \"#E5ECF6\", \"gridcolor\": \"white\", \"gridwidth\": 2, \"linecolor\": \"white\", \"showbackground\": true, \"ticks\": \"\", \"zerolinecolor\": \"white\"}}, \"shapedefaults\": {\"line\": {\"color\": \"#2a3f5f\"}}, \"ternary\": {\"aaxis\": {\"gridcolor\": \"white\", \"linecolor\": \"white\", \"ticks\": \"\"}, \"baxis\": {\"gridcolor\": \"white\", \"linecolor\": \"white\", \"ticks\": \"\"}, \"bgcolor\": \"#E5ECF6\", \"caxis\": {\"gridcolor\": \"white\", \"linecolor\": \"white\", \"ticks\": \"\"}}, \"title\": {\"x\": 0.05}, \"xaxis\": {\"automargin\": true, \"gridcolor\": \"white\", \"linecolor\": \"white\", \"ticks\": \"\", \"title\": {\"standoff\": 15}, \"zerolinecolor\": \"white\", \"zerolinewidth\": 2}, \"yaxis\": {\"automargin\": true, \"gridcolor\": \"white\", \"linecolor\": \"white\", \"ticks\": \"\", \"title\": {\"standoff\": 15}, \"zerolinecolor\": \"white\", \"zerolinewidth\": 2}}}, \"title\": {\"text\": \"Number of negative tweets that related to Joe Biden/Donald Trump for each states\"}, \"xaxis\": {\"title\": {\"text\": \"states\"}}, \"yaxis\": {\"title\": {\"text\": \"number of negative tweets\"}}},\n",
              "                        {\"responsive\": true}\n",
              "                    ).then(function(){\n",
              "                            \n",
              "var gd = document.getElementById('98f722ef-0f28-4a80-9de0-809cf820dc1d');\n",
              "var x = new MutationObserver(function (mutations, observer) {{\n",
              "        var display = window.getComputedStyle(gd).display;\n",
              "        if (!display || display === 'none') {{\n",
              "            console.log([gd, 'removed!']);\n",
              "            Plotly.purge(gd);\n",
              "            observer.disconnect();\n",
              "        }}\n",
              "}});\n",
              "\n",
              "// Listen for the removal of the full notebook cells\n",
              "var notebookContainer = gd.closest('#notebook-container');\n",
              "if (notebookContainer) {{\n",
              "    x.observe(notebookContainer, {childList: true});\n",
              "}}\n",
              "\n",
              "// Listen for the clearing of the current output cell\n",
              "var outputEl = gd.closest('.output');\n",
              "if (outputEl) {{\n",
              "    x.observe(outputEl, {childList: true});\n",
              "}}\n",
              "\n",
              "                        })\n",
              "                };\n",
              "                \n",
              "            </script>\n",
              "        </div>\n",
              "</body>\n",
              "</html>"
            ]
          },
          "metadata": {
            "tags": []
          }
        }
      ]
    },
    {
      "cell_type": "markdown",
      "metadata": {
        "id": "nULh0pcyPftJ"
      },
      "source": [
        "In the above bar chart, we can see that the California state has the most number of tweets toward two president candidate. So California has much more impact to our analysis.\n",
        "Also, if we focus on California and New York, that are the two most influential state on our data, we can see that Joe Biden has more negative tweets than Trump, also got less positive tweets than Biden."
      ]
    },
    {
      "cell_type": "code",
      "metadata": {
        "colab": {
          "base_uri": "https://localhost:8080/",
          "height": 281
        },
        "id": "09l_eJKRCGQk",
        "outputId": "425f4f3b-5922-45a0-b70d-d4bd74e30637"
      },
      "source": [
        "biden_result = ori_biden_data.groupby('predicted sentiment').likes.count()\n",
        "biden_result.plot(kind='pie')\n",
        "plt.title(\"Positive(1)/Negative(0) Biden Tweet Likes\") #1(orange): positive, 0(blue): negative"
      ],
      "execution_count": null,
      "outputs": [
        {
          "output_type": "execute_result",
          "data": {
            "text/plain": [
              "Text(0.5, 1.0, 'Positive(1)/Negative(0) Biden Tweet Likes')"
            ]
          },
          "metadata": {
            "tags": []
          },
          "execution_count": 116
        },
        {
          "output_type": "display_data",
          "data": {
            "image/png": "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\n",
            "text/plain": [
              "<Figure size 432x288 with 1 Axes>"
            ]
          },
          "metadata": {
            "tags": []
          }
        }
      ]
    },
    {
      "cell_type": "code",
      "metadata": {
        "colab": {
          "base_uri": "https://localhost:8080/",
          "height": 281
        },
        "id": "_jYgxXZhCf0q",
        "outputId": "2e15546b-c644-4761-aec5-f4a4a560b129"
      },
      "source": [
        "trump_result = ori_trump_data.groupby('predicted sentiment').likes.count()\n",
        "trump_result.plot(kind='pie')\n",
        "plt.title(\"Positive(1)/Negative(0) Trump Tweet Likes\") #1(orange): positive, 0(blue): negative"
      ],
      "execution_count": null,
      "outputs": [
        {
          "output_type": "execute_result",
          "data": {
            "text/plain": [
              "Text(0.5, 1.0, 'Positive(1)/Negative(0) Trump Tweet Likes')"
            ]
          },
          "metadata": {
            "tags": []
          },
          "execution_count": 117
        },
        {
          "output_type": "display_data",
          "data": {
            "image/png": "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\n",
            "text/plain": [
              "<Figure size 432x288 with 1 Axes>"
            ]
          },
          "metadata": {
            "tags": []
          }
        }
      ]
    },
    {
      "cell_type": "markdown",
      "metadata": {
        "id": "fk6vcx_ZPp_m"
      },
      "source": [
        "In conclusion, it is much easier to see the overall sentiment analysis about the two candidates’ hashtag tweets through this pie chart. In short, the hashtag tweets about Biden is more negative than about Trump. \n",
        "However, Biden has won the result on the president election. We think that there are many possible factors that our analysis is inconsistent to the election. First of all, it may not imply that if there are more negative hashtag about one candidate, this candidate would has less votes. If we ignore the sentiment, Biden has more hashtag tweets than Trump, it means that more people are discussing Biden. If more people are discussing Biden than trump as a public person, we think that it means Biden has more reputation than Trump. Also, for our model, the accuracy is not pretty high, so maybe there are some neutral tweets that may becomes negative tweets for Biden. And there are lots of uncertainties for the votes. To sum up, our analysis is the reference for two president candidates and we believe it is a very interesting and cutting-edge topic to analysis in this year."
      ]
    }
  ]
}
